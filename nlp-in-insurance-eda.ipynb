{
 "cells": [
  {
   "cell_type": "markdown",
   "metadata": {
    "papermill": {
     "duration": 0.023659,
     "end_time": "2022-02-16T22:09:00.116818",
     "exception": false,
     "start_time": "2022-02-16T22:09:00.093159",
     "status": "completed"
    },
    "tags": []
   },
   "source": [
    "# NLP_applied_in_Insurance: Exploratory_Data_Analysis"
   ]
  },
  {
   "cell_type": "markdown",
   "metadata": {
    "papermill": {
     "duration": 0.021816,
     "end_time": "2022-02-16T22:09:00.163000",
     "exception": false,
     "start_time": "2022-02-16T22:09:00.141184",
     "status": "completed"
    },
    "tags": []
   },
   "source": [
    "# Upload Libraries"
   ]
  },
  {
   "cell_type": "code",
   "execution_count": 1,
   "metadata": {
    "execution": {
     "iopub.execute_input": "2022-02-16T22:09:00.217457Z",
     "iopub.status.busy": "2022-02-16T22:09:00.216676Z",
     "iopub.status.idle": "2022-02-16T22:09:11.626678Z",
     "shell.execute_reply": "2022-02-16T22:09:11.626071Z",
     "shell.execute_reply.started": "2022-02-15T05:00:17.540254Z"
    },
    "papermill": {
     "duration": 11.441879,
     "end_time": "2022-02-16T22:09:11.626846",
     "exception": false,
     "start_time": "2022-02-16T22:09:00.184967",
     "status": "completed"
    },
    "tags": []
   },
   "outputs": [
    {
     "name": "stdout",
     "output_type": "stream",
     "text": [
      "Collecting langdetect\r\n",
      "  Downloading langdetect-1.0.9.tar.gz (981 kB)\r\n",
      "     |████████████████████████████████| 981 kB 884 kB/s            \r\n",
      "\u001b[?25h  Preparing metadata (setup.py) ... \u001b[?25l-\b \bdone\r\n",
      "\u001b[?25hRequirement already satisfied: six in /opt/conda/lib/python3.7/site-packages (from langdetect) (1.16.0)\r\n",
      "Building wheels for collected packages: langdetect\r\n",
      "  Building wheel for langdetect (setup.py) ... \u001b[?25l-\b \b\\\b \b|\b \b/\b \bdone\r\n",
      "\u001b[?25h  Created wheel for langdetect: filename=langdetect-1.0.9-py3-none-any.whl size=993242 sha256=02777e7815ae42cf135eaa7bbc1cd73c89677ef0a924ae9c31a447cc2744160b\r\n",
      "  Stored in directory: /root/.cache/pip/wheels/c5/96/8a/f90c59ed25d75e50a8c10a1b1c2d4c402e4dacfa87f3aff36a\r\n",
      "Successfully built langdetect\r\n",
      "Installing collected packages: langdetect\r\n",
      "Successfully installed langdetect-1.0.9\r\n",
      "\u001b[33mWARNING: Running pip as the 'root' user can result in broken permissions and conflicting behaviour with the system package manager. It is recommended to use a virtual environment instead: https://pip.pypa.io/warnings/venv\u001b[0m\r\n"
     ]
    }
   ],
   "source": [
    "!pip install langdetect"
   ]
  },
  {
   "cell_type": "code",
   "execution_count": 2,
   "metadata": {
    "execution": {
     "iopub.execute_input": "2022-02-16T22:09:11.693970Z",
     "iopub.status.busy": "2022-02-16T22:09:11.689402Z",
     "iopub.status.idle": "2022-02-16T22:09:23.349216Z",
     "shell.execute_reply": "2022-02-16T22:09:23.352727Z",
     "shell.execute_reply.started": "2022-02-15T05:00:25.162952Z"
    },
    "papermill": {
     "duration": 11.698927,
     "end_time": "2022-02-16T22:09:23.353175",
     "exception": false,
     "start_time": "2022-02-16T22:09:11.654248",
     "status": "completed"
    },
    "tags": []
   },
   "outputs": [
    {
     "name": "stdout",
     "output_type": "stream",
     "text": [
      "/kaggle/input/nlp-getting-started/sample_submission.csv\n",
      "/kaggle/input/nlp-getting-started/train.csv\n",
      "/kaggle/input/nlp-getting-started/test.csv\n"
     ]
    }
   ],
   "source": [
    "from numpy.random import seed\n",
    "seed(1)\n",
    "import tensorflow.keras\n",
    "tensorflow.random.set_seed(2)\n",
    "import os\n",
    "os.environ['PYTHONHASHSEED'] = str(0)\n",
    "TF_DETERMINISTIC_OPS=1\n",
    "\n",
    "import pandas as pd\n",
    "import numpy as np\n",
    "import sklearn\n",
    "from sklearn.model_selection import train_test_split\n",
    "from sklearn.metrics import roc_auc_score, f1_score, accuracy_score\n",
    "from sklearn.metrics import auc, roc_curve\n",
    "import matplotlib.pyplot as plt\n",
    "import seaborn as sns\n",
    "import wordcloud\n",
    "from wordcloud import WordCloud\n",
    "from sklearn.metrics import confusion_matrix\n",
    "import re\n",
    "import string\n",
    "import nltk\n",
    "from nltk.corpus import stopwords\n",
    "from gensim.models import Word2Vec \n",
    "import langdetect \n",
    "import spacy\n",
    "from sklearn import feature_extraction, manifold\n",
    "from gensim.parsing.preprocessing import remove_stopwords\n",
    "import gensim.downloader as gensim_api\n",
    "import gensim\n",
    "import os\n",
    "for dirname, _, filenames in os.walk('/kaggle/input'):\n",
    "    for filename in filenames:\n",
    "        print(os.path.join(dirname, filename))\n"
   ]
  },
  {
   "cell_type": "markdown",
   "metadata": {
    "papermill": {
     "duration": 0.026601,
     "end_time": "2022-02-16T22:09:23.409958",
     "exception": false,
     "start_time": "2022-02-16T22:09:23.383357",
     "status": "completed"
    },
    "tags": []
   },
   "source": [
    "# Requirements"
   ]
  },
  {
   "cell_type": "code",
   "execution_count": 3,
   "metadata": {
    "execution": {
     "iopub.execute_input": "2022-02-16T22:09:23.467157Z",
     "iopub.status.busy": "2022-02-16T22:09:23.466628Z",
     "iopub.status.idle": "2022-02-16T22:09:23.469427Z",
     "shell.execute_reply": "2022-02-16T22:09:23.469994Z",
     "shell.execute_reply.started": "2022-02-15T05:00:25.179162Z"
    },
    "papermill": {
     "duration": 0.033522,
     "end_time": "2022-02-16T22:09:23.470163",
     "exception": false,
     "start_time": "2022-02-16T22:09:23.436641",
     "status": "completed"
    },
    "tags": []
   },
   "outputs": [
    {
     "name": "stdout",
     "output_type": "stream",
     "text": [
      "1.19.5\n"
     ]
    }
   ],
   "source": [
    "print(np.__version__)"
   ]
  },
  {
   "cell_type": "code",
   "execution_count": 4,
   "metadata": {
    "execution": {
     "iopub.execute_input": "2022-02-16T22:09:23.528645Z",
     "iopub.status.busy": "2022-02-16T22:09:23.528073Z",
     "iopub.status.idle": "2022-02-16T22:09:23.530771Z",
     "shell.execute_reply": "2022-02-16T22:09:23.531351Z",
     "shell.execute_reply.started": "2022-02-15T05:00:25.189417Z"
    },
    "papermill": {
     "duration": 0.033485,
     "end_time": "2022-02-16T22:09:23.531518",
     "exception": false,
     "start_time": "2022-02-16T22:09:23.498033",
     "status": "completed"
    },
    "tags": []
   },
   "outputs": [
    {
     "name": "stdout",
     "output_type": "stream",
     "text": [
      "1.3.4\n"
     ]
    }
   ],
   "source": [
    "print(pd.__version__)"
   ]
  },
  {
   "cell_type": "code",
   "execution_count": 5,
   "metadata": {
    "execution": {
     "iopub.execute_input": "2022-02-16T22:09:23.590838Z",
     "iopub.status.busy": "2022-02-16T22:09:23.590270Z",
     "iopub.status.idle": "2022-02-16T22:09:23.593071Z",
     "shell.execute_reply": "2022-02-16T22:09:23.593671Z",
     "shell.execute_reply.started": "2022-02-15T05:00:25.197527Z"
    },
    "papermill": {
     "duration": 0.033983,
     "end_time": "2022-02-16T22:09:23.593830",
     "exception": false,
     "start_time": "2022-02-16T22:09:23.559847",
     "status": "completed"
    },
    "tags": []
   },
   "outputs": [
    {
     "name": "stdout",
     "output_type": "stream",
     "text": [
      "0.23.2\n"
     ]
    }
   ],
   "source": [
    "print(sklearn.__version__)"
   ]
  },
  {
   "cell_type": "code",
   "execution_count": 6,
   "metadata": {
    "execution": {
     "iopub.execute_input": "2022-02-16T22:09:23.652921Z",
     "iopub.status.busy": "2022-02-16T22:09:23.652319Z",
     "iopub.status.idle": "2022-02-16T22:09:23.656888Z",
     "shell.execute_reply": "2022-02-16T22:09:23.657423Z",
     "shell.execute_reply.started": "2022-02-15T05:00:25.205631Z"
    },
    "papermill": {
     "duration": 0.035462,
     "end_time": "2022-02-16T22:09:23.657586",
     "exception": false,
     "start_time": "2022-02-16T22:09:23.622124",
     "status": "completed"
    },
    "tags": []
   },
   "outputs": [
    {
     "name": "stdout",
     "output_type": "stream",
     "text": [
      "0.11.2\n"
     ]
    }
   ],
   "source": [
    "print(sns.__version__)"
   ]
  },
  {
   "cell_type": "code",
   "execution_count": 7,
   "metadata": {
    "execution": {
     "iopub.execute_input": "2022-02-16T22:09:23.717871Z",
     "iopub.status.busy": "2022-02-16T22:09:23.717164Z",
     "iopub.status.idle": "2022-02-16T22:09:23.720691Z",
     "shell.execute_reply": "2022-02-16T22:09:23.721253Z",
     "shell.execute_reply.started": "2022-02-15T05:00:25.213536Z"
    },
    "papermill": {
     "duration": 0.035353,
     "end_time": "2022-02-16T22:09:23.721419",
     "exception": false,
     "start_time": "2022-02-16T22:09:23.686066",
     "status": "completed"
    },
    "tags": []
   },
   "outputs": [
    {
     "name": "stdout",
     "output_type": "stream",
     "text": [
      "2.6.0\n"
     ]
    }
   ],
   "source": [
    "print(tensorflow.keras.__version__)"
   ]
  },
  {
   "cell_type": "markdown",
   "metadata": {
    "papermill": {
     "duration": 0.027796,
     "end_time": "2022-02-16T22:09:23.778406",
     "exception": false,
     "start_time": "2022-02-16T22:09:23.750610",
     "status": "completed"
    },
    "tags": []
   },
   "source": [
    "# Upload data set"
   ]
  },
  {
   "cell_type": "code",
   "execution_count": 8,
   "metadata": {
    "execution": {
     "iopub.execute_input": "2022-02-16T22:09:23.839073Z",
     "iopub.status.busy": "2022-02-16T22:09:23.838431Z",
     "iopub.status.idle": "2022-02-16T22:09:23.877748Z",
     "shell.execute_reply": "2022-02-16T22:09:23.878134Z",
     "shell.execute_reply.started": "2022-02-15T05:00:25.221019Z"
    },
    "papermill": {
     "duration": 0.07158,
     "end_time": "2022-02-16T22:09:23.878262",
     "exception": false,
     "start_time": "2022-02-16T22:09:23.806682",
     "status": "completed"
    },
    "tags": []
   },
   "outputs": [],
   "source": [
    "# Reading File\n",
    "df_train = pd.read_csv('/kaggle/input/nlp-getting-started/train.csv')"
   ]
  },
  {
   "cell_type": "markdown",
   "metadata": {
    "papermill": {
     "duration": 0.028695,
     "end_time": "2022-02-16T22:09:23.936129",
     "exception": false,
     "start_time": "2022-02-16T22:09:23.907434",
     "status": "completed"
    },
    "tags": []
   },
   "source": [
    "# Exploratory Data Analysis"
   ]
  },
  {
   "cell_type": "markdown",
   "metadata": {
    "papermill": {
     "duration": 0.028346,
     "end_time": "2022-02-16T22:09:23.992979",
     "exception": false,
     "start_time": "2022-02-16T22:09:23.964633",
     "status": "completed"
    },
    "tags": []
   },
   "source": [
    "### Have a peek of data set"
   ]
  },
  {
   "cell_type": "code",
   "execution_count": 9,
   "metadata": {
    "execution": {
     "iopub.execute_input": "2022-02-16T22:09:24.072611Z",
     "iopub.status.busy": "2022-02-16T22:09:24.071954Z",
     "iopub.status.idle": "2022-02-16T22:09:24.078070Z",
     "shell.execute_reply": "2022-02-16T22:09:24.077274Z",
     "shell.execute_reply.started": "2022-02-15T05:00:25.254701Z"
    },
    "papermill": {
     "duration": 0.057086,
     "end_time": "2022-02-16T22:09:24.078187",
     "exception": false,
     "start_time": "2022-02-16T22:09:24.021101",
     "status": "completed"
    },
    "tags": []
   },
   "outputs": [
    {
     "name": "stdout",
     "output_type": "stream",
     "text": [
      "<class 'pandas.core.frame.DataFrame'>\n",
      "RangeIndex: 7613 entries, 0 to 7612\n",
      "Data columns (total 5 columns):\n",
      " #   Column    Non-Null Count  Dtype \n",
      "---  ------    --------------  ----- \n",
      " 0   id        7613 non-null   int64 \n",
      " 1   keyword   7552 non-null   object\n",
      " 2   location  5080 non-null   object\n",
      " 3   text      7613 non-null   object\n",
      " 4   target    7613 non-null   int64 \n",
      "dtypes: int64(2), object(3)\n",
      "memory usage: 297.5+ KB\n"
     ]
    }
   ],
   "source": [
    "df_train.info()"
   ]
  },
  {
   "cell_type": "code",
   "execution_count": 10,
   "metadata": {
    "execution": {
     "iopub.execute_input": "2022-02-16T22:09:24.144163Z",
     "iopub.status.busy": "2022-02-16T22:09:24.143555Z",
     "iopub.status.idle": "2022-02-16T22:09:24.146485Z",
     "shell.execute_reply": "2022-02-16T22:09:24.146891Z",
     "shell.execute_reply.started": "2022-02-15T05:00:25.276501Z"
    },
    "papermill": {
     "duration": 0.037096,
     "end_time": "2022-02-16T22:09:24.147008",
     "exception": false,
     "start_time": "2022-02-16T22:09:24.109912",
     "status": "completed"
    },
    "tags": []
   },
   "outputs": [
    {
     "data": {
      "text/plain": [
       "(7613, 5)"
      ]
     },
     "execution_count": 10,
     "metadata": {},
     "output_type": "execute_result"
    }
   ],
   "source": [
    "df_train.shape"
   ]
  },
  {
   "cell_type": "code",
   "execution_count": 11,
   "metadata": {
    "execution": {
     "iopub.execute_input": "2022-02-16T22:09:24.209201Z",
     "iopub.status.busy": "2022-02-16T22:09:24.207135Z",
     "iopub.status.idle": "2022-02-16T22:09:24.211626Z",
     "shell.execute_reply": "2022-02-16T22:09:24.212030Z",
     "shell.execute_reply.started": "2022-02-15T05:00:25.285008Z"
    },
    "papermill": {
     "duration": 0.036589,
     "end_time": "2022-02-16T22:09:24.212143",
     "exception": false,
     "start_time": "2022-02-16T22:09:24.175554",
     "status": "completed"
    },
    "tags": []
   },
   "outputs": [
    {
     "data": {
      "text/plain": [
       "Index(['id', 'keyword', 'location', 'text', 'target'], dtype='object')"
      ]
     },
     "execution_count": 11,
     "metadata": {},
     "output_type": "execute_result"
    }
   ],
   "source": [
    "df_train.columns"
   ]
  },
  {
   "cell_type": "code",
   "execution_count": 12,
   "metadata": {
    "execution": {
     "iopub.execute_input": "2022-02-16T22:09:24.273399Z",
     "iopub.status.busy": "2022-02-16T22:09:24.272849Z",
     "iopub.status.idle": "2022-02-16T22:09:24.283639Z",
     "shell.execute_reply": "2022-02-16T22:09:24.283215Z",
     "shell.execute_reply.started": "2022-02-15T05:00:25.295129Z"
    },
    "papermill": {
     "duration": 0.042828,
     "end_time": "2022-02-16T22:09:24.283747",
     "exception": false,
     "start_time": "2022-02-16T22:09:24.240919",
     "status": "completed"
    },
    "tags": []
   },
   "outputs": [
    {
     "data": {
      "text/html": [
       "<div>\n",
       "<style scoped>\n",
       "    .dataframe tbody tr th:only-of-type {\n",
       "        vertical-align: middle;\n",
       "    }\n",
       "\n",
       "    .dataframe tbody tr th {\n",
       "        vertical-align: top;\n",
       "    }\n",
       "\n",
       "    .dataframe thead th {\n",
       "        text-align: right;\n",
       "    }\n",
       "</style>\n",
       "<table border=\"1\" class=\"dataframe\">\n",
       "  <thead>\n",
       "    <tr style=\"text-align: right;\">\n",
       "      <th></th>\n",
       "      <th>id</th>\n",
       "      <th>keyword</th>\n",
       "      <th>location</th>\n",
       "      <th>text</th>\n",
       "      <th>target</th>\n",
       "    </tr>\n",
       "  </thead>\n",
       "  <tbody>\n",
       "    <tr>\n",
       "      <th>0</th>\n",
       "      <td>1</td>\n",
       "      <td>NaN</td>\n",
       "      <td>NaN</td>\n",
       "      <td>Our Deeds are the Reason of this #earthquake M...</td>\n",
       "      <td>1</td>\n",
       "    </tr>\n",
       "    <tr>\n",
       "      <th>1</th>\n",
       "      <td>4</td>\n",
       "      <td>NaN</td>\n",
       "      <td>NaN</td>\n",
       "      <td>Forest fire near La Ronge Sask. Canada</td>\n",
       "      <td>1</td>\n",
       "    </tr>\n",
       "    <tr>\n",
       "      <th>2</th>\n",
       "      <td>5</td>\n",
       "      <td>NaN</td>\n",
       "      <td>NaN</td>\n",
       "      <td>All residents asked to 'shelter in place' are ...</td>\n",
       "      <td>1</td>\n",
       "    </tr>\n",
       "    <tr>\n",
       "      <th>3</th>\n",
       "      <td>6</td>\n",
       "      <td>NaN</td>\n",
       "      <td>NaN</td>\n",
       "      <td>13,000 people receive #wildfires evacuation or...</td>\n",
       "      <td>1</td>\n",
       "    </tr>\n",
       "    <tr>\n",
       "      <th>4</th>\n",
       "      <td>7</td>\n",
       "      <td>NaN</td>\n",
       "      <td>NaN</td>\n",
       "      <td>Just got sent this photo from Ruby #Alaska as ...</td>\n",
       "      <td>1</td>\n",
       "    </tr>\n",
       "  </tbody>\n",
       "</table>\n",
       "</div>"
      ],
      "text/plain": [
       "   id keyword location                                               text  \\\n",
       "0   1     NaN      NaN  Our Deeds are the Reason of this #earthquake M...   \n",
       "1   4     NaN      NaN             Forest fire near La Ronge Sask. Canada   \n",
       "2   5     NaN      NaN  All residents asked to 'shelter in place' are ...   \n",
       "3   6     NaN      NaN  13,000 people receive #wildfires evacuation or...   \n",
       "4   7     NaN      NaN  Just got sent this photo from Ruby #Alaska as ...   \n",
       "\n",
       "   target  \n",
       "0       1  \n",
       "1       1  \n",
       "2       1  \n",
       "3       1  \n",
       "4       1  "
      ]
     },
     "execution_count": 12,
     "metadata": {},
     "output_type": "execute_result"
    }
   ],
   "source": [
    "df_train.head()"
   ]
  },
  {
   "cell_type": "code",
   "execution_count": 13,
   "metadata": {
    "execution": {
     "iopub.execute_input": "2022-02-16T22:09:24.347171Z",
     "iopub.status.busy": "2022-02-16T22:09:24.346575Z",
     "iopub.status.idle": "2022-02-16T22:09:24.380417Z",
     "shell.execute_reply": "2022-02-16T22:09:24.379975Z",
     "shell.execute_reply.started": "2022-02-15T05:00:25.311767Z"
    },
    "papermill": {
     "duration": 0.067569,
     "end_time": "2022-02-16T22:09:24.380532",
     "exception": false,
     "start_time": "2022-02-16T22:09:24.312963",
     "status": "completed"
    },
    "tags": []
   },
   "outputs": [
    {
     "data": {
      "text/html": [
       "<div>\n",
       "<style scoped>\n",
       "    .dataframe tbody tr th:only-of-type {\n",
       "        vertical-align: middle;\n",
       "    }\n",
       "\n",
       "    .dataframe tbody tr th {\n",
       "        vertical-align: top;\n",
       "    }\n",
       "\n",
       "    .dataframe thead th {\n",
       "        text-align: right;\n",
       "    }\n",
       "</style>\n",
       "<table border=\"1\" class=\"dataframe\">\n",
       "  <thead>\n",
       "    <tr style=\"text-align: right;\">\n",
       "      <th></th>\n",
       "      <th>count</th>\n",
       "      <th>unique</th>\n",
       "      <th>top</th>\n",
       "      <th>freq</th>\n",
       "      <th>mean</th>\n",
       "      <th>std</th>\n",
       "      <th>min</th>\n",
       "      <th>25%</th>\n",
       "      <th>50%</th>\n",
       "      <th>75%</th>\n",
       "      <th>max</th>\n",
       "    </tr>\n",
       "  </thead>\n",
       "  <tbody>\n",
       "    <tr>\n",
       "      <th>id</th>\n",
       "      <td>7613.0</td>\n",
       "      <td>NaN</td>\n",
       "      <td>NaN</td>\n",
       "      <td>NaN</td>\n",
       "      <td>5441.934848</td>\n",
       "      <td>3137.11609</td>\n",
       "      <td>1.0</td>\n",
       "      <td>2734.0</td>\n",
       "      <td>5408.0</td>\n",
       "      <td>8146.0</td>\n",
       "      <td>10873.0</td>\n",
       "    </tr>\n",
       "    <tr>\n",
       "      <th>keyword</th>\n",
       "      <td>7552</td>\n",
       "      <td>221</td>\n",
       "      <td>fatalities</td>\n",
       "      <td>45</td>\n",
       "      <td>NaN</td>\n",
       "      <td>NaN</td>\n",
       "      <td>NaN</td>\n",
       "      <td>NaN</td>\n",
       "      <td>NaN</td>\n",
       "      <td>NaN</td>\n",
       "      <td>NaN</td>\n",
       "    </tr>\n",
       "    <tr>\n",
       "      <th>location</th>\n",
       "      <td>5080</td>\n",
       "      <td>3341</td>\n",
       "      <td>USA</td>\n",
       "      <td>104</td>\n",
       "      <td>NaN</td>\n",
       "      <td>NaN</td>\n",
       "      <td>NaN</td>\n",
       "      <td>NaN</td>\n",
       "      <td>NaN</td>\n",
       "      <td>NaN</td>\n",
       "      <td>NaN</td>\n",
       "    </tr>\n",
       "    <tr>\n",
       "      <th>text</th>\n",
       "      <td>7613</td>\n",
       "      <td>7503</td>\n",
       "      <td>11-Year-Old Boy Charged With Manslaughter of T...</td>\n",
       "      <td>10</td>\n",
       "      <td>NaN</td>\n",
       "      <td>NaN</td>\n",
       "      <td>NaN</td>\n",
       "      <td>NaN</td>\n",
       "      <td>NaN</td>\n",
       "      <td>NaN</td>\n",
       "      <td>NaN</td>\n",
       "    </tr>\n",
       "    <tr>\n",
       "      <th>target</th>\n",
       "      <td>7613.0</td>\n",
       "      <td>NaN</td>\n",
       "      <td>NaN</td>\n",
       "      <td>NaN</td>\n",
       "      <td>0.42966</td>\n",
       "      <td>0.49506</td>\n",
       "      <td>0.0</td>\n",
       "      <td>0.0</td>\n",
       "      <td>0.0</td>\n",
       "      <td>1.0</td>\n",
       "      <td>1.0</td>\n",
       "    </tr>\n",
       "  </tbody>\n",
       "</table>\n",
       "</div>"
      ],
      "text/plain": [
       "           count unique                                                top  \\\n",
       "id        7613.0    NaN                                                NaN   \n",
       "keyword     7552    221                                         fatalities   \n",
       "location    5080   3341                                                USA   \n",
       "text        7613   7503  11-Year-Old Boy Charged With Manslaughter of T...   \n",
       "target    7613.0    NaN                                                NaN   \n",
       "\n",
       "         freq         mean         std  min     25%     50%     75%      max  \n",
       "id        NaN  5441.934848  3137.11609  1.0  2734.0  5408.0  8146.0  10873.0  \n",
       "keyword    45          NaN         NaN  NaN     NaN     NaN     NaN      NaN  \n",
       "location  104          NaN         NaN  NaN     NaN     NaN     NaN      NaN  \n",
       "text       10          NaN         NaN  NaN     NaN     NaN     NaN      NaN  \n",
       "target    NaN      0.42966     0.49506  0.0     0.0     0.0     1.0      1.0  "
      ]
     },
     "execution_count": 13,
     "metadata": {},
     "output_type": "execute_result"
    }
   ],
   "source": [
    "df_train.describe(include='all').T"
   ]
  },
  {
   "cell_type": "markdown",
   "metadata": {
    "papermill": {
     "duration": 0.029388,
     "end_time": "2022-02-16T22:09:24.439676",
     "exception": false,
     "start_time": "2022-02-16T22:09:24.410288",
     "status": "completed"
    },
    "tags": []
   },
   "source": [
    "### Target variable analysis "
   ]
  },
  {
   "cell_type": "code",
   "execution_count": 14,
   "metadata": {
    "execution": {
     "iopub.execute_input": "2022-02-16T22:09:24.504660Z",
     "iopub.status.busy": "2022-02-16T22:09:24.503877Z",
     "iopub.status.idle": "2022-02-16T22:09:24.966740Z",
     "shell.execute_reply": "2022-02-16T22:09:24.966242Z",
     "shell.execute_reply.started": "2022-02-15T05:00:25.348004Z"
    },
    "papermill": {
     "duration": 0.497717,
     "end_time": "2022-02-16T22:09:24.966872",
     "exception": false,
     "start_time": "2022-02-16T22:09:24.469155",
     "status": "completed"
    },
    "tags": []
   },
   "outputs": [
    {
     "data": {
      "image/png": "[encoded data removed]",
      "text/plain": [
       "<Figure size 1000x500 with 2 Axes>"
      ]
     },
     "metadata": {
      "needs_background": "light"
     },
     "output_type": "display_data"
    }
   ],
   "source": [
    "# Plot the target variable \n",
    "fig, axes = plt.subplots(ncols=2, figsize=(10, 5), dpi=100)\n",
    "pieplot = df_train.groupby('target').count()['id'].plot(kind='pie',ax=axes[0]).set_title(\"Pie Target Variable Distribution\")\n",
    "barplot = sns.countplot(x=df_train['target'], data=df_train, ax=axes[1]).set_title(\"Barplot Target Variable Distribution\")\n",
    "\n",
    "axes[0].set_ylabel('')\n",
    "\n",
    "plt.show()"
   ]
  },
  {
   "cell_type": "code",
   "execution_count": 15,
   "metadata": {
    "execution": {
     "iopub.execute_input": "2022-02-16T22:09:25.036464Z",
     "iopub.status.busy": "2022-02-16T22:09:25.035647Z",
     "iopub.status.idle": "2022-02-16T22:09:25.076674Z",
     "shell.execute_reply": "2022-02-16T22:09:25.077178Z",
     "shell.execute_reply.started": "2022-02-15T05:00:25.612443Z"
    },
    "papermill": {
     "duration": 0.077131,
     "end_time": "2022-02-16T22:09:25.077386",
     "exception": false,
     "start_time": "2022-02-16T22:09:25.000255",
     "status": "completed"
    },
    "tags": []
   },
   "outputs": [
    {
     "data": {
      "text/html": [
       "<div>\n",
       "<style scoped>\n",
       "    .dataframe tbody tr th:only-of-type {\n",
       "        vertical-align: middle;\n",
       "    }\n",
       "\n",
       "    .dataframe tbody tr th {\n",
       "        vertical-align: top;\n",
       "    }\n",
       "\n",
       "    .dataframe thead th {\n",
       "        text-align: right;\n",
       "    }\n",
       "</style>\n",
       "<table border=\"1\" class=\"dataframe\">\n",
       "  <thead>\n",
       "    <tr style=\"text-align: right;\">\n",
       "      <th>col_0</th>\n",
       "      <th>count</th>\n",
       "      <th>frequency</th>\n",
       "    </tr>\n",
       "    <tr>\n",
       "      <th>target</th>\n",
       "      <th></th>\n",
       "      <th></th>\n",
       "    </tr>\n",
       "  </thead>\n",
       "  <tbody>\n",
       "    <tr>\n",
       "      <th>0</th>\n",
       "      <td>4342</td>\n",
       "      <td>0.57034</td>\n",
       "    </tr>\n",
       "    <tr>\n",
       "      <th>1</th>\n",
       "      <td>3271</td>\n",
       "      <td>0.42966</td>\n",
       "    </tr>\n",
       "  </tbody>\n",
       "</table>\n",
       "</div>"
      ],
      "text/plain": [
       "col_0   count  frequency\n",
       "target                  \n",
       "0        4342    0.57034\n",
       "1        3271    0.42966"
      ]
     },
     "execution_count": 15,
     "metadata": {},
     "output_type": "execute_result"
    }
   ],
   "source": [
    "# Summarize the class distribution \n",
    "count = pd.crosstab(index = df_train['target'], columns=\"count\")\n",
    "percentage = pd.crosstab(index = df_train['target'], \n",
    "                         columns=\"frequency\")/pd.crosstab(index = df_train['target'], columns=\"frequency\").sum()\n",
    "pd.concat([count, percentage], axis=1)"
   ]
  },
  {
   "cell_type": "markdown",
   "metadata": {
    "papermill": {
     "duration": 0.030676,
     "end_time": "2022-02-16T22:09:25.143200",
     "exception": false,
     "start_time": "2022-02-16T22:09:25.112524",
     "status": "completed"
    },
    "tags": []
   },
   "source": [
    "### Keyword and Location variable analysis"
   ]
  },
  {
   "cell_type": "code",
   "execution_count": 16,
   "metadata": {
    "execution": {
     "iopub.execute_input": "2022-02-16T22:09:25.214484Z",
     "iopub.status.busy": "2022-02-16T22:09:25.211279Z",
     "iopub.status.idle": "2022-02-16T22:09:25.364860Z",
     "shell.execute_reply": "2022-02-16T22:09:25.365368Z",
     "shell.execute_reply.started": "2022-02-15T05:00:25.658415Z"
    },
    "papermill": {
     "duration": 0.191145,
     "end_time": "2022-02-16T22:09:25.365617",
     "exception": false,
     "start_time": "2022-02-16T22:09:25.174472",
     "status": "completed"
    },
    "tags": []
   },
   "outputs": [
    {
     "data": {
      "image/png": "[encoded data removed]",
      "text/plain": [
       "<Figure size 720x360 with 1 Axes>"
      ]
     },
     "metadata": {
      "needs_background": "light"
     },
     "output_type": "display_data"
    }
   ],
   "source": [
    "missing_cols = ['keyword', 'location']\n",
    "\n",
    "fig = plt.figure(figsize = (10, 5))\n",
    "sns.barplot(x=df_train[missing_cols].isnull().sum().index, y=df_train[missing_cols].isnull().sum().values)\n",
    "plt.xlabel('Missing Value Count', size=15, labelpad=20)\n",
    "plt.title('Missing Values on keyword and location', fontsize=10)\n",
    "\n",
    "plt.show()\n"
   ]
  },
  {
   "cell_type": "code",
   "execution_count": 17,
   "metadata": {
    "execution": {
     "iopub.execute_input": "2022-02-16T22:09:25.436272Z",
     "iopub.status.busy": "2022-02-16T22:09:25.435550Z",
     "iopub.status.idle": "2022-02-16T22:09:25.441182Z",
     "shell.execute_reply": "2022-02-16T22:09:25.441615Z",
     "shell.execute_reply.started": "2022-02-15T05:00:26.193722Z"
    },
    "papermill": {
     "duration": 0.042185,
     "end_time": "2022-02-16T22:09:25.441735",
     "exception": false,
     "start_time": "2022-02-16T22:09:25.399550",
     "status": "completed"
    },
    "tags": []
   },
   "outputs": [
    {
     "data": {
      "text/plain": [
       "fatalities               45\n",
       "deluge                   42\n",
       "armageddon               42\n",
       "sinking                  41\n",
       "damage                   41\n",
       "                         ..\n",
       "forest%20fire            19\n",
       "epicentre                12\n",
       "threat                   11\n",
       "inundation               10\n",
       "radiation%20emergency     9\n",
       "Name: keyword, Length: 221, dtype: int64"
      ]
     },
     "execution_count": 17,
     "metadata": {},
     "output_type": "execute_result"
    }
   ],
   "source": [
    "df_train['keyword'].value_counts()"
   ]
  },
  {
   "cell_type": "code",
   "execution_count": 18,
   "metadata": {
    "execution": {
     "iopub.execute_input": "2022-02-16T22:09:25.521092Z",
     "iopub.status.busy": "2022-02-16T22:09:25.513360Z",
     "iopub.status.idle": "2022-02-16T22:09:25.808195Z",
     "shell.execute_reply": "2022-02-16T22:09:25.805663Z",
     "shell.execute_reply.started": "2022-02-15T05:00:26.206668Z"
    },
    "papermill": {
     "duration": 0.334817,
     "end_time": "2022-02-16T22:09:25.808392",
     "exception": false,
     "start_time": "2022-02-16T22:09:25.473575",
     "status": "completed"
    },
    "tags": []
   },
   "outputs": [
    {
     "data": {
      "image/png": "[encoded data removed]",
      "text/plain": [
       "<Figure size 1080x360 with 1 Axes>"
      ]
     },
     "metadata": {
      "needs_background": "light"
     },
     "output_type": "display_data"
    }
   ],
   "source": [
    "cnt_keyword = df_train['keyword'].value_counts()\n",
    "top_15 = cnt_keyword.nlargest(15)\n",
    "plt.figure(figsize=(15,5))\n",
    "sns.barplot(x=top_15.index, y=top_15.values)\n",
    "plt.ylabel('Number of Occurrences', fontsize=10)\n",
    "plt.xlabel('Keyword', fontsize=10)\n",
    "plt.xticks(rotation=45)\n",
    "plt.show()"
   ]
  },
  {
   "cell_type": "code",
   "execution_count": 19,
   "metadata": {
    "execution": {
     "iopub.execute_input": "2022-02-16T22:09:25.918522Z",
     "iopub.status.busy": "2022-02-16T22:09:25.917708Z",
     "iopub.status.idle": "2022-02-16T22:09:25.927196Z",
     "shell.execute_reply": "2022-02-16T22:09:25.927734Z",
     "shell.execute_reply.started": "2022-02-15T05:00:26.505893Z"
    },
    "papermill": {
     "duration": 0.06685,
     "end_time": "2022-02-16T22:09:25.927882",
     "exception": false,
     "start_time": "2022-02-16T22:09:25.861032",
     "status": "completed"
    },
    "tags": []
   },
   "outputs": [
    {
     "data": {
      "text/plain": [
       "USA                    104\n",
       "New York                71\n",
       "United States           50\n",
       "London                  45\n",
       "Canada                  29\n",
       "                      ... \n",
       "MontrÌ©al, QuÌ©bec       1\n",
       "Montreal                 1\n",
       "ÌÏT: 6.4682,3.18287      1\n",
       "Live4Heed??              1\n",
       "Lincoln                  1\n",
       "Name: location, Length: 3341, dtype: int64"
      ]
     },
     "execution_count": 19,
     "metadata": {},
     "output_type": "execute_result"
    }
   ],
   "source": [
    "df_train['location'].value_counts()"
   ]
  },
  {
   "cell_type": "code",
   "execution_count": 20,
   "metadata": {
    "execution": {
     "iopub.execute_input": "2022-02-16T22:09:26.040779Z",
     "iopub.status.busy": "2022-02-16T22:09:26.040073Z",
     "iopub.status.idle": "2022-02-16T22:09:26.405506Z",
     "shell.execute_reply": "2022-02-16T22:09:26.406099Z",
     "shell.execute_reply.started": "2022-02-15T05:00:26.523606Z"
    },
    "papermill": {
     "duration": 0.425344,
     "end_time": "2022-02-16T22:09:26.406304",
     "exception": false,
     "start_time": "2022-02-16T22:09:25.980960",
     "status": "completed"
    },
    "tags": []
   },
   "outputs": [
    {
     "data": {
      "image/png": "[encoded data removed]",
      "text/plain": [
       "<Figure size 1080x360 with 1 Axes>"
      ]
     },
     "metadata": {
      "needs_background": "light"
     },
     "output_type": "display_data"
    }
   ],
   "source": [
    "cnt_location = df_train['location'].value_counts()\n",
    "top_15 = cnt_location.nlargest(15)\n",
    "plt.figure(figsize=(15,5))\n",
    "sns.barplot(x=top_15.index, y=top_15.values)\n",
    "plt.ylabel('Number of Occurrences', fontsize=10)\n",
    "plt.xlabel('Location', fontsize=10)\n",
    "plt.xticks(rotation=45)\n",
    "plt.show()"
   ]
  },
  {
   "cell_type": "markdown",
   "metadata": {
    "papermill": {
     "duration": 0.056207,
     "end_time": "2022-02-16T22:09:26.518680",
     "exception": false,
     "start_time": "2022-02-16T22:09:26.462473",
     "status": "completed"
    },
    "tags": []
   },
   "source": [
    "### Language Detection"
   ]
  },
  {
   "cell_type": "code",
   "execution_count": 21,
   "metadata": {
    "execution": {
     "iopub.execute_input": "2022-02-16T22:09:26.641702Z",
     "iopub.status.busy": "2022-02-16T22:09:26.640945Z",
     "iopub.status.idle": "2022-02-16T22:09:27.079129Z",
     "shell.execute_reply": "2022-02-16T22:09:27.079779Z",
     "shell.execute_reply.started": "2022-02-15T05:00:26.791454Z"
    },
    "papermill": {
     "duration": 0.505511,
     "end_time": "2022-02-16T22:09:27.079934",
     "exception": false,
     "start_time": "2022-02-16T22:09:26.574423",
     "status": "completed"
    },
    "tags": []
   },
   "outputs": [
    {
     "name": "stdout",
     "output_type": "stream",
     "text": [
      "Our Deeds are the Reason of this #earthquake May ALLAH Forgive us all  -->  en\n"
     ]
    }
   ],
   "source": [
    "txt = df_train[\"text\"].iloc[0]\n",
    "print(txt, \" --> \", langdetect.detect(txt))"
   ]
  },
  {
   "cell_type": "code",
   "execution_count": 22,
   "metadata": {
    "execution": {
     "iopub.execute_input": "2022-02-16T22:09:27.158164Z",
     "iopub.status.busy": "2022-02-16T22:09:27.157370Z",
     "iopub.status.idle": "2022-02-16T22:10:26.043749Z",
     "shell.execute_reply": "2022-02-16T22:10:26.044182Z",
     "shell.execute_reply.started": "2022-02-15T05:00:26.805746Z"
    },
    "papermill": {
     "duration": 58.929408,
     "end_time": "2022-02-16T22:10:26.044377",
     "exception": false,
     "start_time": "2022-02-16T22:09:27.114969",
     "status": "completed"
    },
    "tags": []
   },
   "outputs": [
    {
     "data": {
      "text/html": [
       "<div>\n",
       "<style scoped>\n",
       "    .dataframe tbody tr th:only-of-type {\n",
       "        vertical-align: middle;\n",
       "    }\n",
       "\n",
       "    .dataframe tbody tr th {\n",
       "        vertical-align: top;\n",
       "    }\n",
       "\n",
       "    .dataframe thead th {\n",
       "        text-align: right;\n",
       "    }\n",
       "</style>\n",
       "<table border=\"1\" class=\"dataframe\">\n",
       "  <thead>\n",
       "    <tr style=\"text-align: right;\">\n",
       "      <th></th>\n",
       "      <th>id</th>\n",
       "      <th>keyword</th>\n",
       "      <th>location</th>\n",
       "      <th>text</th>\n",
       "      <th>target</th>\n",
       "      <th>lang</th>\n",
       "    </tr>\n",
       "  </thead>\n",
       "  <tbody>\n",
       "    <tr>\n",
       "      <th>0</th>\n",
       "      <td>1</td>\n",
       "      <td>NaN</td>\n",
       "      <td>NaN</td>\n",
       "      <td>Our Deeds are the Reason of this #earthquake M...</td>\n",
       "      <td>1</td>\n",
       "      <td>en</td>\n",
       "    </tr>\n",
       "    <tr>\n",
       "      <th>1</th>\n",
       "      <td>4</td>\n",
       "      <td>NaN</td>\n",
       "      <td>NaN</td>\n",
       "      <td>Forest fire near La Ronge Sask. Canada</td>\n",
       "      <td>1</td>\n",
       "      <td>en</td>\n",
       "    </tr>\n",
       "    <tr>\n",
       "      <th>2</th>\n",
       "      <td>5</td>\n",
       "      <td>NaN</td>\n",
       "      <td>NaN</td>\n",
       "      <td>All residents asked to 'shelter in place' are ...</td>\n",
       "      <td>1</td>\n",
       "      <td>en</td>\n",
       "    </tr>\n",
       "    <tr>\n",
       "      <th>3</th>\n",
       "      <td>6</td>\n",
       "      <td>NaN</td>\n",
       "      <td>NaN</td>\n",
       "      <td>13,000 people receive #wildfires evacuation or...</td>\n",
       "      <td>1</td>\n",
       "      <td>en</td>\n",
       "    </tr>\n",
       "    <tr>\n",
       "      <th>4</th>\n",
       "      <td>7</td>\n",
       "      <td>NaN</td>\n",
       "      <td>NaN</td>\n",
       "      <td>Just got sent this photo from Ruby #Alaska as ...</td>\n",
       "      <td>1</td>\n",
       "      <td>en</td>\n",
       "    </tr>\n",
       "  </tbody>\n",
       "</table>\n",
       "</div>"
      ],
      "text/plain": [
       "   id keyword location                                               text  \\\n",
       "0   1     NaN      NaN  Our Deeds are the Reason of this #earthquake M...   \n",
       "1   4     NaN      NaN             Forest fire near La Ronge Sask. Canada   \n",
       "2   5     NaN      NaN  All residents asked to 'shelter in place' are ...   \n",
       "3   6     NaN      NaN  13,000 people receive #wildfires evacuation or...   \n",
       "4   7     NaN      NaN  Just got sent this photo from Ruby #Alaska as ...   \n",
       "\n",
       "   target lang  \n",
       "0       1   en  \n",
       "1       1   en  \n",
       "2       1   en  \n",
       "3       1   en  \n",
       "4       1   en  "
      ]
     },
     "execution_count": 22,
     "metadata": {},
     "output_type": "execute_result"
    }
   ],
   "source": [
    "df_train['lang'] = df_train[\"text\"].apply(lambda x: langdetect.detect(x) if \n",
    "                                 x.strip() != \"\" else \"\")\n",
    "df_train.head()"
   ]
  },
  {
   "cell_type": "code",
   "execution_count": 23,
   "metadata": {
    "execution": {
     "iopub.execute_input": "2022-02-16T22:10:26.128990Z",
     "iopub.status.busy": "2022-02-16T22:10:26.127986Z",
     "iopub.status.idle": "2022-02-16T22:10:26.299991Z",
     "shell.execute_reply": "2022-02-16T22:10:26.300391Z",
     "shell.execute_reply.started": "2022-02-15T05:01:27.662983Z"
    },
    "papermill": {
     "duration": 0.219872,
     "end_time": "2022-02-16T22:10:26.300550",
     "exception": false,
     "start_time": "2022-02-16T22:10:26.080678",
     "status": "completed"
    },
    "tags": []
   },
   "outputs": [
    {
     "data": {
      "image/png": "[encoded data removed]",
      "text/plain": [
       "<Figure size 720x360 with 1 Axes>"
      ]
     },
     "metadata": {
      "needs_background": "light"
     },
     "output_type": "display_data"
    }
   ],
   "source": [
    "cnt_language = df_train['lang'].value_counts()\n",
    "top_5 = cnt_language.nlargest(5)\n",
    "plt.figure(figsize=(10,5))\n",
    "sns.barplot(x=top_5.index, y=top_5.values)\n",
    "plt.ylabel('Number of Occurrences', fontsize=10)\n",
    "plt.xlabel('Language', fontsize=10)\n",
    "plt.xticks(rotation=45)\n",
    "plt.show()"
   ]
  },
  {
   "cell_type": "markdown",
   "metadata": {
    "papermill": {
     "duration": 0.035522,
     "end_time": "2022-02-16T22:10:26.372223",
     "exception": false,
     "start_time": "2022-02-16T22:10:26.336701",
     "status": "completed"
    },
    "tags": []
   },
   "source": [
    "### Length Analysis"
   ]
  },
  {
   "cell_type": "code",
   "execution_count": 24,
   "metadata": {
    "execution": {
     "iopub.execute_input": "2022-02-16T22:10:26.446965Z",
     "iopub.status.busy": "2022-02-16T22:10:26.446132Z",
     "iopub.status.idle": "2022-02-16T22:10:26.925724Z",
     "shell.execute_reply": "2022-02-16T22:10:26.925074Z",
     "shell.execute_reply.started": "2022-02-15T05:01:27.871063Z"
    },
    "papermill": {
     "duration": 0.517592,
     "end_time": "2022-02-16T22:10:26.925863",
     "exception": false,
     "start_time": "2022-02-16T22:10:26.408271",
     "status": "completed"
    },
    "tags": []
   },
   "outputs": [],
   "source": [
    "# word_count\n",
    "df_train['word_count'] = df_train['text'].apply(lambda x: len(str(x).split()))\n",
    "\n",
    "# unique_word_count\n",
    "df_train['unique_word_count'] = df_train['text'].apply(lambda x: len(set(str(x).split())))\n",
    "\n",
    "# stop_word_count\n",
    "all_stop_words = stopwords.words('english')\n",
    "df_train['stop_word_count'] = df_train['text'].apply(lambda x: len([w for w in str(x).lower().split() if w in all_stop_words]))\n",
    "\n",
    "# url_count\n",
    "df_train['url_count'] = df_train['text'].apply(lambda x: len([w for w in str(x).lower().split() if 'http' in w or 'https' in w]))\n",
    "\n",
    "# mean_word_length\n",
    "df_train['mean_word_length'] = df_train['text'].apply(lambda x: np.mean([len(w) for w in str(x).split()]))\n",
    "\n",
    "# hashtag_count\n",
    "df_train['hashtag_count'] = df_train['text'].apply(lambda x: len([c for c in str(x) if c == '#']))\n",
    "\n",
    "# mention_count\n",
    "df_train['mention_count'] = df_train['text'].apply(lambda x: len([c for c in str(x) if c == '@']))\n"
   ]
  },
  {
   "cell_type": "code",
   "execution_count": 25,
   "metadata": {
    "execution": {
     "iopub.execute_input": "2022-02-16T22:10:27.007712Z",
     "iopub.status.busy": "2022-02-16T22:10:27.007020Z",
     "iopub.status.idle": "2022-02-16T22:10:29.277598Z",
     "shell.execute_reply": "2022-02-16T22:10:29.278606Z",
     "shell.execute_reply.started": "2022-02-15T05:01:28.397268Z"
    },
    "papermill": {
     "duration": 2.316751,
     "end_time": "2022-02-16T22:10:29.278812",
     "exception": false,
     "start_time": "2022-02-16T22:10:26.962061",
     "status": "completed"
    },
    "tags": []
   },
   "outputs": [
    {
     "data": {
      "text/plain": [
       "<Figure size 360x360 with 0 Axes>"
      ]
     },
     "metadata": {},
     "output_type": "display_data"
    },
    {
     "data": {
      "image/png": "[encoded data removed]",
      "text/plain": [
       "<Figure size 360x360 with 1 Axes>"
      ]
     },
     "metadata": {
      "needs_background": "light"
     },
     "output_type": "display_data"
    },
    {
     "data": {
      "text/plain": [
       "<Figure size 360x360 with 0 Axes>"
      ]
     },
     "metadata": {},
     "output_type": "display_data"
    },
    {
     "data": {
      "image/png": "[encoded data removed]",
      "text/plain": [
       "<Figure size 360x360 with 1 Axes>"
      ]
     },
     "metadata": {
      "needs_background": "light"
     },
     "output_type": "display_data"
    },
    {
     "data": {
      "text/plain": [
       "<Figure size 360x360 with 0 Axes>"
      ]
     },
     "metadata": {},
     "output_type": "display_data"
    },
    {
     "data": {
      "image/png": "[encoded data removed]",
      "text/plain": [
       "<Figure size 360x360 with 1 Axes>"
      ]
     },
     "metadata": {
      "needs_background": "light"
     },
     "output_type": "display_data"
    },
    {
     "data": {
      "text/plain": [
       "<Figure size 360x360 with 0 Axes>"
      ]
     },
     "metadata": {},
     "output_type": "display_data"
    },
    {
     "data": {
      "image/png": "[encoded data removed]",
      "text/plain": [
       "<Figure size 360x360 with 1 Axes>"
      ]
     },
     "metadata": {
      "needs_background": "light"
     },
     "output_type": "display_data"
    },
    {
     "data": {
      "text/plain": [
       "<Figure size 360x360 with 0 Axes>"
      ]
     },
     "metadata": {},
     "output_type": "display_data"
    },
    {
     "data": {
      "image/png": "[encoded data removed]",
      "text/plain": [
       "<Figure size 360x360 with 1 Axes>"
      ]
     },
     "metadata": {
      "needs_background": "light"
     },
     "output_type": "display_data"
    },
    {
     "data": {
      "text/plain": [
       "<Figure size 360x360 with 0 Axes>"
      ]
     },
     "metadata": {},
     "output_type": "display_data"
    },
    {
     "data": {
      "image/png": "[encoded data removed]",
      "text/plain": [
       "<Figure size 360x360 with 1 Axes>"
      ]
     },
     "metadata": {
      "needs_background": "light"
     },
     "output_type": "display_data"
    },
    {
     "data": {
      "text/plain": [
       "<Figure size 360x360 with 0 Axes>"
      ]
     },
     "metadata": {},
     "output_type": "display_data"
    },
    {
     "data": {
      "image/png": "[encoded data removed]",
      "text/plain": [
       "<Figure size 360x360 with 1 Axes>"
      ]
     },
     "metadata": {
      "needs_background": "light"
     },
     "output_type": "display_data"
    }
   ],
   "source": [
    "text_length = ['word_count', 'unique_word_count', 'stop_word_count', 'url_count', 'mean_word_length',\n",
    "                 'hashtag_count', 'mention_count']\n",
    "\n",
    "for col in text_length:\n",
    "    \n",
    "    plt.figure(figsize=(5,5))\n",
    "    sns.displot(x=df_train[col], bins=10, color='green', kde=True)\n",
    "    plt.xticks(rotation=45)\n",
    "    plt.show()"
   ]
  },
  {
   "cell_type": "markdown",
   "metadata": {
    "papermill": {
     "duration": 0.057746,
     "end_time": "2022-02-16T22:10:29.409606",
     "exception": false,
     "start_time": "2022-02-16T22:10:29.351860",
     "status": "completed"
    },
    "tags": []
   },
   "source": [
    "### WordCloud"
   ]
  },
  {
   "cell_type": "code",
   "execution_count": 26,
   "metadata": {
    "execution": {
     "iopub.execute_input": "2022-02-16T22:10:29.502487Z",
     "iopub.status.busy": "2022-02-16T22:10:29.501911Z",
     "iopub.status.idle": "2022-02-16T22:10:29.716460Z",
     "shell.execute_reply": "2022-02-16T22:10:29.717228Z",
     "shell.execute_reply.started": "2022-02-15T05:04:03.866012Z"
    },
    "papermill": {
     "duration": 0.263998,
     "end_time": "2022-02-16T22:10:29.717458",
     "exception": false,
     "start_time": "2022-02-16T22:10:29.453460",
     "status": "completed"
    },
    "tags": []
   },
   "outputs": [
    {
     "data": {
      "image/png": "[encoded data removed]",
      "text/plain": [
       "<Figure size 432x288 with 1 Axes>"
      ]
     },
     "metadata": {
      "needs_background": "light"
     },
     "output_type": "display_data"
    }
   ],
   "source": [
    "# Start with one review:\n",
    "text = df_train.text[0]\n",
    "\n",
    "# Create and generate a word cloud image:\n",
    "wordcloud = WordCloud().generate(text)\n",
    "\n",
    "# Display the generated image:\n",
    "plt.imshow(wordcloud, interpolation='bilinear')\n",
    "plt.axis(\"off\")\n",
    "plt.show()"
   ]
  }
 ],
 "metadata": {
  "kernelspec": {
   "display_name": "Python 3",
   "language": "python",
   "name": "python3"
  },
  "language_info": {
   "codemirror_mode": {
    "name": "ipython",
    "version": 3
   },
   "file_extension": ".py",
   "mimetype": "text/x-python",
   "name": "python",
   "nbconvert_exporter": "python",
   "pygments_lexer": "ipython3",
   "version": "3.7.4"
  },
  "papermill": {
   "default_parameters": {},
   "duration": 101.484452,
   "end_time": "2022-02-16T22:10:32.916707",
   "environment_variables": {},
   "exception": null,
   "input_path": "__notebook__.ipynb",
   "output_path": "__notebook__.ipynb",
   "parameters": {},
   "start_time": "2022-02-16T22:08:51.432255",
   "version": "2.3.3"
  }
 },
 "nbformat": 4,
 "nbformat_minor": 5
}
