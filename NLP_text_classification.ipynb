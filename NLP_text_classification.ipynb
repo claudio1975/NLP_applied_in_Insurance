{
  "nbformat": 4,
  "nbformat_minor": 0,
  "metadata": {
    "colab": {
      "name": "NLP_text_classification.ipynb",
      "provenance": [],
      "collapsed_sections": []
    },
    "kernelspec": {
      "name": "python3",
      "display_name": "Python 3"
    },
    "language_info": {
      "name": "python"
    },
    "accelerator": "GPU"
  },
  "cells": [
    {
      "cell_type": "markdown",
      "source": [
        "# **NLP_&_INSURANCE: TEXT_CLASSIFICATION**"
      ],
      "metadata": {
        "id": "liWb_eKRH-sQ"
      }
    },
    {
      "cell_type": "markdown",
      "source": [
        "![](https://www.babel.sg/wp-content/uploads/2019/11/Insurance-Recommendation-System-Increased-Customer-Conversion-Engagement-Rate.png)"
      ],
      "metadata": {
        "id": "iDPfXei3_LAe"
      }
    },
    {
      "cell_type": "markdown",
      "source": [
        "## Import Libraries"
      ],
      "metadata": {
        "id": "mP5_Yn4wCaru"
      }
    },
    {
      "cell_type": "code",
      "source": [
        "!pip install ktrain"
      ],
      "metadata": {
        "colab": {
          "base_uri": "https://localhost:8080/"
        },
        "id": "bJvjkBX74054",
        "outputId": "78997a2a-df9e-4244-c045-cea8342042e7"
      },
      "execution_count": 1,
      "outputs": [
        {
          "output_type": "stream",
          "name": "stdout",
          "text": [
            "Looking in indexes: https://pypi.org/simple, https://us-python.pkg.dev/colab-wheels/public/simple/\n",
            "Collecting ktrain\n",
            "  Downloading ktrain-0.31.2.tar.gz (25.3 MB)\n",
            "\u001b[K     |████████████████████████████████| 25.3 MB 81.7 MB/s \n",
            "\u001b[?25hCollecting scikit-learn==0.24.2\n",
            "  Downloading scikit_learn-0.24.2-cp37-cp37m-manylinux2010_x86_64.whl (22.3 MB)\n",
            "\u001b[K     |████████████████████████████████| 22.3 MB 1.7 MB/s \n",
            "\u001b[?25hRequirement already satisfied: matplotlib>=3.0.0 in /usr/local/lib/python3.7/dist-packages (from ktrain) (3.2.2)\n",
            "Requirement already satisfied: pandas>=1.0.1 in /usr/local/lib/python3.7/dist-packages (from ktrain) (1.3.5)\n",
            "Requirement already satisfied: fastprogress>=0.1.21 in /usr/local/lib/python3.7/dist-packages (from ktrain) (1.0.2)\n",
            "Requirement already satisfied: requests in /usr/local/lib/python3.7/dist-packages (from ktrain) (2.23.0)\n",
            "Requirement already satisfied: joblib in /usr/local/lib/python3.7/dist-packages (from ktrain) (1.1.0)\n",
            "Requirement already satisfied: packaging in /usr/local/lib/python3.7/dist-packages (from ktrain) (21.3)\n",
            "Collecting langdetect\n",
            "  Downloading langdetect-1.0.9.tar.gz (981 kB)\n",
            "\u001b[K     |████████████████████████████████| 981 kB 47.9 MB/s \n",
            "\u001b[?25hRequirement already satisfied: jieba in /usr/local/lib/python3.7/dist-packages (from ktrain) (0.42.1)\n",
            "Collecting cchardet\n",
            "  Downloading cchardet-2.1.7-cp37-cp37m-manylinux2010_x86_64.whl (263 kB)\n",
            "\u001b[K     |████████████████████████████████| 263 kB 48.3 MB/s \n",
            "\u001b[?25hRequirement already satisfied: chardet in /usr/local/lib/python3.7/dist-packages (from ktrain) (3.0.4)\n",
            "Collecting syntok==1.3.3\n",
            "  Downloading syntok-1.3.3-py3-none-any.whl (22 kB)\n",
            "Collecting transformers==4.10.3\n",
            "  Downloading transformers-4.10.3-py3-none-any.whl (2.8 MB)\n",
            "\u001b[K     |████████████████████████████████| 2.8 MB 44.6 MB/s \n",
            "\u001b[?25hCollecting sentencepiece\n",
            "  Downloading sentencepiece-0.1.96-cp37-cp37m-manylinux_2_17_x86_64.manylinux2014_x86_64.whl (1.2 MB)\n",
            "\u001b[K     |████████████████████████████████| 1.2 MB 46.7 MB/s \n",
            "\u001b[?25hCollecting keras_bert>=0.86.0\n",
            "  Downloading keras-bert-0.89.0.tar.gz (25 kB)\n",
            "Collecting whoosh\n",
            "  Downloading Whoosh-2.7.4-py2.py3-none-any.whl (468 kB)\n",
            "\u001b[K     |████████████████████████████████| 468 kB 49.1 MB/s \n",
            "\u001b[?25hRequirement already satisfied: numpy>=1.13.3 in /usr/local/lib/python3.7/dist-packages (from scikit-learn==0.24.2->ktrain) (1.21.6)\n",
            "Requirement already satisfied: threadpoolctl>=2.0.0 in /usr/local/lib/python3.7/dist-packages (from scikit-learn==0.24.2->ktrain) (3.1.0)\n",
            "Requirement already satisfied: scipy>=0.19.1 in /usr/local/lib/python3.7/dist-packages (from scikit-learn==0.24.2->ktrain) (1.4.1)\n",
            "Requirement already satisfied: regex in /usr/local/lib/python3.7/dist-packages (from syntok==1.3.3->ktrain) (2019.12.20)\n",
            "Collecting tokenizers<0.11,>=0.10.1\n",
            "  Downloading tokenizers-0.10.3-cp37-cp37m-manylinux_2_5_x86_64.manylinux1_x86_64.manylinux_2_12_x86_64.manylinux2010_x86_64.whl (3.3 MB)\n",
            "\u001b[K     |████████████████████████████████| 3.3 MB 49.3 MB/s \n",
            "\u001b[?25hRequirement already satisfied: tqdm>=4.27 in /usr/local/lib/python3.7/dist-packages (from transformers==4.10.3->ktrain) (4.64.0)\n",
            "Requirement already satisfied: importlib-metadata in /usr/local/lib/python3.7/dist-packages (from transformers==4.10.3->ktrain) (4.11.4)\n",
            "Requirement already satisfied: filelock in /usr/local/lib/python3.7/dist-packages (from transformers==4.10.3->ktrain) (3.7.0)\n",
            "Collecting sacremoses\n",
            "  Downloading sacremoses-0.0.53.tar.gz (880 kB)\n",
            "\u001b[K     |████████████████████████████████| 880 kB 67.6 MB/s \n",
            "\u001b[?25hCollecting pyyaml>=5.1\n",
            "  Downloading PyYAML-6.0-cp37-cp37m-manylinux_2_5_x86_64.manylinux1_x86_64.manylinux_2_12_x86_64.manylinux2010_x86_64.whl (596 kB)\n",
            "\u001b[K     |████████████████████████████████| 596 kB 59.7 MB/s \n",
            "\u001b[?25hCollecting huggingface-hub>=0.0.12\n",
            "  Downloading huggingface_hub-0.7.0-py3-none-any.whl (86 kB)\n",
            "\u001b[K     |████████████████████████████████| 86 kB 6.6 MB/s \n",
            "\u001b[?25hRequirement already satisfied: typing-extensions>=3.7.4.3 in /usr/local/lib/python3.7/dist-packages (from huggingface-hub>=0.0.12->transformers==4.10.3->ktrain) (4.2.0)\n",
            "Collecting keras-transformer==0.40.0\n",
            "  Downloading keras-transformer-0.40.0.tar.gz (9.7 kB)\n",
            "Collecting keras-pos-embd==0.13.0\n",
            "  Downloading keras-pos-embd-0.13.0.tar.gz (5.6 kB)\n",
            "Collecting keras-multi-head==0.29.0\n",
            "  Downloading keras-multi-head-0.29.0.tar.gz (13 kB)\n",
            "Collecting keras-layer-normalization==0.16.0\n",
            "  Downloading keras-layer-normalization-0.16.0.tar.gz (3.9 kB)\n",
            "Collecting keras-position-wise-feed-forward==0.8.0\n",
            "  Downloading keras-position-wise-feed-forward-0.8.0.tar.gz (4.1 kB)\n",
            "Collecting keras-embed-sim==0.10.0\n",
            "  Downloading keras-embed-sim-0.10.0.tar.gz (3.6 kB)\n",
            "Collecting keras-self-attention==0.51.0\n",
            "  Downloading keras-self-attention-0.51.0.tar.gz (11 kB)\n",
            "Requirement already satisfied: kiwisolver>=1.0.1 in /usr/local/lib/python3.7/dist-packages (from matplotlib>=3.0.0->ktrain) (1.4.2)\n",
            "Requirement already satisfied: python-dateutil>=2.1 in /usr/local/lib/python3.7/dist-packages (from matplotlib>=3.0.0->ktrain) (2.8.2)\n",
            "Requirement already satisfied: pyparsing!=2.0.4,!=2.1.2,!=2.1.6,>=2.0.1 in /usr/local/lib/python3.7/dist-packages (from matplotlib>=3.0.0->ktrain) (3.0.9)\n",
            "Requirement already satisfied: cycler>=0.10 in /usr/local/lib/python3.7/dist-packages (from matplotlib>=3.0.0->ktrain) (0.11.0)\n",
            "Requirement already satisfied: pytz>=2017.3 in /usr/local/lib/python3.7/dist-packages (from pandas>=1.0.1->ktrain) (2022.1)\n",
            "Requirement already satisfied: six>=1.5 in /usr/local/lib/python3.7/dist-packages (from python-dateutil>=2.1->matplotlib>=3.0.0->ktrain) (1.15.0)\n",
            "Requirement already satisfied: zipp>=0.5 in /usr/local/lib/python3.7/dist-packages (from importlib-metadata->transformers==4.10.3->ktrain) (3.8.0)\n",
            "Requirement already satisfied: certifi>=2017.4.17 in /usr/local/lib/python3.7/dist-packages (from requests->ktrain) (2022.5.18.1)\n",
            "Requirement already satisfied: idna<3,>=2.5 in /usr/local/lib/python3.7/dist-packages (from requests->ktrain) (2.10)\n",
            "Requirement already satisfied: urllib3!=1.25.0,!=1.25.1,<1.26,>=1.21.1 in /usr/local/lib/python3.7/dist-packages (from requests->ktrain) (1.24.3)\n",
            "Requirement already satisfied: click in /usr/local/lib/python3.7/dist-packages (from sacremoses->transformers==4.10.3->ktrain) (7.1.2)\n",
            "Building wheels for collected packages: ktrain, keras-bert, keras-transformer, keras-embed-sim, keras-layer-normalization, keras-multi-head, keras-pos-embd, keras-position-wise-feed-forward, keras-self-attention, langdetect, sacremoses\n",
            "  Building wheel for ktrain (setup.py) ... \u001b[?25l\u001b[?25hdone\n",
            "  Created wheel for ktrain: filename=ktrain-0.31.2-py3-none-any.whl size=25313063 sha256=8f8500b2444b1343679ae8d66919e43112706238d7678a95a93ada051335deec\n",
            "  Stored in directory: /root/.cache/pip/wheels/0a/b3/dd/512a01ea0b4f31d96163518b58361bb72d3bcb916d291052e7\n",
            "  Building wheel for keras-bert (setup.py) ... \u001b[?25l\u001b[?25hdone\n",
            "  Created wheel for keras-bert: filename=keras_bert-0.89.0-py3-none-any.whl size=33517 sha256=8d10751f9b2608ac0acd679a25a81469b41ac32a397545a5db0197f76b06d8ce\n",
            "  Stored in directory: /root/.cache/pip/wheels/a4/e8/45/842b3a39831261aef9154b907eacbc4ac99499a99ae829b06f\n",
            "  Building wheel for keras-transformer (setup.py) ... \u001b[?25l\u001b[?25hdone\n",
            "  Created wheel for keras-transformer: filename=keras_transformer-0.40.0-py3-none-any.whl size=12305 sha256=a502bb34f8c5e0176b2bf36b110bbbc93bfd4d26bf0012e88d2d05df4df29726\n",
            "  Stored in directory: /root/.cache/pip/wheels/46/68/26/692ed21edd832833c3b0a0e21615bcacd99ca458b3f9ed571f\n",
            "  Building wheel for keras-embed-sim (setup.py) ... \u001b[?25l\u001b[?25hdone\n",
            "  Created wheel for keras-embed-sim: filename=keras_embed_sim-0.10.0-py3-none-any.whl size=3960 sha256=abb69b1afd7e4a9937fdece08c50615af6d2aa86a2ae63828c0f5ae130832557\n",
            "  Stored in directory: /root/.cache/pip/wheels/81/67/b5/d847588d075895281e1cf5590f819bd4cf076a554872268bd5\n",
            "  Building wheel for keras-layer-normalization (setup.py) ... \u001b[?25l\u001b[?25hdone\n",
            "  Created wheel for keras-layer-normalization: filename=keras_layer_normalization-0.16.0-py3-none-any.whl size=4668 sha256=81ab3615f66d6df79cfc737d2fa8a90e570b2923602002b2f8399e3b36fb3a6a\n",
            "  Stored in directory: /root/.cache/pip/wheels/85/5d/1c/2e619f594f69fbcf8bc20943b27d414871c409be053994813e\n",
            "  Building wheel for keras-multi-head (setup.py) ... \u001b[?25l\u001b[?25hdone\n",
            "  Created wheel for keras-multi-head: filename=keras_multi_head-0.29.0-py3-none-any.whl size=14993 sha256=6873d758f2eb6b3a00dc492f6d35e4f27a74877921790cba9105066a54674f7c\n",
            "  Stored in directory: /root/.cache/pip/wheels/86/aa/3c/9d15d24005179dae08ff291ce99c754b296347817d076fd9fb\n",
            "  Building wheel for keras-pos-embd (setup.py) ... \u001b[?25l\u001b[?25hdone\n",
            "  Created wheel for keras-pos-embd: filename=keras_pos_embd-0.13.0-py3-none-any.whl size=6962 sha256=6ccd0857d07588bad244bf734436d32f02eebbcbb0493864d56aa6a63375a43b\n",
            "  Stored in directory: /root/.cache/pip/wheels/8d/c1/a0/dc44fcf68c857b7ff6be9a97e675e5adf51022eff1169b042f\n",
            "  Building wheel for keras-position-wise-feed-forward (setup.py) ... \u001b[?25l\u001b[?25hdone\n",
            "  Created wheel for keras-position-wise-feed-forward: filename=keras_position_wise_feed_forward-0.8.0-py3-none-any.whl size=4983 sha256=dcacfd89c5d1fd5cdcfe904e476bf39a9971fb3989deb47689749c389f3d997f\n",
            "  Stored in directory: /root/.cache/pip/wheels/c2/75/6f/d42f6e051506f442daeba53ff1e2d21a5f20ef8c411610f2bb\n",
            "  Building wheel for keras-self-attention (setup.py) ... \u001b[?25l\u001b[?25hdone\n",
            "  Created wheel for keras-self-attention: filename=keras_self_attention-0.51.0-py3-none-any.whl size=18912 sha256=6bd7a1a6cc0f42e68b3be2578bbda19991a39e69a0a0de18d8851b4c1300b4b4\n",
            "  Stored in directory: /root/.cache/pip/wheels/95/b1/a8/5ee00cc137940b2f6fa198212e8f45d813d0e0d9c3a04035a3\n",
            "  Building wheel for langdetect (setup.py) ... \u001b[?25l\u001b[?25hdone\n",
            "  Created wheel for langdetect: filename=langdetect-1.0.9-py3-none-any.whl size=993242 sha256=b1f87af5244b4b3e8bcf855ee93efcfd7e9e76257b36feb75df5792213d4c55a\n",
            "  Stored in directory: /root/.cache/pip/wheels/c5/96/8a/f90c59ed25d75e50a8c10a1b1c2d4c402e4dacfa87f3aff36a\n",
            "  Building wheel for sacremoses (setup.py) ... \u001b[?25l\u001b[?25hdone\n",
            "  Created wheel for sacremoses: filename=sacremoses-0.0.53-py3-none-any.whl size=895260 sha256=0435d8c28ee92f564b04ca2f6d5dd36ba43d3371ebb408ac0d46f2f1fdc9306f\n",
            "  Stored in directory: /root/.cache/pip/wheels/87/39/dd/a83eeef36d0bf98e7a4d1933a4ad2d660295a40613079bafc9\n",
            "Successfully built ktrain keras-bert keras-transformer keras-embed-sim keras-layer-normalization keras-multi-head keras-pos-embd keras-position-wise-feed-forward keras-self-attention langdetect sacremoses\n",
            "Installing collected packages: keras-self-attention, pyyaml, keras-position-wise-feed-forward, keras-pos-embd, keras-multi-head, keras-layer-normalization, keras-embed-sim, tokenizers, sacremoses, keras-transformer, huggingface-hub, whoosh, transformers, syntok, sentencepiece, scikit-learn, langdetect, keras-bert, cchardet, ktrain\n",
            "  Attempting uninstall: pyyaml\n",
            "    Found existing installation: PyYAML 3.13\n",
            "    Uninstalling PyYAML-3.13:\n",
            "      Successfully uninstalled PyYAML-3.13\n",
            "  Attempting uninstall: scikit-learn\n",
            "    Found existing installation: scikit-learn 1.0.2\n",
            "    Uninstalling scikit-learn-1.0.2:\n",
            "      Successfully uninstalled scikit-learn-1.0.2\n",
            "\u001b[31mERROR: pip's dependency resolver does not currently take into account all the packages that are installed. This behaviour is the source of the following dependency conflicts.\n",
            "yellowbrick 1.4 requires scikit-learn>=1.0.0, but you have scikit-learn 0.24.2 which is incompatible.\u001b[0m\n",
            "Successfully installed cchardet-2.1.7 huggingface-hub-0.7.0 keras-bert-0.89.0 keras-embed-sim-0.10.0 keras-layer-normalization-0.16.0 keras-multi-head-0.29.0 keras-pos-embd-0.13.0 keras-position-wise-feed-forward-0.8.0 keras-self-attention-0.51.0 keras-transformer-0.40.0 ktrain-0.31.2 langdetect-1.0.9 pyyaml-6.0 sacremoses-0.0.53 scikit-learn-0.24.2 sentencepiece-0.1.96 syntok-1.3.3 tokenizers-0.10.3 transformers-4.10.3 whoosh-2.7.4\n"
          ]
        }
      ]
    },
    {
      "cell_type": "code",
      "source": [
        "#setup deterministic results \n",
        "import numpy as np\n",
        "from numpy.random import seed\n",
        "seed=0\n",
        "np.random.seed(seed)\n",
        "import tensorflow as tf\n",
        "tf.random.set_seed(seed)\n",
        "import os\n",
        "os.environ['PYTHONHASHSEED'] = str(seed)\n",
        "os.environ['TF_DETERMINISTIC_OPS'] = '1'\n",
        "\n",
        "import pandas as pd\n",
        "import sklearn\n",
        "from sklearn.model_selection import train_test_split\n",
        "from sklearn.metrics import f1_score, accuracy_score\n",
        "from sklearn.metrics import confusion_matrix\n",
        "from sklearn.feature_extraction.text import CountVectorizer, TfidfVectorizer\n",
        "from sklearn.decomposition import PCA\n",
        "import matplotlib.pyplot as plt\n",
        "import seaborn as sns\n",
        "import wordcloud\n",
        "from wordcloud import WordCloud, STOPWORDS\n",
        "import re\n",
        "import string\n",
        "#import langdetect \n",
        "import ktrain\n",
        "from ktrain import text\n",
        "import spacy\n",
        "import gensim\n",
        "from gensim.models import Word2Vec \n",
        "import gensim.downloader as gensim_api\n",
        "#from bertopic import BERTopic"
      ],
      "metadata": {
        "id": "fs11-otnJH6u"
      },
      "execution_count": 2,
      "outputs": []
    },
    {
      "cell_type": "markdown",
      "source": [
        "## Requirements"
      ],
      "metadata": {
        "id": "cksn-dSFNzmX"
      }
    },
    {
      "cell_type": "code",
      "source": [
        "print(np.__version__) "
      ],
      "metadata": {
        "colab": {
          "base_uri": "https://localhost:8080/"
        },
        "id": "eGmRQbDsJqI-",
        "outputId": "c8464c3c-3a77-4517-bb72-73ea5a38d1b8"
      },
      "execution_count": 3,
      "outputs": [
        {
          "output_type": "stream",
          "name": "stdout",
          "text": [
            "1.21.6\n"
          ]
        }
      ]
    },
    {
      "cell_type": "code",
      "source": [
        "print(pd.__version__) "
      ],
      "metadata": {
        "colab": {
          "base_uri": "https://localhost:8080/"
        },
        "id": "ge7646ZbLSkn",
        "outputId": "6b9b37ef-a3d4-42f8-e8b4-35f44355a146"
      },
      "execution_count": 4,
      "outputs": [
        {
          "output_type": "stream",
          "name": "stdout",
          "text": [
            "1.3.5\n"
          ]
        }
      ]
    },
    {
      "cell_type": "code",
      "source": [
        "print(sklearn.__version__)"
      ],
      "metadata": {
        "colab": {
          "base_uri": "https://localhost:8080/"
        },
        "id": "wY4eVqHRLSuK",
        "outputId": "10b3fa3d-fa26-4bcb-cebe-ae6db0eafeaa"
      },
      "execution_count": 5,
      "outputs": [
        {
          "output_type": "stream",
          "name": "stdout",
          "text": [
            "0.24.2\n"
          ]
        }
      ]
    },
    {
      "cell_type": "code",
      "source": [
        "print(sns.__version__)"
      ],
      "metadata": {
        "colab": {
          "base_uri": "https://localhost:8080/"
        },
        "id": "CQFoDoZJLSw-",
        "outputId": "0af79b5f-bacc-4aa3-a7bb-1d1ac253375e"
      },
      "execution_count": 6,
      "outputs": [
        {
          "output_type": "stream",
          "name": "stdout",
          "text": [
            "0.11.2\n"
          ]
        }
      ]
    },
    {
      "cell_type": "code",
      "source": [
        "print(tf.__version__)"
      ],
      "metadata": {
        "colab": {
          "base_uri": "https://localhost:8080/"
        },
        "id": "SHkBAE00LS4-",
        "outputId": "a53a6e0d-0e33-4bbe-c587-340d0640178a"
      },
      "execution_count": 7,
      "outputs": [
        {
          "output_type": "stream",
          "name": "stdout",
          "text": [
            "2.8.2\n"
          ]
        }
      ]
    },
    {
      "cell_type": "code",
      "source": [
        "print(spacy.__version__)"
      ],
      "metadata": {
        "colab": {
          "base_uri": "https://localhost:8080/"
        },
        "id": "Nt7-AB_JBeuG",
        "outputId": "46a18b92-e78e-40d5-fb22-c61ee3f02bdc"
      },
      "execution_count": 8,
      "outputs": [
        {
          "output_type": "stream",
          "name": "stdout",
          "text": [
            "2.2.4\n"
          ]
        }
      ]
    },
    {
      "cell_type": "code",
      "source": [
        "print(gensim.__version__)"
      ],
      "metadata": {
        "colab": {
          "base_uri": "https://localhost:8080/"
        },
        "id": "siNtLDbkuVGG",
        "outputId": "4f229b4d-6f55-412e-91ac-012f16fea3b7"
      },
      "execution_count": 9,
      "outputs": [
        {
          "output_type": "stream",
          "name": "stdout",
          "text": [
            "3.6.0\n"
          ]
        }
      ]
    },
    {
      "cell_type": "code",
      "source": [
        "print(ktrain.__version__)"
      ],
      "metadata": {
        "colab": {
          "base_uri": "https://localhost:8080/"
        },
        "id": "O6NB1WKWC1Wc",
        "outputId": "284a05f3-ec6f-4a7e-e04d-7aca8102d5c0"
      },
      "execution_count": 10,
      "outputs": [
        {
          "output_type": "stream",
          "name": "stdout",
          "text": [
            "0.31.2\n"
          ]
        }
      ]
    },
    {
      "cell_type": "markdown",
      "source": [
        "## Upload dataset"
      ],
      "metadata": {
        "id": "7cl-fs32LpJ3"
      }
    },
    {
      "cell_type": "code",
      "source": [
        "# https://www.kaggle.com/competitions/nlp-getting-started"
      ],
      "metadata": {
        "id": "z3LcLDYbz88e"
      },
      "execution_count": 11,
      "outputs": []
    },
    {
      "cell_type": "code",
      "source": [
        "df_train = pd.read_csv('https://raw.githubusercontent.com/claudio1975/SWISSTEXT_2022/main/data/df_train.csv')"
      ],
      "metadata": {
        "id": "TmqNgXQiBiDT"
      },
      "execution_count": 12,
      "outputs": []
    },
    {
      "cell_type": "code",
      "source": [
        "#from google.colab import files \n",
        "#uploaded = files.upload() "
      ],
      "metadata": {
        "id": "t9QumHJqLS7q"
      },
      "execution_count": 13,
      "outputs": []
    },
    {
      "cell_type": "code",
      "source": [
        "# Reading File\n",
        "#df_train = pd.read_csv('df_train.csv')"
      ],
      "metadata": {
        "id": "zm6ikNARLS-C"
      },
      "execution_count": 14,
      "outputs": []
    },
    {
      "cell_type": "code",
      "source": [
        "# select columns\n",
        "df_4 = df_train.iloc[:,1:8]\n",
        "df_4.head()"
      ],
      "metadata": {
        "colab": {
          "base_uri": "https://localhost:8080/",
          "height": 206
        },
        "id": "rqdmz3Jwvr3s",
        "outputId": "2b845011-2e6f-4e45-e1ca-b165e2efa924"
      },
      "execution_count": 15,
      "outputs": [
        {
          "output_type": "execute_result",
          "data": {
            "text/plain": [
              "   id keyword location                                               text  \\\n",
              "0   1     NaN      NaN  Our Deeds are the Reason of this #earthquake M...   \n",
              "1   4     NaN      NaN             Forest fire near La Ronge Sask. Canada   \n",
              "2   5     NaN      NaN  All residents asked to 'shelter in place' are ...   \n",
              "3   6     NaN      NaN  13,000 people receive #wildfires evacuation or...   \n",
              "4   7     NaN      NaN  Just got sent this photo from Ruby #Alaska as ...   \n",
              "\n",
              "   target lang                                       text_cleaned  \n",
              "0       1   en              deeds reason earthquake allah forgive  \n",
              "1       1   en              forest fire near la ronge sask canada  \n",
              "2       1   en  resident ask shelter place notify officer evac...  \n",
              "3       1   en  people receive wildfire evacuation order calif...  \n",
              "4       1   en  get send photo ruby alaska smoke wildfires pou...  "
            ],
            "text/html": [
              "\n",
              "  <div id=\"df-9d8bf9f1-255c-4f8b-a4c8-017372ddc32a\">\n",
              "    <div class=\"colab-df-container\">\n",
              "      <div>\n",
              "<style scoped>\n",
              "    .dataframe tbody tr th:only-of-type {\n",
              "        vertical-align: middle;\n",
              "    }\n",
              "\n",
              "    .dataframe tbody tr th {\n",
              "        vertical-align: top;\n",
              "    }\n",
              "\n",
              "    .dataframe thead th {\n",
              "        text-align: right;\n",
              "    }\n",
              "</style>\n",
              "<table border=\"1\" class=\"dataframe\">\n",
              "  <thead>\n",
              "    <tr style=\"text-align: right;\">\n",
              "      <th></th>\n",
              "      <th>id</th>\n",
              "      <th>keyword</th>\n",
              "      <th>location</th>\n",
              "      <th>text</th>\n",
              "      <th>target</th>\n",
              "      <th>lang</th>\n",
              "      <th>text_cleaned</th>\n",
              "    </tr>\n",
              "  </thead>\n",
              "  <tbody>\n",
              "    <tr>\n",
              "      <th>0</th>\n",
              "      <td>1</td>\n",
              "      <td>NaN</td>\n",
              "      <td>NaN</td>\n",
              "      <td>Our Deeds are the Reason of this #earthquake M...</td>\n",
              "      <td>1</td>\n",
              "      <td>en</td>\n",
              "      <td>deeds reason earthquake allah forgive</td>\n",
              "    </tr>\n",
              "    <tr>\n",
              "      <th>1</th>\n",
              "      <td>4</td>\n",
              "      <td>NaN</td>\n",
              "      <td>NaN</td>\n",
              "      <td>Forest fire near La Ronge Sask. Canada</td>\n",
              "      <td>1</td>\n",
              "      <td>en</td>\n",
              "      <td>forest fire near la ronge sask canada</td>\n",
              "    </tr>\n",
              "    <tr>\n",
              "      <th>2</th>\n",
              "      <td>5</td>\n",
              "      <td>NaN</td>\n",
              "      <td>NaN</td>\n",
              "      <td>All residents asked to 'shelter in place' are ...</td>\n",
              "      <td>1</td>\n",
              "      <td>en</td>\n",
              "      <td>resident ask shelter place notify officer evac...</td>\n",
              "    </tr>\n",
              "    <tr>\n",
              "      <th>3</th>\n",
              "      <td>6</td>\n",
              "      <td>NaN</td>\n",
              "      <td>NaN</td>\n",
              "      <td>13,000 people receive #wildfires evacuation or...</td>\n",
              "      <td>1</td>\n",
              "      <td>en</td>\n",
              "      <td>people receive wildfire evacuation order calif...</td>\n",
              "    </tr>\n",
              "    <tr>\n",
              "      <th>4</th>\n",
              "      <td>7</td>\n",
              "      <td>NaN</td>\n",
              "      <td>NaN</td>\n",
              "      <td>Just got sent this photo from Ruby #Alaska as ...</td>\n",
              "      <td>1</td>\n",
              "      <td>en</td>\n",
              "      <td>get send photo ruby alaska smoke wildfires pou...</td>\n",
              "    </tr>\n",
              "  </tbody>\n",
              "</table>\n",
              "</div>\n",
              "      <button class=\"colab-df-convert\" onclick=\"convertToInteractive('df-9d8bf9f1-255c-4f8b-a4c8-017372ddc32a')\"\n",
              "              title=\"Convert this dataframe to an interactive table.\"\n",
              "              style=\"display:none;\">\n",
              "        \n",
              "  <svg xmlns=\"http://www.w3.org/2000/svg\" height=\"24px\"viewBox=\"0 0 24 24\"\n",
              "       width=\"24px\">\n",
              "    <path d=\"M0 0h24v24H0V0z\" fill=\"none\"/>\n",
              "    <path d=\"M18.56 5.44l.94 2.06.94-2.06 2.06-.94-2.06-.94-.94-2.06-.94 2.06-2.06.94zm-11 1L8.5 8.5l.94-2.06 2.06-.94-2.06-.94L8.5 2.5l-.94 2.06-2.06.94zm10 10l.94 2.06.94-2.06 2.06-.94-2.06-.94-.94-2.06-.94 2.06-2.06.94z\"/><path d=\"M17.41 7.96l-1.37-1.37c-.4-.4-.92-.59-1.43-.59-.52 0-1.04.2-1.43.59L10.3 9.45l-7.72 7.72c-.78.78-.78 2.05 0 2.83L4 21.41c.39.39.9.59 1.41.59.51 0 1.02-.2 1.41-.59l7.78-7.78 2.81-2.81c.8-.78.8-2.07 0-2.86zM5.41 20L4 18.59l7.72-7.72 1.47 1.35L5.41 20z\"/>\n",
              "  </svg>\n",
              "      </button>\n",
              "      \n",
              "  <style>\n",
              "    .colab-df-container {\n",
              "      display:flex;\n",
              "      flex-wrap:wrap;\n",
              "      gap: 12px;\n",
              "    }\n",
              "\n",
              "    .colab-df-convert {\n",
              "      background-color: #E8F0FE;\n",
              "      border: none;\n",
              "      border-radius: 50%;\n",
              "      cursor: pointer;\n",
              "      display: none;\n",
              "      fill: #1967D2;\n",
              "      height: 32px;\n",
              "      padding: 0 0 0 0;\n",
              "      width: 32px;\n",
              "    }\n",
              "\n",
              "    .colab-df-convert:hover {\n",
              "      background-color: #E2EBFA;\n",
              "      box-shadow: 0px 1px 2px rgba(60, 64, 67, 0.3), 0px 1px 3px 1px rgba(60, 64, 67, 0.15);\n",
              "      fill: #174EA6;\n",
              "    }\n",
              "\n",
              "    [theme=dark] .colab-df-convert {\n",
              "      background-color: #3B4455;\n",
              "      fill: #D2E3FC;\n",
              "    }\n",
              "\n",
              "    [theme=dark] .colab-df-convert:hover {\n",
              "      background-color: #434B5C;\n",
              "      box-shadow: 0px 1px 3px 1px rgba(0, 0, 0, 0.15);\n",
              "      filter: drop-shadow(0px 1px 2px rgba(0, 0, 0, 0.3));\n",
              "      fill: #FFFFFF;\n",
              "    }\n",
              "  </style>\n",
              "\n",
              "      <script>\n",
              "        const buttonEl =\n",
              "          document.querySelector('#df-9d8bf9f1-255c-4f8b-a4c8-017372ddc32a button.colab-df-convert');\n",
              "        buttonEl.style.display =\n",
              "          google.colab.kernel.accessAllowed ? 'block' : 'none';\n",
              "\n",
              "        async function convertToInteractive(key) {\n",
              "          const element = document.querySelector('#df-9d8bf9f1-255c-4f8b-a4c8-017372ddc32a');\n",
              "          const dataTable =\n",
              "            await google.colab.kernel.invokeFunction('convertToInteractive',\n",
              "                                                     [key], {});\n",
              "          if (!dataTable) return;\n",
              "\n",
              "          const docLinkHtml = 'Like what you see? Visit the ' +\n",
              "            '<a target=\"_blank\" href=https://colab.research.google.com/notebooks/data_table.ipynb>data table notebook</a>'\n",
              "            + ' to learn more about interactive tables.';\n",
              "          element.innerHTML = '';\n",
              "          dataTable['output_type'] = 'display_data';\n",
              "          await google.colab.output.renderOutput(dataTable, element);\n",
              "          const docLink = document.createElement('div');\n",
              "          docLink.innerHTML = docLinkHtml;\n",
              "          element.appendChild(docLink);\n",
              "        }\n",
              "      </script>\n",
              "    </div>\n",
              "  </div>\n",
              "  "
            ]
          },
          "metadata": {},
          "execution_count": 15
        }
      ]
    },
    {
      "cell_type": "markdown",
      "source": [
        "## Prepare Data sets"
      ],
      "metadata": {
        "id": "v95PdPJAX1I8"
      }
    },
    {
      "cell_type": "code",
      "source": [
        "train_docs = df_4.copy()"
      ],
      "metadata": {
        "id": "K5Fxq2kri4Fm"
      },
      "execution_count": 16,
      "outputs": []
    },
    {
      "cell_type": "code",
      "source": [
        "train_docs = train_docs[['text','target']]\n",
        "#train_docs['text'] = train_docs['text'].astype('str')\n",
        "#train_docs['target'] = train_docs['target'].astype('int')\n",
        "train_docs.head()"
      ],
      "metadata": {
        "colab": {
          "base_uri": "https://localhost:8080/",
          "height": 206
        },
        "id": "BAxVZUAiekng",
        "outputId": "1013b31b-2fff-4d65-981a-93e3dc0a73ef"
      },
      "execution_count": 17,
      "outputs": [
        {
          "output_type": "execute_result",
          "data": {
            "text/plain": [
              "                                                text  target\n",
              "0  Our Deeds are the Reason of this #earthquake M...       1\n",
              "1             Forest fire near La Ronge Sask. Canada       1\n",
              "2  All residents asked to 'shelter in place' are ...       1\n",
              "3  13,000 people receive #wildfires evacuation or...       1\n",
              "4  Just got sent this photo from Ruby #Alaska as ...       1"
            ],
            "text/html": [
              "\n",
              "  <div id=\"df-eef2f25b-bec5-436e-9667-26d061042f34\">\n",
              "    <div class=\"colab-df-container\">\n",
              "      <div>\n",
              "<style scoped>\n",
              "    .dataframe tbody tr th:only-of-type {\n",
              "        vertical-align: middle;\n",
              "    }\n",
              "\n",
              "    .dataframe tbody tr th {\n",
              "        vertical-align: top;\n",
              "    }\n",
              "\n",
              "    .dataframe thead th {\n",
              "        text-align: right;\n",
              "    }\n",
              "</style>\n",
              "<table border=\"1\" class=\"dataframe\">\n",
              "  <thead>\n",
              "    <tr style=\"text-align: right;\">\n",
              "      <th></th>\n",
              "      <th>text</th>\n",
              "      <th>target</th>\n",
              "    </tr>\n",
              "  </thead>\n",
              "  <tbody>\n",
              "    <tr>\n",
              "      <th>0</th>\n",
              "      <td>Our Deeds are the Reason of this #earthquake M...</td>\n",
              "      <td>1</td>\n",
              "    </tr>\n",
              "    <tr>\n",
              "      <th>1</th>\n",
              "      <td>Forest fire near La Ronge Sask. Canada</td>\n",
              "      <td>1</td>\n",
              "    </tr>\n",
              "    <tr>\n",
              "      <th>2</th>\n",
              "      <td>All residents asked to 'shelter in place' are ...</td>\n",
              "      <td>1</td>\n",
              "    </tr>\n",
              "    <tr>\n",
              "      <th>3</th>\n",
              "      <td>13,000 people receive #wildfires evacuation or...</td>\n",
              "      <td>1</td>\n",
              "    </tr>\n",
              "    <tr>\n",
              "      <th>4</th>\n",
              "      <td>Just got sent this photo from Ruby #Alaska as ...</td>\n",
              "      <td>1</td>\n",
              "    </tr>\n",
              "  </tbody>\n",
              "</table>\n",
              "</div>\n",
              "      <button class=\"colab-df-convert\" onclick=\"convertToInteractive('df-eef2f25b-bec5-436e-9667-26d061042f34')\"\n",
              "              title=\"Convert this dataframe to an interactive table.\"\n",
              "              style=\"display:none;\">\n",
              "        \n",
              "  <svg xmlns=\"http://www.w3.org/2000/svg\" height=\"24px\"viewBox=\"0 0 24 24\"\n",
              "       width=\"24px\">\n",
              "    <path d=\"M0 0h24v24H0V0z\" fill=\"none\"/>\n",
              "    <path d=\"M18.56 5.44l.94 2.06.94-2.06 2.06-.94-2.06-.94-.94-2.06-.94 2.06-2.06.94zm-11 1L8.5 8.5l.94-2.06 2.06-.94-2.06-.94L8.5 2.5l-.94 2.06-2.06.94zm10 10l.94 2.06.94-2.06 2.06-.94-2.06-.94-.94-2.06-.94 2.06-2.06.94z\"/><path d=\"M17.41 7.96l-1.37-1.37c-.4-.4-.92-.59-1.43-.59-.52 0-1.04.2-1.43.59L10.3 9.45l-7.72 7.72c-.78.78-.78 2.05 0 2.83L4 21.41c.39.39.9.59 1.41.59.51 0 1.02-.2 1.41-.59l7.78-7.78 2.81-2.81c.8-.78.8-2.07 0-2.86zM5.41 20L4 18.59l7.72-7.72 1.47 1.35L5.41 20z\"/>\n",
              "  </svg>\n",
              "      </button>\n",
              "      \n",
              "  <style>\n",
              "    .colab-df-container {\n",
              "      display:flex;\n",
              "      flex-wrap:wrap;\n",
              "      gap: 12px;\n",
              "    }\n",
              "\n",
              "    .colab-df-convert {\n",
              "      background-color: #E8F0FE;\n",
              "      border: none;\n",
              "      border-radius: 50%;\n",
              "      cursor: pointer;\n",
              "      display: none;\n",
              "      fill: #1967D2;\n",
              "      height: 32px;\n",
              "      padding: 0 0 0 0;\n",
              "      width: 32px;\n",
              "    }\n",
              "\n",
              "    .colab-df-convert:hover {\n",
              "      background-color: #E2EBFA;\n",
              "      box-shadow: 0px 1px 2px rgba(60, 64, 67, 0.3), 0px 1px 3px 1px rgba(60, 64, 67, 0.15);\n",
              "      fill: #174EA6;\n",
              "    }\n",
              "\n",
              "    [theme=dark] .colab-df-convert {\n",
              "      background-color: #3B4455;\n",
              "      fill: #D2E3FC;\n",
              "    }\n",
              "\n",
              "    [theme=dark] .colab-df-convert:hover {\n",
              "      background-color: #434B5C;\n",
              "      box-shadow: 0px 1px 3px 1px rgba(0, 0, 0, 0.15);\n",
              "      filter: drop-shadow(0px 1px 2px rgba(0, 0, 0, 0.3));\n",
              "      fill: #FFFFFF;\n",
              "    }\n",
              "  </style>\n",
              "\n",
              "      <script>\n",
              "        const buttonEl =\n",
              "          document.querySelector('#df-eef2f25b-bec5-436e-9667-26d061042f34 button.colab-df-convert');\n",
              "        buttonEl.style.display =\n",
              "          google.colab.kernel.accessAllowed ? 'block' : 'none';\n",
              "\n",
              "        async function convertToInteractive(key) {\n",
              "          const element = document.querySelector('#df-eef2f25b-bec5-436e-9667-26d061042f34');\n",
              "          const dataTable =\n",
              "            await google.colab.kernel.invokeFunction('convertToInteractive',\n",
              "                                                     [key], {});\n",
              "          if (!dataTable) return;\n",
              "\n",
              "          const docLinkHtml = 'Like what you see? Visit the ' +\n",
              "            '<a target=\"_blank\" href=https://colab.research.google.com/notebooks/data_table.ipynb>data table notebook</a>'\n",
              "            + ' to learn more about interactive tables.';\n",
              "          element.innerHTML = '';\n",
              "          dataTable['output_type'] = 'display_data';\n",
              "          await google.colab.output.renderOutput(dataTable, element);\n",
              "          const docLink = document.createElement('div');\n",
              "          docLink.innerHTML = docLinkHtml;\n",
              "          element.appendChild(docLink);\n",
              "        }\n",
              "      </script>\n",
              "    </div>\n",
              "  </div>\n",
              "  "
            ]
          },
          "metadata": {},
          "execution_count": 17
        }
      ]
    },
    {
      "cell_type": "code",
      "source": [
        "classification = {1:'disaster',0:'not_disaster'}\n",
        "train_docs['classification'] = train_docs['target'].map(classification)\n",
        "train_docs_ = train_docs[['text','classification']]\n",
        "# split target variable\n",
        "y = train_docs_['classification']\n",
        "train_docs_.head()"
      ],
      "metadata": {
        "colab": {
          "base_uri": "https://localhost:8080/",
          "height": 206
        },
        "id": "m1cp4NXsX4-u",
        "outputId": "2d9787d2-13e2-4f28-e66d-f5f49bdeb8a5"
      },
      "execution_count": 18,
      "outputs": [
        {
          "output_type": "execute_result",
          "data": {
            "text/plain": [
              "                                                text classification\n",
              "0  Our Deeds are the Reason of this #earthquake M...       disaster\n",
              "1             Forest fire near La Ronge Sask. Canada       disaster\n",
              "2  All residents asked to 'shelter in place' are ...       disaster\n",
              "3  13,000 people receive #wildfires evacuation or...       disaster\n",
              "4  Just got sent this photo from Ruby #Alaska as ...       disaster"
            ],
            "text/html": [
              "\n",
              "  <div id=\"df-9dedcf8a-ffbb-4735-9637-31c079b1e2b4\">\n",
              "    <div class=\"colab-df-container\">\n",
              "      <div>\n",
              "<style scoped>\n",
              "    .dataframe tbody tr th:only-of-type {\n",
              "        vertical-align: middle;\n",
              "    }\n",
              "\n",
              "    .dataframe tbody tr th {\n",
              "        vertical-align: top;\n",
              "    }\n",
              "\n",
              "    .dataframe thead th {\n",
              "        text-align: right;\n",
              "    }\n",
              "</style>\n",
              "<table border=\"1\" class=\"dataframe\">\n",
              "  <thead>\n",
              "    <tr style=\"text-align: right;\">\n",
              "      <th></th>\n",
              "      <th>text</th>\n",
              "      <th>classification</th>\n",
              "    </tr>\n",
              "  </thead>\n",
              "  <tbody>\n",
              "    <tr>\n",
              "      <th>0</th>\n",
              "      <td>Our Deeds are the Reason of this #earthquake M...</td>\n",
              "      <td>disaster</td>\n",
              "    </tr>\n",
              "    <tr>\n",
              "      <th>1</th>\n",
              "      <td>Forest fire near La Ronge Sask. Canada</td>\n",
              "      <td>disaster</td>\n",
              "    </tr>\n",
              "    <tr>\n",
              "      <th>2</th>\n",
              "      <td>All residents asked to 'shelter in place' are ...</td>\n",
              "      <td>disaster</td>\n",
              "    </tr>\n",
              "    <tr>\n",
              "      <th>3</th>\n",
              "      <td>13,000 people receive #wildfires evacuation or...</td>\n",
              "      <td>disaster</td>\n",
              "    </tr>\n",
              "    <tr>\n",
              "      <th>4</th>\n",
              "      <td>Just got sent this photo from Ruby #Alaska as ...</td>\n",
              "      <td>disaster</td>\n",
              "    </tr>\n",
              "  </tbody>\n",
              "</table>\n",
              "</div>\n",
              "      <button class=\"colab-df-convert\" onclick=\"convertToInteractive('df-9dedcf8a-ffbb-4735-9637-31c079b1e2b4')\"\n",
              "              title=\"Convert this dataframe to an interactive table.\"\n",
              "              style=\"display:none;\">\n",
              "        \n",
              "  <svg xmlns=\"http://www.w3.org/2000/svg\" height=\"24px\"viewBox=\"0 0 24 24\"\n",
              "       width=\"24px\">\n",
              "    <path d=\"M0 0h24v24H0V0z\" fill=\"none\"/>\n",
              "    <path d=\"M18.56 5.44l.94 2.06.94-2.06 2.06-.94-2.06-.94-.94-2.06-.94 2.06-2.06.94zm-11 1L8.5 8.5l.94-2.06 2.06-.94-2.06-.94L8.5 2.5l-.94 2.06-2.06.94zm10 10l.94 2.06.94-2.06 2.06-.94-2.06-.94-.94-2.06-.94 2.06-2.06.94z\"/><path d=\"M17.41 7.96l-1.37-1.37c-.4-.4-.92-.59-1.43-.59-.52 0-1.04.2-1.43.59L10.3 9.45l-7.72 7.72c-.78.78-.78 2.05 0 2.83L4 21.41c.39.39.9.59 1.41.59.51 0 1.02-.2 1.41-.59l7.78-7.78 2.81-2.81c.8-.78.8-2.07 0-2.86zM5.41 20L4 18.59l7.72-7.72 1.47 1.35L5.41 20z\"/>\n",
              "  </svg>\n",
              "      </button>\n",
              "      \n",
              "  <style>\n",
              "    .colab-df-container {\n",
              "      display:flex;\n",
              "      flex-wrap:wrap;\n",
              "      gap: 12px;\n",
              "    }\n",
              "\n",
              "    .colab-df-convert {\n",
              "      background-color: #E8F0FE;\n",
              "      border: none;\n",
              "      border-radius: 50%;\n",
              "      cursor: pointer;\n",
              "      display: none;\n",
              "      fill: #1967D2;\n",
              "      height: 32px;\n",
              "      padding: 0 0 0 0;\n",
              "      width: 32px;\n",
              "    }\n",
              "\n",
              "    .colab-df-convert:hover {\n",
              "      background-color: #E2EBFA;\n",
              "      box-shadow: 0px 1px 2px rgba(60, 64, 67, 0.3), 0px 1px 3px 1px rgba(60, 64, 67, 0.15);\n",
              "      fill: #174EA6;\n",
              "    }\n",
              "\n",
              "    [theme=dark] .colab-df-convert {\n",
              "      background-color: #3B4455;\n",
              "      fill: #D2E3FC;\n",
              "    }\n",
              "\n",
              "    [theme=dark] .colab-df-convert:hover {\n",
              "      background-color: #434B5C;\n",
              "      box-shadow: 0px 1px 3px 1px rgba(0, 0, 0, 0.15);\n",
              "      filter: drop-shadow(0px 1px 2px rgba(0, 0, 0, 0.3));\n",
              "      fill: #FFFFFF;\n",
              "    }\n",
              "  </style>\n",
              "\n",
              "      <script>\n",
              "        const buttonEl =\n",
              "          document.querySelector('#df-9dedcf8a-ffbb-4735-9637-31c079b1e2b4 button.colab-df-convert');\n",
              "        buttonEl.style.display =\n",
              "          google.colab.kernel.accessAllowed ? 'block' : 'none';\n",
              "\n",
              "        async function convertToInteractive(key) {\n",
              "          const element = document.querySelector('#df-9dedcf8a-ffbb-4735-9637-31c079b1e2b4');\n",
              "          const dataTable =\n",
              "            await google.colab.kernel.invokeFunction('convertToInteractive',\n",
              "                                                     [key], {});\n",
              "          if (!dataTable) return;\n",
              "\n",
              "          const docLinkHtml = 'Like what you see? Visit the ' +\n",
              "            '<a target=\"_blank\" href=https://colab.research.google.com/notebooks/data_table.ipynb>data table notebook</a>'\n",
              "            + ' to learn more about interactive tables.';\n",
              "          element.innerHTML = '';\n",
              "          dataTable['output_type'] = 'display_data';\n",
              "          await google.colab.output.renderOutput(dataTable, element);\n",
              "          const docLink = document.createElement('div');\n",
              "          docLink.innerHTML = docLinkHtml;\n",
              "          element.appendChild(docLink);\n",
              "        }\n",
              "      </script>\n",
              "    </div>\n",
              "  </div>\n",
              "  "
            ]
          },
          "metadata": {},
          "execution_count": 18
        }
      ]
    },
    {
      "cell_type": "code",
      "source": [
        "def tt_split(X, y, test_size=0.2):\n",
        "    i = int((1 - test_size) * X.shape[0]) \n",
        "    o = np.random.permutation(X.shape[0])\n",
        "    \n",
        "    X_train, X_test = np.split(np.take(X,o,axis=0), [i])\n",
        "    y_train, y_test = np.split(np.take(y,o), [i])\n",
        "    return X_train, X_test, y_train, y_test"
      ],
      "metadata": {
        "id": "skq4COdadns9"
      },
      "execution_count": 19,
      "outputs": []
    },
    {
      "cell_type": "code",
      "source": [
        "X_train_, X_test, y_train_, y_test = tt_split(train_docs_,y)"
      ],
      "metadata": {
        "id": "A7c_WSK4gnpP"
      },
      "execution_count": 20,
      "outputs": []
    },
    {
      "cell_type": "code",
      "source": [
        "X_train_"
      ],
      "metadata": {
        "colab": {
          "base_uri": "https://localhost:8080/",
          "height": 424
        },
        "id": "qVoACyVCiVwz",
        "outputId": "7a7fa754-1f91-4097-c664-b10044e09a38"
      },
      "execution_count": 21,
      "outputs": [
        {
          "output_type": "execute_result",
          "data": {
            "text/plain": [
              "                                                   text classification\n",
              "311   @KatieKatCubs you already know how this shit g...   not_disaster\n",
              "4970  @LeMaireLee @danharmon People Near Meltdown Co...   not_disaster\n",
              "527   1-6 TIX Calgary Flames vs COL Avalanche Presea...   not_disaster\n",
              "6362  If you ever think you running out of choices i...   not_disaster\n",
              "800   If you dotish to blight your car go right ahea...   not_disaster\n",
              "...                                                 ...            ...\n",
              "6647  @SwiftyCommissh @TaoistInsight @ImmortalTech S...       disaster\n",
              "6031  Thanks Benson &amp; Clegg for the #follow! Che...   not_disaster\n",
              "239   ANNIHILATED IN DAMASCUS: SYRIAN ARMY GRINDS Û...       disaster\n",
              "5720  VIDEO: 'We're picking up bodies from water': R...       disaster\n",
              "7296  My brother-n-law riooooos got the call to head...       disaster\n",
              "\n",
              "[6090 rows x 2 columns]"
            ],
            "text/html": [
              "\n",
              "  <div id=\"df-504fc1ae-35f2-4632-8741-d3cb670303b3\">\n",
              "    <div class=\"colab-df-container\">\n",
              "      <div>\n",
              "<style scoped>\n",
              "    .dataframe tbody tr th:only-of-type {\n",
              "        vertical-align: middle;\n",
              "    }\n",
              "\n",
              "    .dataframe tbody tr th {\n",
              "        vertical-align: top;\n",
              "    }\n",
              "\n",
              "    .dataframe thead th {\n",
              "        text-align: right;\n",
              "    }\n",
              "</style>\n",
              "<table border=\"1\" class=\"dataframe\">\n",
              "  <thead>\n",
              "    <tr style=\"text-align: right;\">\n",
              "      <th></th>\n",
              "      <th>text</th>\n",
              "      <th>classification</th>\n",
              "    </tr>\n",
              "  </thead>\n",
              "  <tbody>\n",
              "    <tr>\n",
              "      <th>311</th>\n",
              "      <td>@KatieKatCubs you already know how this shit g...</td>\n",
              "      <td>not_disaster</td>\n",
              "    </tr>\n",
              "    <tr>\n",
              "      <th>4970</th>\n",
              "      <td>@LeMaireLee @danharmon People Near Meltdown Co...</td>\n",
              "      <td>not_disaster</td>\n",
              "    </tr>\n",
              "    <tr>\n",
              "      <th>527</th>\n",
              "      <td>1-6 TIX Calgary Flames vs COL Avalanche Presea...</td>\n",
              "      <td>not_disaster</td>\n",
              "    </tr>\n",
              "    <tr>\n",
              "      <th>6362</th>\n",
              "      <td>If you ever think you running out of choices i...</td>\n",
              "      <td>not_disaster</td>\n",
              "    </tr>\n",
              "    <tr>\n",
              "      <th>800</th>\n",
              "      <td>If you dotish to blight your car go right ahea...</td>\n",
              "      <td>not_disaster</td>\n",
              "    </tr>\n",
              "    <tr>\n",
              "      <th>...</th>\n",
              "      <td>...</td>\n",
              "      <td>...</td>\n",
              "    </tr>\n",
              "    <tr>\n",
              "      <th>6647</th>\n",
              "      <td>@SwiftyCommissh @TaoistInsight @ImmortalTech S...</td>\n",
              "      <td>disaster</td>\n",
              "    </tr>\n",
              "    <tr>\n",
              "      <th>6031</th>\n",
              "      <td>Thanks Benson &amp;amp; Clegg for the #follow! Che...</td>\n",
              "      <td>not_disaster</td>\n",
              "    </tr>\n",
              "    <tr>\n",
              "      <th>239</th>\n",
              "      <td>ANNIHILATED IN DAMASCUS: SYRIAN ARMY GRINDS Û...</td>\n",
              "      <td>disaster</td>\n",
              "    </tr>\n",
              "    <tr>\n",
              "      <th>5720</th>\n",
              "      <td>VIDEO: 'We're picking up bodies from water': R...</td>\n",
              "      <td>disaster</td>\n",
              "    </tr>\n",
              "    <tr>\n",
              "      <th>7296</th>\n",
              "      <td>My brother-n-law riooooos got the call to head...</td>\n",
              "      <td>disaster</td>\n",
              "    </tr>\n",
              "  </tbody>\n",
              "</table>\n",
              "<p>6090 rows × 2 columns</p>\n",
              "</div>\n",
              "      <button class=\"colab-df-convert\" onclick=\"convertToInteractive('df-504fc1ae-35f2-4632-8741-d3cb670303b3')\"\n",
              "              title=\"Convert this dataframe to an interactive table.\"\n",
              "              style=\"display:none;\">\n",
              "        \n",
              "  <svg xmlns=\"http://www.w3.org/2000/svg\" height=\"24px\"viewBox=\"0 0 24 24\"\n",
              "       width=\"24px\">\n",
              "    <path d=\"M0 0h24v24H0V0z\" fill=\"none\"/>\n",
              "    <path d=\"M18.56 5.44l.94 2.06.94-2.06 2.06-.94-2.06-.94-.94-2.06-.94 2.06-2.06.94zm-11 1L8.5 8.5l.94-2.06 2.06-.94-2.06-.94L8.5 2.5l-.94 2.06-2.06.94zm10 10l.94 2.06.94-2.06 2.06-.94-2.06-.94-.94-2.06-.94 2.06-2.06.94z\"/><path d=\"M17.41 7.96l-1.37-1.37c-.4-.4-.92-.59-1.43-.59-.52 0-1.04.2-1.43.59L10.3 9.45l-7.72 7.72c-.78.78-.78 2.05 0 2.83L4 21.41c.39.39.9.59 1.41.59.51 0 1.02-.2 1.41-.59l7.78-7.78 2.81-2.81c.8-.78.8-2.07 0-2.86zM5.41 20L4 18.59l7.72-7.72 1.47 1.35L5.41 20z\"/>\n",
              "  </svg>\n",
              "      </button>\n",
              "      \n",
              "  <style>\n",
              "    .colab-df-container {\n",
              "      display:flex;\n",
              "      flex-wrap:wrap;\n",
              "      gap: 12px;\n",
              "    }\n",
              "\n",
              "    .colab-df-convert {\n",
              "      background-color: #E8F0FE;\n",
              "      border: none;\n",
              "      border-radius: 50%;\n",
              "      cursor: pointer;\n",
              "      display: none;\n",
              "      fill: #1967D2;\n",
              "      height: 32px;\n",
              "      padding: 0 0 0 0;\n",
              "      width: 32px;\n",
              "    }\n",
              "\n",
              "    .colab-df-convert:hover {\n",
              "      background-color: #E2EBFA;\n",
              "      box-shadow: 0px 1px 2px rgba(60, 64, 67, 0.3), 0px 1px 3px 1px rgba(60, 64, 67, 0.15);\n",
              "      fill: #174EA6;\n",
              "    }\n",
              "\n",
              "    [theme=dark] .colab-df-convert {\n",
              "      background-color: #3B4455;\n",
              "      fill: #D2E3FC;\n",
              "    }\n",
              "\n",
              "    [theme=dark] .colab-df-convert:hover {\n",
              "      background-color: #434B5C;\n",
              "      box-shadow: 0px 1px 3px 1px rgba(0, 0, 0, 0.15);\n",
              "      filter: drop-shadow(0px 1px 2px rgba(0, 0, 0, 0.3));\n",
              "      fill: #FFFFFF;\n",
              "    }\n",
              "  </style>\n",
              "\n",
              "      <script>\n",
              "        const buttonEl =\n",
              "          document.querySelector('#df-504fc1ae-35f2-4632-8741-d3cb670303b3 button.colab-df-convert');\n",
              "        buttonEl.style.display =\n",
              "          google.colab.kernel.accessAllowed ? 'block' : 'none';\n",
              "\n",
              "        async function convertToInteractive(key) {\n",
              "          const element = document.querySelector('#df-504fc1ae-35f2-4632-8741-d3cb670303b3');\n",
              "          const dataTable =\n",
              "            await google.colab.kernel.invokeFunction('convertToInteractive',\n",
              "                                                     [key], {});\n",
              "          if (!dataTable) return;\n",
              "\n",
              "          const docLinkHtml = 'Like what you see? Visit the ' +\n",
              "            '<a target=\"_blank\" href=https://colab.research.google.com/notebooks/data_table.ipynb>data table notebook</a>'\n",
              "            + ' to learn more about interactive tables.';\n",
              "          element.innerHTML = '';\n",
              "          dataTable['output_type'] = 'display_data';\n",
              "          await google.colab.output.renderOutput(dataTable, element);\n",
              "          const docLink = document.createElement('div');\n",
              "          docLink.innerHTML = docLinkHtml;\n",
              "          element.appendChild(docLink);\n",
              "        }\n",
              "      </script>\n",
              "    </div>\n",
              "  </div>\n",
              "  "
            ]
          },
          "metadata": {},
          "execution_count": 21
        }
      ]
    },
    {
      "cell_type": "code",
      "source": [
        "X_test"
      ],
      "metadata": {
        "colab": {
          "base_uri": "https://localhost:8080/",
          "height": 424
        },
        "id": "z6gOnftZakbH",
        "outputId": "6bf1d984-ade4-46cf-d9c9-15072282e18c"
      },
      "execution_count": 22,
      "outputs": [
        {
          "output_type": "execute_result",
          "data": {
            "text/plain": [
              "                                                   text classification\n",
              "542   The possible new jerseys for the Avalanche nex...   not_disaster\n",
              "2725  ÛÏRichmond Coaches were devastated to hear of...       disaster\n",
              "2454  Madhya Pradesh Train Derailment: Village Youth...       disaster\n",
              "1459  Small casualty on the way to Colorado http://t...       disaster\n",
              "5764  'Without an ally near you can't use this skill...   not_disaster\n",
              "...                                                 ...            ...\n",
              "4931  They are the real heroes... RIP Brave hearts.....   not_disaster\n",
              "3264  Car engulfed in flames backs up traffic at Par...       disaster\n",
              "1653  Great British Bake Off's back and Dorret's cho...       disaster\n",
              "2607  Black Eye 9: A space battle occurred at Star O...   not_disaster\n",
              "2732  ???????????? @MikeParrActor absolutely devasta...   not_disaster\n",
              "\n",
              "[1523 rows x 2 columns]"
            ],
            "text/html": [
              "\n",
              "  <div id=\"df-7f279522-1527-4cc6-b531-7f538844213a\">\n",
              "    <div class=\"colab-df-container\">\n",
              "      <div>\n",
              "<style scoped>\n",
              "    .dataframe tbody tr th:only-of-type {\n",
              "        vertical-align: middle;\n",
              "    }\n",
              "\n",
              "    .dataframe tbody tr th {\n",
              "        vertical-align: top;\n",
              "    }\n",
              "\n",
              "    .dataframe thead th {\n",
              "        text-align: right;\n",
              "    }\n",
              "</style>\n",
              "<table border=\"1\" class=\"dataframe\">\n",
              "  <thead>\n",
              "    <tr style=\"text-align: right;\">\n",
              "      <th></th>\n",
              "      <th>text</th>\n",
              "      <th>classification</th>\n",
              "    </tr>\n",
              "  </thead>\n",
              "  <tbody>\n",
              "    <tr>\n",
              "      <th>542</th>\n",
              "      <td>The possible new jerseys for the Avalanche nex...</td>\n",
              "      <td>not_disaster</td>\n",
              "    </tr>\n",
              "    <tr>\n",
              "      <th>2725</th>\n",
              "      <td>ÛÏRichmond Coaches were devastated to hear of...</td>\n",
              "      <td>disaster</td>\n",
              "    </tr>\n",
              "    <tr>\n",
              "      <th>2454</th>\n",
              "      <td>Madhya Pradesh Train Derailment: Village Youth...</td>\n",
              "      <td>disaster</td>\n",
              "    </tr>\n",
              "    <tr>\n",
              "      <th>1459</th>\n",
              "      <td>Small casualty on the way to Colorado http://t...</td>\n",
              "      <td>disaster</td>\n",
              "    </tr>\n",
              "    <tr>\n",
              "      <th>5764</th>\n",
              "      <td>'Without an ally near you can't use this skill...</td>\n",
              "      <td>not_disaster</td>\n",
              "    </tr>\n",
              "    <tr>\n",
              "      <th>...</th>\n",
              "      <td>...</td>\n",
              "      <td>...</td>\n",
              "    </tr>\n",
              "    <tr>\n",
              "      <th>4931</th>\n",
              "      <td>They are the real heroes... RIP Brave hearts.....</td>\n",
              "      <td>not_disaster</td>\n",
              "    </tr>\n",
              "    <tr>\n",
              "      <th>3264</th>\n",
              "      <td>Car engulfed in flames backs up traffic at Par...</td>\n",
              "      <td>disaster</td>\n",
              "    </tr>\n",
              "    <tr>\n",
              "      <th>1653</th>\n",
              "      <td>Great British Bake Off's back and Dorret's cho...</td>\n",
              "      <td>disaster</td>\n",
              "    </tr>\n",
              "    <tr>\n",
              "      <th>2607</th>\n",
              "      <td>Black Eye 9: A space battle occurred at Star O...</td>\n",
              "      <td>not_disaster</td>\n",
              "    </tr>\n",
              "    <tr>\n",
              "      <th>2732</th>\n",
              "      <td>???????????? @MikeParrActor absolutely devasta...</td>\n",
              "      <td>not_disaster</td>\n",
              "    </tr>\n",
              "  </tbody>\n",
              "</table>\n",
              "<p>1523 rows × 2 columns</p>\n",
              "</div>\n",
              "      <button class=\"colab-df-convert\" onclick=\"convertToInteractive('df-7f279522-1527-4cc6-b531-7f538844213a')\"\n",
              "              title=\"Convert this dataframe to an interactive table.\"\n",
              "              style=\"display:none;\">\n",
              "        \n",
              "  <svg xmlns=\"http://www.w3.org/2000/svg\" height=\"24px\"viewBox=\"0 0 24 24\"\n",
              "       width=\"24px\">\n",
              "    <path d=\"M0 0h24v24H0V0z\" fill=\"none\"/>\n",
              "    <path d=\"M18.56 5.44l.94 2.06.94-2.06 2.06-.94-2.06-.94-.94-2.06-.94 2.06-2.06.94zm-11 1L8.5 8.5l.94-2.06 2.06-.94-2.06-.94L8.5 2.5l-.94 2.06-2.06.94zm10 10l.94 2.06.94-2.06 2.06-.94-2.06-.94-.94-2.06-.94 2.06-2.06.94z\"/><path d=\"M17.41 7.96l-1.37-1.37c-.4-.4-.92-.59-1.43-.59-.52 0-1.04.2-1.43.59L10.3 9.45l-7.72 7.72c-.78.78-.78 2.05 0 2.83L4 21.41c.39.39.9.59 1.41.59.51 0 1.02-.2 1.41-.59l7.78-7.78 2.81-2.81c.8-.78.8-2.07 0-2.86zM5.41 20L4 18.59l7.72-7.72 1.47 1.35L5.41 20z\"/>\n",
              "  </svg>\n",
              "      </button>\n",
              "      \n",
              "  <style>\n",
              "    .colab-df-container {\n",
              "      display:flex;\n",
              "      flex-wrap:wrap;\n",
              "      gap: 12px;\n",
              "    }\n",
              "\n",
              "    .colab-df-convert {\n",
              "      background-color: #E8F0FE;\n",
              "      border: none;\n",
              "      border-radius: 50%;\n",
              "      cursor: pointer;\n",
              "      display: none;\n",
              "      fill: #1967D2;\n",
              "      height: 32px;\n",
              "      padding: 0 0 0 0;\n",
              "      width: 32px;\n",
              "    }\n",
              "\n",
              "    .colab-df-convert:hover {\n",
              "      background-color: #E2EBFA;\n",
              "      box-shadow: 0px 1px 2px rgba(60, 64, 67, 0.3), 0px 1px 3px 1px rgba(60, 64, 67, 0.15);\n",
              "      fill: #174EA6;\n",
              "    }\n",
              "\n",
              "    [theme=dark] .colab-df-convert {\n",
              "      background-color: #3B4455;\n",
              "      fill: #D2E3FC;\n",
              "    }\n",
              "\n",
              "    [theme=dark] .colab-df-convert:hover {\n",
              "      background-color: #434B5C;\n",
              "      box-shadow: 0px 1px 3px 1px rgba(0, 0, 0, 0.15);\n",
              "      filter: drop-shadow(0px 1px 2px rgba(0, 0, 0, 0.3));\n",
              "      fill: #FFFFFF;\n",
              "    }\n",
              "  </style>\n",
              "\n",
              "      <script>\n",
              "        const buttonEl =\n",
              "          document.querySelector('#df-7f279522-1527-4cc6-b531-7f538844213a button.colab-df-convert');\n",
              "        buttonEl.style.display =\n",
              "          google.colab.kernel.accessAllowed ? 'block' : 'none';\n",
              "\n",
              "        async function convertToInteractive(key) {\n",
              "          const element = document.querySelector('#df-7f279522-1527-4cc6-b531-7f538844213a');\n",
              "          const dataTable =\n",
              "            await google.colab.kernel.invokeFunction('convertToInteractive',\n",
              "                                                     [key], {});\n",
              "          if (!dataTable) return;\n",
              "\n",
              "          const docLinkHtml = 'Like what you see? Visit the ' +\n",
              "            '<a target=\"_blank\" href=https://colab.research.google.com/notebooks/data_table.ipynb>data table notebook</a>'\n",
              "            + ' to learn more about interactive tables.';\n",
              "          element.innerHTML = '';\n",
              "          dataTable['output_type'] = 'display_data';\n",
              "          await google.colab.output.renderOutput(dataTable, element);\n",
              "          const docLink = document.createElement('div');\n",
              "          docLink.innerHTML = docLinkHtml;\n",
              "          element.appendChild(docLink);\n",
              "        }\n",
              "      </script>\n",
              "    </div>\n",
              "  </div>\n",
              "  "
            ]
          },
          "metadata": {},
          "execution_count": 22
        }
      ]
    },
    {
      "cell_type": "code",
      "source": [
        "(x_train, y_train), (x_val, y_val), preproc = text.texts_from_df(train_df = X_train_, \n",
        "                                                                   text_column = 'text',\n",
        "                                                                   label_columns=['classification'],\n",
        "                                                                   maxlen=100, \n",
        "                                                                   max_features=100000,\n",
        "                                                                   preprocess_mode='bert',\n",
        "                                                                   val_pct=0.2)\n"
      ],
      "metadata": {
        "id": "e42fL9RDNKbt",
        "colab": {
          "base_uri": "https://localhost:8080/",
          "height": 520
        },
        "outputId": "a68ca272-f3f1-49ef-faac-737906cadd6c"
      },
      "execution_count": 23,
      "outputs": [
        {
          "output_type": "stream",
          "name": "stdout",
          "text": [
            "['disaster', 'not_disaster']\n",
            "      disaster  not_disaster\n",
            "6374       1.0           0.0\n",
            "6503       0.0           1.0\n",
            "1988       0.0           1.0\n",
            "4173       0.0           1.0\n",
            "1699       0.0           1.0\n",
            "['disaster', 'not_disaster']\n",
            "      disaster  not_disaster\n",
            "2844       1.0           0.0\n",
            "6691       1.0           0.0\n",
            "1746       0.0           1.0\n",
            "6134       0.0           1.0\n",
            "5757       0.0           1.0\n",
            "downloading pretrained BERT model (uncased_L-12_H-768_A-12.zip)...\n",
            "[██████████████████████████████████████████████████]\n",
            "extracting pretrained BERT model...\n",
            "done.\n",
            "\n",
            "cleanup downloaded zip...\n",
            "done.\n",
            "\n",
            "preprocessing train...\n",
            "language: en\n"
          ]
        },
        {
          "output_type": "display_data",
          "data": {
            "text/plain": [
              "<IPython.core.display.HTML object>"
            ],
            "text/html": [
              "\n",
              "<style>\n",
              "    /* Turns off some styling */\n",
              "    progress {\n",
              "        /* gets rid of default border in Firefox and Opera. */\n",
              "        border: none;\n",
              "        /* Needs to be in here for Safari polyfill so background images work as expected. */\n",
              "        background-size: auto;\n",
              "    }\n",
              "    .progress-bar-interrupted, .progress-bar-interrupted::-webkit-progress-bar {\n",
              "        background: #F44336;\n",
              "    }\n",
              "</style>\n"
            ]
          },
          "metadata": {}
        },
        {
          "output_type": "display_data",
          "data": {
            "text/plain": [
              "<IPython.core.display.HTML object>"
            ],
            "text/html": [
              "done."
            ]
          },
          "metadata": {}
        },
        {
          "output_type": "stream",
          "name": "stdout",
          "text": [
            "Is Multi-Label? False\n",
            "preprocessing test...\n",
            "language: en\n"
          ]
        },
        {
          "output_type": "display_data",
          "data": {
            "text/plain": [
              "<IPython.core.display.HTML object>"
            ],
            "text/html": [
              "\n",
              "<style>\n",
              "    /* Turns off some styling */\n",
              "    progress {\n",
              "        /* gets rid of default border in Firefox and Opera. */\n",
              "        border: none;\n",
              "        /* Needs to be in here for Safari polyfill so background images work as expected. */\n",
              "        background-size: auto;\n",
              "    }\n",
              "    .progress-bar-interrupted, .progress-bar-interrupted::-webkit-progress-bar {\n",
              "        background: #F44336;\n",
              "    }\n",
              "</style>\n"
            ]
          },
          "metadata": {}
        },
        {
          "output_type": "display_data",
          "data": {
            "text/plain": [
              "<IPython.core.display.HTML object>"
            ],
            "text/html": [
              "done."
            ]
          },
          "metadata": {}
        }
      ]
    },
    {
      "cell_type": "markdown",
      "source": [
        "## Modelling with BERT"
      ],
      "metadata": {
        "id": "tGW5DZBPD7Sl"
      }
    },
    {
      "cell_type": "code",
      "source": [
        "model = text.text_classifier(name='bert', train_data = (x_train, y_train) , preproc=preproc)"
      ],
      "metadata": {
        "colab": {
          "base_uri": "https://localhost:8080/"
        },
        "id": "srZyAxKGMj2l",
        "outputId": "4cf63091-474d-448b-c4d9-44a0abdcea8d"
      },
      "execution_count": 24,
      "outputs": [
        {
          "output_type": "stream",
          "name": "stdout",
          "text": [
            "Is Multi-Label? False\n",
            "maxlen is 100\n",
            "done.\n"
          ]
        }
      ]
    },
    {
      "cell_type": "code",
      "source": [
        "learner = ktrain.get_learner(model = model, \n",
        "                             train_data=(x_train, y_train), \n",
        "                             val_data=(x_val, y_val), \n",
        "                             batch_size=32, \n",
        "                             use_multiprocessing = True)\n"
      ],
      "metadata": {
        "id": "3hBCDBT4ywjb"
      },
      "execution_count": 25,
      "outputs": []
    },
    {
      "cell_type": "code",
      "source": [
        "learner.fit_onecycle(lr=2e-5, epochs=1,checkpoint_folder='output')"
      ],
      "metadata": {
        "colab": {
          "base_uri": "https://localhost:8080/"
        },
        "id": "wmGW_oZHzB1a",
        "outputId": "ed3aef8b-6591-4c9f-d054-52a26b14ca81"
      },
      "execution_count": 26,
      "outputs": [
        {
          "output_type": "stream",
          "name": "stdout",
          "text": [
            "\n",
            "\n",
            "begin training using onecycle policy with max lr of 2e-05...\n",
            "153/153 [==============================] - 134s 742ms/step - loss: 0.5086 - accuracy: 0.7562 - val_loss: 0.3948 - val_accuracy: 0.8415\n"
          ]
        },
        {
          "output_type": "execute_result",
          "data": {
            "text/plain": [
              "<keras.callbacks.History at 0x7f379e1ce810>"
            ]
          },
          "metadata": {},
          "execution_count": 26
        }
      ]
    },
    {
      "cell_type": "code",
      "source": [
        "predictor = ktrain.get_predictor(learner.model, preproc)"
      ],
      "metadata": {
        "id": "oUr24X4fYCN3"
      },
      "execution_count": 27,
      "outputs": []
    },
    {
      "cell_type": "code",
      "source": [
        "learner.print_layers()"
      ],
      "metadata": {
        "id": "7PJL3iHxBOXa",
        "colab": {
          "base_uri": "https://localhost:8080/"
        },
        "outputId": "91a29d88-44ce-44e0-88c2-0aac3984eebb"
      },
      "execution_count": 28,
      "outputs": [
        {
          "output_type": "stream",
          "name": "stdout",
          "text": [
            "0 (trainable=True) : <keras.engine.input_layer.InputLayer object at 0x7f37b6ea3ed0>\n",
            "1 (trainable=True) : <keras.engine.input_layer.InputLayer object at 0x7f37b6ed00d0>\n",
            "2 (trainable=True) : <keras_bert.layers.embedding.TokenEmbedding object at 0x7f37bab7b710>\n",
            "3 (trainable=True) : <keras.layers.embeddings.Embedding object at 0x7f37b6ed0c50>\n",
            "4 (trainable=True) : <keras.layers.merge.Add object at 0x7f37b6e7d410>\n",
            "5 (trainable=True) : <keras_pos_embd.pos_embd.PositionEmbedding object at 0x7f37b03a9510>\n",
            "6 (trainable=True) : <keras.layers.core.dropout.Dropout object at 0x7f37b02daa90>\n",
            "7 (trainable=True) : <keras_layer_normalization.layer_normalization.LayerNormalization object at 0x7f37bdb95810>\n",
            "8 (trainable=True) : <keras_multi_head.multi_head_attention.MultiHeadAttention object at 0x7f37b02a53d0>\n",
            "9 (trainable=True) : <keras.layers.core.dropout.Dropout object at 0x7f37b0336d90>\n",
            "10 (trainable=True) : <keras.layers.merge.Add object at 0x7f37b0412cd0>\n",
            "11 (trainable=True) : <keras_layer_normalization.layer_normalization.LayerNormalization object at 0x7f37b03ba290>\n",
            "12 (trainable=True) : <keras_position_wise_feed_forward.feed_forward.FeedForward object at 0x7f37b02a5750>\n",
            "13 (trainable=True) : <keras.layers.core.dropout.Dropout object at 0x7f37b019c650>\n",
            "14 (trainable=True) : <keras.layers.merge.Add object at 0x7f37b037f310>\n",
            "15 (trainable=True) : <keras_layer_normalization.layer_normalization.LayerNormalization object at 0x7f37b016d810>\n",
            "16 (trainable=True) : <keras_multi_head.multi_head_attention.MultiHeadAttention object at 0x7f37b00f8c90>\n",
            "17 (trainable=True) : <keras.layers.core.dropout.Dropout object at 0x7f37b0014650>\n",
            "18 (trainable=True) : <keras.layers.merge.Add object at 0x7f37b0131390>\n",
            "19 (trainable=True) : <keras_layer_normalization.layer_normalization.LayerNormalization object at 0x7f37b03c0b90>\n",
            "20 (trainable=True) : <keras_position_wise_feed_forward.feed_forward.FeedForward object at 0x7f37b00143d0>\n",
            "21 (trainable=True) : <keras.layers.core.dropout.Dropout object at 0x7f37b0276250>\n",
            "22 (trainable=True) : <keras.layers.merge.Add object at 0x7f37b0077b50>\n",
            "23 (trainable=True) : <keras_layer_normalization.layer_normalization.LayerNormalization object at 0x7f37b02f5e10>\n",
            "24 (trainable=True) : <keras_multi_head.multi_head_attention.MultiHeadAttention object at 0x7f37b0338790>\n",
            "25 (trainable=True) : <keras.layers.core.dropout.Dropout object at 0x7f37b009fb10>\n",
            "26 (trainable=True) : <keras.layers.merge.Add object at 0x7f37b01cdf90>\n",
            "27 (trainable=True) : <keras_layer_normalization.layer_normalization.LayerNormalization object at 0x7f37b03b1890>\n",
            "28 (trainable=True) : <keras_position_wise_feed_forward.feed_forward.FeedForward object at 0x7f37b03c0650>\n",
            "29 (trainable=True) : <keras.layers.core.dropout.Dropout object at 0x7f37b0215750>\n",
            "30 (trainable=True) : <keras.layers.merge.Add object at 0x7f37b0293450>\n",
            "31 (trainable=True) : <keras_layer_normalization.layer_normalization.LayerNormalization object at 0x7f37b03a65d0>\n",
            "32 (trainable=True) : <keras_multi_head.multi_head_attention.MultiHeadAttention object at 0x7f37b0091b10>\n",
            "33 (trainable=True) : <keras.layers.core.dropout.Dropout object at 0x7f37b0077090>\n",
            "34 (trainable=True) : <keras.layers.merge.Add object at 0x7f37b03043d0>\n",
            "35 (trainable=True) : <keras_layer_normalization.layer_normalization.LayerNormalization object at 0x7f37b031e710>\n",
            "36 (trainable=True) : <keras_position_wise_feed_forward.feed_forward.FeedForward object at 0x7f37b0309cd0>\n",
            "37 (trainable=True) : <keras.layers.core.dropout.Dropout object at 0x7f37b016d890>\n",
            "38 (trainable=True) : <keras.layers.merge.Add object at 0x7f379e792d90>\n",
            "39 (trainable=True) : <keras_layer_normalization.layer_normalization.LayerNormalization object at 0x7f37b0014490>\n",
            "40 (trainable=True) : <keras_multi_head.multi_head_attention.MultiHeadAttention object at 0x7f379e74b690>\n",
            "41 (trainable=True) : <keras.layers.core.dropout.Dropout object at 0x7f37b00149d0>\n",
            "42 (trainable=True) : <keras.layers.merge.Add object at 0x7f37b016d450>\n",
            "43 (trainable=True) : <keras_layer_normalization.layer_normalization.LayerNormalization object at 0x7f37b009f1d0>\n",
            "44 (trainable=True) : <keras_position_wise_feed_forward.feed_forward.FeedForward object at 0x7f379e6e0750>\n",
            "45 (trainable=True) : <keras.layers.core.dropout.Dropout object at 0x7f37b01c7210>\n",
            "46 (trainable=True) : <keras.layers.merge.Add object at 0x7f379e7b4d50>\n",
            "47 (trainable=True) : <keras_layer_normalization.layer_normalization.LayerNormalization object at 0x7f379e747850>\n",
            "48 (trainable=True) : <keras_multi_head.multi_head_attention.MultiHeadAttention object at 0x7f379e6e8f50>\n",
            "49 (trainable=True) : <keras.layers.core.dropout.Dropout object at 0x7f37b0309c90>\n",
            "50 (trainable=True) : <keras.layers.merge.Add object at 0x7f379e6f2ed0>\n",
            "51 (trainable=True) : <keras_layer_normalization.layer_normalization.LayerNormalization object at 0x7f379e6f8190>\n",
            "52 (trainable=True) : <keras_position_wise_feed_forward.feed_forward.FeedForward object at 0x7f37b0077790>\n",
            "53 (trainable=True) : <keras.layers.core.dropout.Dropout object at 0x7f37b016dbd0>\n",
            "54 (trainable=True) : <keras.layers.merge.Add object at 0x7f379e61f8d0>\n",
            "55 (trainable=True) : <keras_layer_normalization.layer_normalization.LayerNormalization object at 0x7f37b00777d0>\n",
            "56 (trainable=True) : <keras_multi_head.multi_head_attention.MultiHeadAttention object at 0x7f379e5c5d90>\n",
            "57 (trainable=True) : <keras.layers.core.dropout.Dropout object at 0x7f37b025eb10>\n",
            "58 (trainable=True) : <keras.layers.merge.Add object at 0x7f37b0146950>\n",
            "59 (trainable=True) : <keras_layer_normalization.layer_normalization.LayerNormalization object at 0x7f379e5cced0>\n",
            "60 (trainable=True) : <keras_position_wise_feed_forward.feed_forward.FeedForward object at 0x7f37b00144d0>\n",
            "61 (trainable=True) : <keras.layers.core.dropout.Dropout object at 0x7f37b012c910>\n",
            "62 (trainable=True) : <keras.layers.merge.Add object at 0x7f379e597690>\n",
            "63 (trainable=True) : <keras_layer_normalization.layer_normalization.LayerNormalization object at 0x7f37b03a2810>\n",
            "64 (trainable=True) : <keras_multi_head.multi_head_attention.MultiHeadAttention object at 0x7f37b016d190>\n",
            "65 (trainable=True) : <keras.layers.core.dropout.Dropout object at 0x7f379e55ce10>\n",
            "66 (trainable=True) : <keras.layers.merge.Add object at 0x7f379e545f10>\n",
            "67 (trainable=True) : <keras_layer_normalization.layer_normalization.LayerNormalization object at 0x7f379e54b7d0>\n",
            "68 (trainable=True) : <keras_position_wise_feed_forward.feed_forward.FeedForward object at 0x7f379e53da90>\n",
            "69 (trainable=True) : <keras.layers.core.dropout.Dropout object at 0x7f37b02b7e90>\n",
            "70 (trainable=True) : <keras.layers.merge.Add object at 0x7f379e4e4f10>\n",
            "71 (trainable=True) : <keras_layer_normalization.layer_normalization.LayerNormalization object at 0x7f379e487350>\n",
            "72 (trainable=True) : <keras_multi_head.multi_head_attention.MultiHeadAttention object at 0x7f37b0352d10>\n",
            "73 (trainable=True) : <keras.layers.core.dropout.Dropout object at 0x7f37b03a64d0>\n",
            "74 (trainable=True) : <keras.layers.merge.Add object at 0x7f379e4df9d0>\n",
            "75 (trainable=True) : <keras_layer_normalization.layer_normalization.LayerNormalization object at 0x7f379e494f50>\n",
            "76 (trainable=True) : <keras_position_wise_feed_forward.feed_forward.FeedForward object at 0x7f379e490a50>\n",
            "77 (trainable=True) : <keras.layers.core.dropout.Dropout object at 0x7f379e465d90>\n",
            "78 (trainable=True) : <keras.layers.merge.Add object at 0x7f37b0390b10>\n",
            "79 (trainable=True) : <keras_layer_normalization.layer_normalization.LayerNormalization object at 0x7f379e40db90>\n",
            "80 (trainable=True) : <keras_multi_head.multi_head_attention.MultiHeadAttention object at 0x7f379e41b710>\n",
            "81 (trainable=True) : <keras.layers.core.dropout.Dropout object at 0x7f379e411f10>\n",
            "82 (trainable=True) : <keras.layers.merge.Add object at 0x7f379e426410>\n",
            "83 (trainable=True) : <keras_layer_normalization.layer_normalization.LayerNormalization object at 0x7f379e42a950>\n",
            "84 (trainable=True) : <keras_position_wise_feed_forward.feed_forward.FeedForward object at 0x7f379e3b0d10>\n",
            "85 (trainable=True) : <keras.layers.core.dropout.Dropout object at 0x7f37b014db10>\n",
            "86 (trainable=True) : <keras.layers.merge.Add object at 0x7f37b0138810>\n",
            "87 (trainable=True) : <keras_layer_normalization.layer_normalization.LayerNormalization object at 0x7f37b013e350>\n",
            "88 (trainable=True) : <keras_multi_head.multi_head_attention.MultiHeadAttention object at 0x7f37b019c1d0>\n",
            "89 (trainable=True) : <keras.layers.core.dropout.Dropout object at 0x7f37b0146190>\n",
            "90 (trainable=True) : <keras.layers.merge.Add object at 0x7f37b016afd0>\n",
            "91 (trainable=True) : <keras_layer_normalization.layer_normalization.LayerNormalization object at 0x7f37b0132f50>\n",
            "92 (trainable=True) : <keras_position_wise_feed_forward.feed_forward.FeedForward object at 0x7f37b0216890>\n",
            "93 (trainable=True) : <keras.layers.core.dropout.Dropout object at 0x7f37b02ab810>\n",
            "94 (trainable=True) : <keras.layers.merge.Add object at 0x7f37b0132c10>\n",
            "95 (trainable=True) : <keras_layer_normalization.layer_normalization.LayerNormalization object at 0x7f37b0330d90>\n",
            "96 (trainable=True) : <keras_multi_head.multi_head_attention.MultiHeadAttention object at 0x7f37b03ba6d0>\n",
            "97 (trainable=True) : <keras.layers.core.dropout.Dropout object at 0x7f37b03a9dd0>\n",
            "98 (trainable=True) : <keras.layers.merge.Add object at 0x7f379e465310>\n",
            "99 (trainable=True) : <keras_layer_normalization.layer_normalization.LayerNormalization object at 0x7f379e46cb90>\n",
            "100 (trainable=True) : <keras_position_wise_feed_forward.feed_forward.FeedForward object at 0x7f379e2d41d0>\n",
            "101 (trainable=True) : <keras.layers.core.dropout.Dropout object at 0x7f379e312dd0>\n",
            "102 (trainable=True) : <keras.layers.merge.Add object at 0x7f379e2d98d0>\n",
            "103 (trainable=True) : <keras_layer_normalization.layer_normalization.LayerNormalization object at 0x7f379e2f7a50>\n",
            "104 (trainable=True) : <keras_bert.layers.extract.Extract object at 0x7f379e2e5410>\n",
            "105 (trainable=True) : <keras.layers.core.dense.Dense object at 0x7f379e2e5d90>\n",
            "106 (trainable=True) : <keras.layers.core.dense.Dense object at 0x7f37babca590>\n"
          ]
        }
      ]
    },
    {
      "cell_type": "code",
      "source": [
        "pred_tweets_train = predictor.predict(X_train_.text.values)\n",
        "pred_tweets_train = pd.DataFrame(data=pred_tweets_train, columns=['predicted_label_train'])"
      ],
      "metadata": {
        "id": "_qc9M6ydEPaG"
      },
      "execution_count": 29,
      "outputs": []
    },
    {
      "cell_type": "code",
      "source": [
        "pred_tweets_test = predictor.predict(X_test.text.values)\n",
        "pred_tweets_test = pd.DataFrame(data=pred_tweets_test, columns=['predicted_label_test'])"
      ],
      "metadata": {
        "id": "yC2ryYdFEbW8"
      },
      "execution_count": 30,
      "outputs": []
    },
    {
      "cell_type": "code",
      "source": [
        "accuracy_tweets_train = accuracy_score(y_train_, pred_tweets_train) \n",
        "accuracy_tweets_test = accuracy_score(y_test, pred_tweets_test)      "
      ],
      "metadata": {
        "id": "BiQG7vJ3HS6V"
      },
      "execution_count": 31,
      "outputs": []
    },
    {
      "cell_type": "code",
      "source": [
        "F1_tweets_train = f1_score(y_train_, pred_tweets_train, average='weighted') \n",
        "F1_tweets_test = f1_score(y_test, pred_tweets_test, average='weighted') "
      ],
      "metadata": {
        "id": "TUGDyhgxLPIJ"
      },
      "execution_count": 32,
      "outputs": []
    },
    {
      "cell_type": "code",
      "source": [
        "d1 = {'metrics': ['Accuracy', 'F1_score'],\n",
        "     'model': ['BERT_by_ktrain','BERT_by_ktrain'],\n",
        "    'train': [accuracy_tweets_train,F1_tweets_train],\n",
        "    'test': [accuracy_tweets_test,F1_tweets_test]}\n",
        "df1 = pd.DataFrame(data=d1, columns=['model','metrics','train','test'])\n",
        "print('Metrics on disaster classification')\n",
        "df1"
      ],
      "metadata": {
        "colab": {
          "base_uri": "https://localhost:8080/",
          "height": 129
        },
        "id": "pJPazyWRIz4H",
        "outputId": "53293d60-8a66-49bd-e90a-a1031e77d9e6"
      },
      "execution_count": 33,
      "outputs": [
        {
          "output_type": "stream",
          "name": "stdout",
          "text": [
            "Metrics on disaster classification\n"
          ]
        },
        {
          "output_type": "execute_result",
          "data": {
            "text/plain": [
              "            model   metrics     train      test\n",
              "0  BERT_by_ktrain  Accuracy  0.853530  0.821405\n",
              "1  BERT_by_ktrain  F1_score  0.853102  0.820450"
            ],
            "text/html": [
              "\n",
              "  <div id=\"df-0de75be3-e0af-4197-82a9-d1d73cc21051\">\n",
              "    <div class=\"colab-df-container\">\n",
              "      <div>\n",
              "<style scoped>\n",
              "    .dataframe tbody tr th:only-of-type {\n",
              "        vertical-align: middle;\n",
              "    }\n",
              "\n",
              "    .dataframe tbody tr th {\n",
              "        vertical-align: top;\n",
              "    }\n",
              "\n",
              "    .dataframe thead th {\n",
              "        text-align: right;\n",
              "    }\n",
              "</style>\n",
              "<table border=\"1\" class=\"dataframe\">\n",
              "  <thead>\n",
              "    <tr style=\"text-align: right;\">\n",
              "      <th></th>\n",
              "      <th>model</th>\n",
              "      <th>metrics</th>\n",
              "      <th>train</th>\n",
              "      <th>test</th>\n",
              "    </tr>\n",
              "  </thead>\n",
              "  <tbody>\n",
              "    <tr>\n",
              "      <th>0</th>\n",
              "      <td>BERT_by_ktrain</td>\n",
              "      <td>Accuracy</td>\n",
              "      <td>0.853530</td>\n",
              "      <td>0.821405</td>\n",
              "    </tr>\n",
              "    <tr>\n",
              "      <th>1</th>\n",
              "      <td>BERT_by_ktrain</td>\n",
              "      <td>F1_score</td>\n",
              "      <td>0.853102</td>\n",
              "      <td>0.820450</td>\n",
              "    </tr>\n",
              "  </tbody>\n",
              "</table>\n",
              "</div>\n",
              "      <button class=\"colab-df-convert\" onclick=\"convertToInteractive('df-0de75be3-e0af-4197-82a9-d1d73cc21051')\"\n",
              "              title=\"Convert this dataframe to an interactive table.\"\n",
              "              style=\"display:none;\">\n",
              "        \n",
              "  <svg xmlns=\"http://www.w3.org/2000/svg\" height=\"24px\"viewBox=\"0 0 24 24\"\n",
              "       width=\"24px\">\n",
              "    <path d=\"M0 0h24v24H0V0z\" fill=\"none\"/>\n",
              "    <path d=\"M18.56 5.44l.94 2.06.94-2.06 2.06-.94-2.06-.94-.94-2.06-.94 2.06-2.06.94zm-11 1L8.5 8.5l.94-2.06 2.06-.94-2.06-.94L8.5 2.5l-.94 2.06-2.06.94zm10 10l.94 2.06.94-2.06 2.06-.94-2.06-.94-.94-2.06-.94 2.06-2.06.94z\"/><path d=\"M17.41 7.96l-1.37-1.37c-.4-.4-.92-.59-1.43-.59-.52 0-1.04.2-1.43.59L10.3 9.45l-7.72 7.72c-.78.78-.78 2.05 0 2.83L4 21.41c.39.39.9.59 1.41.59.51 0 1.02-.2 1.41-.59l7.78-7.78 2.81-2.81c.8-.78.8-2.07 0-2.86zM5.41 20L4 18.59l7.72-7.72 1.47 1.35L5.41 20z\"/>\n",
              "  </svg>\n",
              "      </button>\n",
              "      \n",
              "  <style>\n",
              "    .colab-df-container {\n",
              "      display:flex;\n",
              "      flex-wrap:wrap;\n",
              "      gap: 12px;\n",
              "    }\n",
              "\n",
              "    .colab-df-convert {\n",
              "      background-color: #E8F0FE;\n",
              "      border: none;\n",
              "      border-radius: 50%;\n",
              "      cursor: pointer;\n",
              "      display: none;\n",
              "      fill: #1967D2;\n",
              "      height: 32px;\n",
              "      padding: 0 0 0 0;\n",
              "      width: 32px;\n",
              "    }\n",
              "\n",
              "    .colab-df-convert:hover {\n",
              "      background-color: #E2EBFA;\n",
              "      box-shadow: 0px 1px 2px rgba(60, 64, 67, 0.3), 0px 1px 3px 1px rgba(60, 64, 67, 0.15);\n",
              "      fill: #174EA6;\n",
              "    }\n",
              "\n",
              "    [theme=dark] .colab-df-convert {\n",
              "      background-color: #3B4455;\n",
              "      fill: #D2E3FC;\n",
              "    }\n",
              "\n",
              "    [theme=dark] .colab-df-convert:hover {\n",
              "      background-color: #434B5C;\n",
              "      box-shadow: 0px 1px 3px 1px rgba(0, 0, 0, 0.15);\n",
              "      filter: drop-shadow(0px 1px 2px rgba(0, 0, 0, 0.3));\n",
              "      fill: #FFFFFF;\n",
              "    }\n",
              "  </style>\n",
              "\n",
              "      <script>\n",
              "        const buttonEl =\n",
              "          document.querySelector('#df-0de75be3-e0af-4197-82a9-d1d73cc21051 button.colab-df-convert');\n",
              "        buttonEl.style.display =\n",
              "          google.colab.kernel.accessAllowed ? 'block' : 'none';\n",
              "\n",
              "        async function convertToInteractive(key) {\n",
              "          const element = document.querySelector('#df-0de75be3-e0af-4197-82a9-d1d73cc21051');\n",
              "          const dataTable =\n",
              "            await google.colab.kernel.invokeFunction('convertToInteractive',\n",
              "                                                     [key], {});\n",
              "          if (!dataTable) return;\n",
              "\n",
              "          const docLinkHtml = 'Like what you see? Visit the ' +\n",
              "            '<a target=\"_blank\" href=https://colab.research.google.com/notebooks/data_table.ipynb>data table notebook</a>'\n",
              "            + ' to learn more about interactive tables.';\n",
              "          element.innerHTML = '';\n",
              "          dataTable['output_type'] = 'display_data';\n",
              "          await google.colab.output.renderOutput(dataTable, element);\n",
              "          const docLink = document.createElement('div');\n",
              "          docLink.innerHTML = docLinkHtml;\n",
              "          element.appendChild(docLink);\n",
              "        }\n",
              "      </script>\n",
              "    </div>\n",
              "  </div>\n",
              "  "
            ]
          },
          "metadata": {},
          "execution_count": 33
        }
      ]
    },
    {
      "cell_type": "code",
      "source": [
        "# Plot confusion matrix\n",
        "cm = confusion_matrix(y_train_, pred_tweets_train)\n",
        "sns.heatmap(cm, annot=True, fmt='d', cmap=plt.cm.Blues, cbar=True)\n",
        "plt.title(\"Confusion Matrix on train\")\n",
        "plt.xlabel('Predicted')\n",
        "plt.ylabel('True label')\n",
        "plt.yticks(rotation=0)\n",
        "plt.show()"
      ],
      "metadata": {
        "id": "UlwOrPX6PuiV",
        "colab": {
          "base_uri": "https://localhost:8080/",
          "height": 295
        },
        "outputId": "60aade0e-5b1e-457d-9793-a2e0c9e9593e"
      },
      "execution_count": 34,
      "outputs": [
        {
          "output_type": "display_data",
          "data": {
            "text/plain": [
              "<Figure size 432x288 with 2 Axes>"
            ],
            "image/png": "[encoded data removed]"
          },
          "metadata": {
            "needs_background": "light"
          }
        }
      ]
    },
    {
      "cell_type": "code",
      "source": [
        "# Plot confusion matrix\n",
        "cm = confusion_matrix(y_test, pred_tweets_test)\n",
        "sns.heatmap(cm, annot=True, fmt='d', cmap=plt.cm.Blues, cbar=True)\n",
        "plt.title(\"Confusion Matrix on test\")\n",
        "plt.xlabel('Predicted')\n",
        "plt.ylabel('True label')\n",
        "plt.yticks(rotation=0)\n",
        "plt.show() "
      ],
      "metadata": {
        "id": "SYQ9H_Kp-Xyf",
        "colab": {
          "base_uri": "https://localhost:8080/",
          "height": 295
        },
        "outputId": "5b67a5d5-a34b-4601-92cd-89820bd4b341"
      },
      "execution_count": 35,
      "outputs": [
        {
          "output_type": "display_data",
          "data": {
            "text/plain": [
              "<Figure size 432x288 with 2 Axes>"
            ],
            "image/png": "[encoded data removed]"
          },
          "metadata": {
            "needs_background": "light"
          }
        }
      ]
    },
    {
      "cell_type": "markdown",
      "source": [
        "## Inference"
      ],
      "metadata": {
        "id": "HrgPT04EJpIt"
      }
    },
    {
      "cell_type": "code",
      "source": [
        "pd.set_option('display.max_colwidth', None)"
      ],
      "metadata": {
        "id": "B9-Kpm947xmc"
      },
      "execution_count": 43,
      "outputs": []
    },
    {
      "cell_type": "code",
      "source": [
        "predictor.predict(\"The possible new jerseys for the Avalanche next year. ????\")"
      ],
      "metadata": {
        "colab": {
          "base_uri": "https://localhost:8080/",
          "height": 36
        },
        "id": "_x1MhXHm714-",
        "outputId": "c2b9623f-3b3f-4d3e-f7e0-afbce844ea92"
      },
      "execution_count": 45,
      "outputs": [
        {
          "output_type": "execute_result",
          "data": {
            "text/plain": [
              "'not_disaster'"
            ],
            "application/vnd.google.colaboratory.intrinsic+json": {
              "type": "string"
            }
          },
          "metadata": {},
          "execution_count": 45
        }
      ]
    },
    {
      "cell_type": "code",
      "source": [
        "X_test.loc[542,:]"
      ],
      "metadata": {
        "colab": {
          "base_uri": "https://localhost:8080/"
        },
        "id": "CfR67ICb5Sd2",
        "outputId": "dcd458e7-ad53-4fb6-ac5d-a88e609f2449"
      },
      "execution_count": 46,
      "outputs": [
        {
          "output_type": "execute_result",
          "data": {
            "text/plain": [
              "text              The possible new jerseys for the Avalanche next year. ???? http://t.co/nruzhR5XQu\n",
              "classification                                                                         not_disaster\n",
              "Name: 542, dtype: object"
            ]
          },
          "metadata": {},
          "execution_count": 46
        }
      ]
    },
    {
      "cell_type": "code",
      "source": [
        "predictor.predict('Car engulfed in flames backs up traffic at Parleys Summit ?')"
      ],
      "metadata": {
        "colab": {
          "base_uri": "https://localhost:8080/",
          "height": 36
        },
        "id": "KBxq4Mlf8Xjz",
        "outputId": "b32b9d79-6ccf-4810-d1ee-a687fc760dbb"
      },
      "execution_count": 48,
      "outputs": [
        {
          "output_type": "execute_result",
          "data": {
            "text/plain": [
              "'disaster'"
            ],
            "application/vnd.google.colaboratory.intrinsic+json": {
              "type": "string"
            }
          },
          "metadata": {},
          "execution_count": 48
        }
      ]
    },
    {
      "cell_type": "code",
      "source": [
        "X_test.loc[3264,:]"
      ],
      "metadata": {
        "colab": {
          "base_uri": "https://localhost:8080/"
        },
        "id": "5sqTFlFo8OuD",
        "outputId": "456b931d-9e0f-4529-e2ed-3db43777e207"
      },
      "execution_count": 49,
      "outputs": [
        {
          "output_type": "execute_result",
          "data": {
            "text/plain": [
              "text              Car engulfed in flames backs up traffic at ParleyÛªs Summit http://t.co/RmucfjCaZr\n",
              "classification                                                                               disaster\n",
              "Name: 3264, dtype: object"
            ]
          },
          "metadata": {},
          "execution_count": 49
        }
      ]
    },
    {
      "cell_type": "code",
      "source": [
        "predictor.predict(\"Small casualty on the way to Colorado\")"
      ],
      "metadata": {
        "colab": {
          "base_uri": "https://localhost:8080/",
          "height": 36
        },
        "id": "7wSuv1bHMOwz",
        "outputId": "84993931-f0d2-474a-8a80-b4bd2d1b8cdd"
      },
      "execution_count": 53,
      "outputs": [
        {
          "output_type": "execute_result",
          "data": {
            "text/plain": [
              "'disaster'"
            ],
            "application/vnd.google.colaboratory.intrinsic+json": {
              "type": "string"
            }
          },
          "metadata": {},
          "execution_count": 53
        }
      ]
    },
    {
      "cell_type": "code",
      "source": [
        "X_test.loc[1459,:]"
      ],
      "metadata": {
        "colab": {
          "base_uri": "https://localhost:8080/"
        },
        "id": "3VvbOlFn9Jf5",
        "outputId": "1c8162fe-2c88-4c3f-fd3d-d8636971eda8"
      },
      "execution_count": 54,
      "outputs": [
        {
          "output_type": "execute_result",
          "data": {
            "text/plain": [
              "text              Small casualty on the way to Colorado http://t.co/hDVmhSQXHm\n",
              "classification                                                        disaster\n",
              "Name: 1459, dtype: object"
            ]
          },
          "metadata": {},
          "execution_count": 54
        }
      ]
    },
    {
      "cell_type": "code",
      "source": [
        "predictor.predict(\"Bicycle-SUV accident in Mesick: Police say that the bicyclist entered onto West M-115 and collided with a boat...\")"
      ],
      "metadata": {
        "colab": {
          "base_uri": "https://localhost:8080/",
          "height": 36
        },
        "id": "WywlvfaJMYs-",
        "outputId": "7df2d51a-158e-429f-d1ba-fda9051dc6e4"
      },
      "execution_count": 56,
      "outputs": [
        {
          "output_type": "execute_result",
          "data": {
            "text/plain": [
              "'disaster'"
            ],
            "application/vnd.google.colaboratory.intrinsic+json": {
              "type": "string"
            }
          },
          "metadata": {},
          "execution_count": 56
        }
      ]
    },
    {
      "cell_type": "code",
      "source": [
        "X_test.loc[1730,:]"
      ],
      "metadata": {
        "colab": {
          "base_uri": "https://localhost:8080/"
        },
        "id": "6wY2DbN-9egs",
        "outputId": "2c37e670-0551-4c9a-9008-30147bf5fa77"
      },
      "execution_count": 58,
      "outputs": [
        {
          "output_type": "execute_result",
          "data": {
            "text/plain": [
              "text              Bicycle-SUV accident in Mesick: Police say that the bicyclist entered onto West M-115 and collided with a boat... http://t.co/A9gtOPyZK8\n",
              "classification                                                                                                                                    disaster\n",
              "Name: 1730, dtype: object"
            ]
          },
          "metadata": {},
          "execution_count": 58
        }
      ]
    },
    {
      "cell_type": "code",
      "source": [
        "predictor.predict('Oil prices falling but drivers could reap benefits')"
      ],
      "metadata": {
        "colab": {
          "base_uri": "https://localhost:8080/",
          "height": 36
        },
        "id": "ISNvRQi7McZq",
        "outputId": "0dc2bb41-90d2-4343-d4a2-e43c5b4554a9"
      },
      "execution_count": 60,
      "outputs": [
        {
          "output_type": "execute_result",
          "data": {
            "text/plain": [
              "'not_disaster'"
            ],
            "application/vnd.google.colaboratory.intrinsic+json": {
              "type": "string"
            }
          },
          "metadata": {},
          "execution_count": 60
        }
      ]
    },
    {
      "cell_type": "code",
      "source": [
        "X_test.loc[1903,:]"
      ],
      "metadata": {
        "colab": {
          "base_uri": "https://localhost:8080/"
        },
        "id": "JnwMHsYH91qH",
        "outputId": "85f46dcb-3ed4-4605-9ed2-6025f56d9909"
      },
      "execution_count": 61,
      "outputs": [
        {
          "output_type": "execute_result",
          "data": {
            "text/plain": [
              "text              Oil prices falling but drivers could reap benefits http://t.co/QlTwhoJqYA\n",
              "classification                                                                 not_disaster\n",
              "Name: 1903, dtype: object"
            ]
          },
          "metadata": {},
          "execution_count": 61
        }
      ]
    }
  ]
}