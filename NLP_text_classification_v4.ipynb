{
  "nbformat": 4,
  "nbformat_minor": 0,
  "metadata": {
    "colab": {
      "provenance": [],
      "authorship_tag": "ABX9TyODLGxuxZ+jEIXswJt1KyiY",
      "include_colab_link": true
    },
    "kernelspec": {
      "name": "python3",
      "display_name": "Python 3"
    },
    "language_info": {
      "name": "python"
    },
    "accelerator": "GPU",
    "gpuClass": "standard"
  },
  "cells": [
    {
      "cell_type": "markdown",
      "metadata": {
        "id": "view-in-github",
        "colab_type": "text"
      },
      "source": [
        "<a href=\"https://colab.research.google.com/github/claudio1975/SWISSTEXT_2022/blob/main/NLP_text_classification_v4.ipynb\" target=\"_parent\"><img src=\"https://colab.research.google.com/assets/colab-badge.svg\" alt=\"Open In Colab\"/></a>"
      ]
    },
    {
      "cell_type": "markdown",
      "source": [
        "# **NLP_&_INSURANCE: TEXT_CLASSIFICATION**"
      ],
      "metadata": {
        "id": "liWb_eKRH-sQ"
      }
    },
    {
      "cell_type": "markdown",
      "source": [
        "![](https://www.babel.sg/wp-content/uploads/2019/11/Insurance-Recommendation-System-Increased-Customer-Conversion-Engagement-Rate.png)"
      ],
      "metadata": {
        "id": "iDPfXei3_LAe"
      }
    },
    {
      "cell_type": "markdown",
      "source": [
        "## Import Libraries"
      ],
      "metadata": {
        "id": "mP5_Yn4wCaru"
      }
    },
    {
      "cell_type": "code",
      "source": [
        "!pip install ktrain"
      ],
      "metadata": {
        "colab": {
          "base_uri": "https://localhost:8080/"
        },
        "id": "bJvjkBX74054",
        "outputId": "72c3bde3-76ab-41a4-c5e5-fce6e1e39ce7"
      },
      "execution_count": 1,
      "outputs": [
        {
          "output_type": "stream",
          "name": "stdout",
          "text": [
            "Looking in indexes: https://pypi.org/simple, https://us-python.pkg.dev/colab-wheels/public/simple/\n",
            "Collecting ktrain\n",
            "  Downloading ktrain-0.33.0.tar.gz (25.3 MB)\n",
            "\u001b[2K     \u001b[90m━━━━━━━━━━━━━━━━━━━━━━━━━━━━━━━━━━━━━━━━\u001b[0m \u001b[32m25.3/25.3 MB\u001b[0m \u001b[31m27.7 MB/s\u001b[0m eta \u001b[36m0:00:00\u001b[0m\n",
            "\u001b[?25h  Preparing metadata (setup.py) ... \u001b[?25l\u001b[?25hdone\n",
            "Requirement already satisfied: scikit-learn in /usr/local/lib/python3.8/dist-packages (from ktrain) (1.0.2)\n",
            "Requirement already satisfied: matplotlib>=3.0.0 in /usr/local/lib/python3.8/dist-packages (from ktrain) (3.2.2)\n",
            "Requirement already satisfied: pandas>=1.0.1 in /usr/local/lib/python3.8/dist-packages (from ktrain) (1.3.5)\n",
            "Requirement already satisfied: fastprogress>=0.1.21 in /usr/local/lib/python3.8/dist-packages (from ktrain) (1.0.3)\n",
            "Requirement already satisfied: requests in /usr/local/lib/python3.8/dist-packages (from ktrain) (2.25.1)\n",
            "Requirement already satisfied: joblib in /usr/local/lib/python3.8/dist-packages (from ktrain) (1.2.0)\n",
            "Requirement already satisfied: packaging in /usr/local/lib/python3.8/dist-packages (from ktrain) (21.3)\n",
            "Collecting langdetect\n",
            "  Downloading langdetect-1.0.9.tar.gz (981 kB)\n",
            "\u001b[2K     \u001b[90m━━━━━━━━━━━━━━━━━━━━━━━━━━━━━━━━━━━━━━\u001b[0m \u001b[32m981.5/981.5 KB\u001b[0m \u001b[31m42.1 MB/s\u001b[0m eta \u001b[36m0:00:00\u001b[0m\n",
            "\u001b[?25h  Preparing metadata (setup.py) ... \u001b[?25l\u001b[?25hdone\n",
            "Requirement already satisfied: jieba in /usr/local/lib/python3.8/dist-packages (from ktrain) (0.42.1)\n",
            "Collecting cchardet\n",
            "  Downloading cchardet-2.1.7-cp38-cp38-manylinux2010_x86_64.whl (265 kB)\n",
            "\u001b[2K     \u001b[90m━━━━━━━━━━━━━━━━━━━━━━━━━━━━━━━━━━━━━━\u001b[0m \u001b[32m266.0/266.0 KB\u001b[0m \u001b[31m11.8 MB/s\u001b[0m eta \u001b[36m0:00:00\u001b[0m\n",
            "\u001b[?25hRequirement already satisfied: chardet in /usr/local/lib/python3.8/dist-packages (from ktrain) (4.0.0)\n",
            "Collecting syntok>1.3.3\n",
            "  Downloading syntok-1.4.4-py3-none-any.whl (24 kB)\n",
            "Collecting transformers>=4.17.0\n",
            "  Downloading transformers-4.26.0-py3-none-any.whl (6.3 MB)\n",
            "\u001b[2K     \u001b[90m━━━━━━━━━━━━━━━━━━━━━━━━━━━━━━━━━━━━━━━━\u001b[0m \u001b[32m6.3/6.3 MB\u001b[0m \u001b[31m26.9 MB/s\u001b[0m eta \u001b[36m0:00:00\u001b[0m\n",
            "\u001b[?25hCollecting sentencepiece\n",
            "  Downloading sentencepiece-0.1.97-cp38-cp38-manylinux_2_17_x86_64.manylinux2014_x86_64.whl (1.3 MB)\n",
            "\u001b[2K     \u001b[90m━━━━━━━━━━━━━━━━━━━━━━━━━━━━━━━━━━━━━━━━\u001b[0m \u001b[32m1.3/1.3 MB\u001b[0m \u001b[31m25.5 MB/s\u001b[0m eta \u001b[36m0:00:00\u001b[0m\n",
            "\u001b[?25hCollecting keras_bert>=0.86.0\n",
            "  Downloading keras-bert-0.89.0.tar.gz (25 kB)\n",
            "  Preparing metadata (setup.py) ... \u001b[?25l\u001b[?25hdone\n",
            "Collecting whoosh\n",
            "  Downloading Whoosh-2.7.4-py2.py3-none-any.whl (468 kB)\n",
            "\u001b[2K     \u001b[90m━━━━━━━━━━━━━━━━━━━━━━━━━━━━━━━━━━━━━━\u001b[0m \u001b[32m468.8/468.8 KB\u001b[0m \u001b[31m19.4 MB/s\u001b[0m eta \u001b[36m0:00:00\u001b[0m\n",
            "\u001b[?25hRequirement already satisfied: numpy in /usr/local/lib/python3.8/dist-packages (from keras_bert>=0.86.0->ktrain) (1.21.6)\n",
            "Collecting keras-transformer==0.40.0\n",
            "  Downloading keras-transformer-0.40.0.tar.gz (9.7 kB)\n",
            "  Preparing metadata (setup.py) ... \u001b[?25l\u001b[?25hdone\n",
            "Collecting keras-pos-embd==0.13.0\n",
            "  Downloading keras-pos-embd-0.13.0.tar.gz (5.6 kB)\n",
            "  Preparing metadata (setup.py) ... \u001b[?25l\u001b[?25hdone\n",
            "Collecting keras-multi-head==0.29.0\n",
            "  Downloading keras-multi-head-0.29.0.tar.gz (13 kB)\n",
            "  Preparing metadata (setup.py) ... \u001b[?25l\u001b[?25hdone\n",
            "Collecting keras-layer-normalization==0.16.0\n",
            "  Downloading keras-layer-normalization-0.16.0.tar.gz (3.9 kB)\n",
            "  Preparing metadata (setup.py) ... \u001b[?25l\u001b[?25hdone\n",
            "Collecting keras-position-wise-feed-forward==0.8.0\n",
            "  Downloading keras-position-wise-feed-forward-0.8.0.tar.gz (4.1 kB)\n",
            "  Preparing metadata (setup.py) ... \u001b[?25l\u001b[?25hdone\n",
            "Collecting keras-embed-sim==0.10.0\n",
            "  Downloading keras-embed-sim-0.10.0.tar.gz (3.6 kB)\n",
            "  Preparing metadata (setup.py) ... \u001b[?25l\u001b[?25hdone\n",
            "Collecting keras-self-attention==0.51.0\n",
            "  Downloading keras-self-attention-0.51.0.tar.gz (11 kB)\n",
            "  Preparing metadata (setup.py) ... \u001b[?25l\u001b[?25hdone\n",
            "Requirement already satisfied: python-dateutil>=2.1 in /usr/local/lib/python3.8/dist-packages (from matplotlib>=3.0.0->ktrain) (2.8.2)\n",
            "Requirement already satisfied: pyparsing!=2.0.4,!=2.1.2,!=2.1.6,>=2.0.1 in /usr/local/lib/python3.8/dist-packages (from matplotlib>=3.0.0->ktrain) (3.0.9)\n",
            "Requirement already satisfied: cycler>=0.10 in /usr/local/lib/python3.8/dist-packages (from matplotlib>=3.0.0->ktrain) (0.11.0)\n",
            "Requirement already satisfied: kiwisolver>=1.0.1 in /usr/local/lib/python3.8/dist-packages (from matplotlib>=3.0.0->ktrain) (1.4.4)\n",
            "Requirement already satisfied: pytz>=2017.3 in /usr/local/lib/python3.8/dist-packages (from pandas>=1.0.1->ktrain) (2022.7)\n",
            "Requirement already satisfied: regex>2016 in /usr/local/lib/python3.8/dist-packages (from syntok>1.3.3->ktrain) (2022.6.2)\n",
            "Collecting tokenizers!=0.11.3,<0.14,>=0.11.1\n",
            "  Downloading tokenizers-0.13.2-cp38-cp38-manylinux_2_17_x86_64.manylinux2014_x86_64.whl (7.6 MB)\n",
            "\u001b[2K     \u001b[90m━━━━━━━━━━━━━━━━━━━━━━━━━━━━━━━━━━━━━━━━\u001b[0m \u001b[32m7.6/7.6 MB\u001b[0m \u001b[31m72.8 MB/s\u001b[0m eta \u001b[36m0:00:00\u001b[0m\n",
            "\u001b[?25hRequirement already satisfied: tqdm>=4.27 in /usr/local/lib/python3.8/dist-packages (from transformers>=4.17.0->ktrain) (4.64.1)\n",
            "Requirement already satisfied: filelock in /usr/local/lib/python3.8/dist-packages (from transformers>=4.17.0->ktrain) (3.9.0)\n",
            "Requirement already satisfied: pyyaml>=5.1 in /usr/local/lib/python3.8/dist-packages (from transformers>=4.17.0->ktrain) (6.0)\n",
            "Collecting huggingface-hub<1.0,>=0.11.0\n",
            "  Downloading huggingface_hub-0.12.0-py3-none-any.whl (190 kB)\n",
            "\u001b[2K     \u001b[90m━━━━━━━━━━━━━━━━━━━━━━━━━━━━━━━━━━━━━━\u001b[0m \u001b[32m190.3/190.3 KB\u001b[0m \u001b[31m21.3 MB/s\u001b[0m eta \u001b[36m0:00:00\u001b[0m\n",
            "\u001b[?25hRequirement already satisfied: six in /usr/local/lib/python3.8/dist-packages (from langdetect->ktrain) (1.15.0)\n",
            "Requirement already satisfied: idna<3,>=2.5 in /usr/local/lib/python3.8/dist-packages (from requests->ktrain) (2.10)\n",
            "Requirement already satisfied: urllib3<1.27,>=1.21.1 in /usr/local/lib/python3.8/dist-packages (from requests->ktrain) (1.24.3)\n",
            "Requirement already satisfied: certifi>=2017.4.17 in /usr/local/lib/python3.8/dist-packages (from requests->ktrain) (2022.12.7)\n",
            "Requirement already satisfied: threadpoolctl>=2.0.0 in /usr/local/lib/python3.8/dist-packages (from scikit-learn->ktrain) (3.1.0)\n",
            "Requirement already satisfied: scipy>=1.1.0 in /usr/local/lib/python3.8/dist-packages (from scikit-learn->ktrain) (1.7.3)\n",
            "Requirement already satisfied: typing-extensions>=3.7.4.3 in /usr/local/lib/python3.8/dist-packages (from huggingface-hub<1.0,>=0.11.0->transformers>=4.17.0->ktrain) (4.4.0)\n",
            "Building wheels for collected packages: ktrain, keras_bert, keras-transformer, keras-embed-sim, keras-layer-normalization, keras-multi-head, keras-pos-embd, keras-position-wise-feed-forward, keras-self-attention, langdetect\n",
            "  Building wheel for ktrain (setup.py) ... \u001b[?25l\u001b[?25hdone\n",
            "  Created wheel for ktrain: filename=ktrain-0.33.0-py3-none-any.whl size=25313831 sha256=d659769ea6ca9866a3fb2e5838d89826d2f85c73b7709ca4c8c27e3145529436\n",
            "  Stored in directory: /root/.cache/pip/wheels/56/6a/5d/676e3966821297d89a64e6f3ca996c148a6c8b94ee1993be3a\n",
            "  Building wheel for keras_bert (setup.py) ... \u001b[?25l\u001b[?25hdone\n",
            "  Created wheel for keras_bert: filename=keras_bert-0.89.0-py3-none-any.whl size=33516 sha256=c6541800f5e593188823bf77745bab546f981e34daafd22708cc197ec28bb7b7\n",
            "  Stored in directory: /root/.cache/pip/wheels/a1/34/ed/6bbd71716d7bcea30d75e8bc5aeb94f4cb52636295c8343534\n",
            "  Building wheel for keras-transformer (setup.py) ... \u001b[?25l\u001b[?25hdone\n",
            "  Created wheel for keras-transformer: filename=keras_transformer-0.40.0-py3-none-any.whl size=12304 sha256=3cecae1f2c3ea026eaf88844a23f50022dfc7db5ba2c4cb89e68a5d5b73d65c7\n",
            "  Stored in directory: /root/.cache/pip/wheels/07/cd/a7/a8fa93f7e177eee0101fed63179f7a2fa3b53671ffaad82bfd\n",
            "  Building wheel for keras-embed-sim (setup.py) ... \u001b[?25l\u001b[?25hdone\n",
            "  Created wheel for keras-embed-sim: filename=keras_embed_sim-0.10.0-py3-none-any.whl size=3959 sha256=7d214c10926ba7a485ae13cf31925e8919e1d0cb98239f778e88f4852708fa0a\n",
            "  Stored in directory: /root/.cache/pip/wheels/59/bd/9a/ec6e575aaa50687d7af968bde7ce710b542eeaa9ee7978d4ba\n",
            "  Building wheel for keras-layer-normalization (setup.py) ... \u001b[?25l\u001b[?25hdone\n",
            "  Created wheel for keras-layer-normalization: filename=keras_layer_normalization-0.16.0-py3-none-any.whl size=4668 sha256=a6c1e62d13728c34c4d803dec38b6b0d56c3e1cbad3c5102c3fb693f1e6a4286\n",
            "  Stored in directory: /root/.cache/pip/wheels/d7/2b/f4/28f4bab995fa99c26b761bc7f9aeb5bf6c81e9be6ccd0b853b\n",
            "  Building wheel for keras-multi-head (setup.py) ... \u001b[?25l\u001b[?25hdone\n",
            "  Created wheel for keras-multi-head: filename=keras_multi_head-0.29.0-py3-none-any.whl size=14993 sha256=9bef6b3319518f96ccc39885e9bf11e0f03fed549148ef420005698b6af0c864\n",
            "  Stored in directory: /root/.cache/pip/wheels/91/eb/bc/ce4bb467f5a7db6727f148f70bb0e52a62ef7edd41a19c8bdd\n",
            "  Building wheel for keras-pos-embd (setup.py) ... \u001b[?25l\u001b[?25hdone\n",
            "  Created wheel for keras-pos-embd: filename=keras_pos_embd-0.13.0-py3-none-any.whl size=6961 sha256=cb79d2db8c2728d1c8c679acdcb44c63ed585e27df6610003d787431bb72fb4b\n",
            "  Stored in directory: /root/.cache/pip/wheels/91/c4/ff/7e13e4f102c3b7d73ff075a50fe3266f3ec2de898d5493a8a2\n",
            "  Building wheel for keras-position-wise-feed-forward (setup.py) ... \u001b[?25l\u001b[?25hdone\n",
            "  Created wheel for keras-position-wise-feed-forward: filename=keras_position_wise_feed_forward-0.8.0-py3-none-any.whl size=4983 sha256=3445bbb6f1aba3cb7d94d1eefa02bfa90d746ef348136edac326fd4b54e998d3\n",
            "  Stored in directory: /root/.cache/pip/wheels/f2/15/39/59861ed531ef6c7c75810500eb22c68a425f82dde31d68630a\n",
            "  Building wheel for keras-self-attention (setup.py) ... \u001b[?25l\u001b[?25hdone\n",
            "  Created wheel for keras-self-attention: filename=keras_self_attention-0.51.0-py3-none-any.whl size=18913 sha256=0c9158396e9ab15624d7ad70881ec67763a85cb149602aa7c9536242739dd8a6\n",
            "  Stored in directory: /root/.cache/pip/wheels/ac/13/2d/3de7c76f618a8d162884ac5b726a8c2242ad88afa370f1e62f\n",
            "  Building wheel for langdetect (setup.py) ... \u001b[?25l\u001b[?25hdone\n",
            "  Created wheel for langdetect: filename=langdetect-1.0.9-py3-none-any.whl size=993242 sha256=12e5d70a1c93a980381e6f7f8f42a2d25dbad9b0577df917fb69356c37063de3\n",
            "  Stored in directory: /root/.cache/pip/wheels/13/c7/b0/79f66658626032e78fc1a83103690ef6797d551cb22e56e734\n",
            "Successfully built ktrain keras_bert keras-transformer keras-embed-sim keras-layer-normalization keras-multi-head keras-pos-embd keras-position-wise-feed-forward keras-self-attention langdetect\n",
            "Installing collected packages: whoosh, tokenizers, sentencepiece, cchardet, syntok, langdetect, keras-self-attention, keras-position-wise-feed-forward, keras-pos-embd, keras-layer-normalization, keras-embed-sim, keras-multi-head, huggingface-hub, transformers, keras-transformer, keras_bert, ktrain\n",
            "Successfully installed cchardet-2.1.7 huggingface-hub-0.12.0 keras-embed-sim-0.10.0 keras-layer-normalization-0.16.0 keras-multi-head-0.29.0 keras-pos-embd-0.13.0 keras-position-wise-feed-forward-0.8.0 keras-self-attention-0.51.0 keras-transformer-0.40.0 keras_bert-0.89.0 ktrain-0.33.0 langdetect-1.0.9 sentencepiece-0.1.97 syntok-1.4.4 tokenizers-0.13.2 transformers-4.26.0 whoosh-2.7.4\n"
          ]
        }
      ]
    },
    {
      "cell_type": "code",
      "source": [
        "#setup deterministic results \n",
        "import numpy as np\n",
        "from numpy.random import seed\n",
        "seed=0\n",
        "np.random.seed(seed)\n",
        "import tensorflow as tf\n",
        "tf.random.set_seed(seed)\n",
        "import os\n",
        "os.environ['PYTHONHASHSEED'] = str(seed)\n",
        "os.environ['TF_DETERMINISTIC_OPS'] = '1'\n",
        "\n",
        "import pandas as pd\n",
        "import sklearn\n",
        "from sklearn.model_selection import train_test_split\n",
        "from sklearn.metrics import f1_score, accuracy_score\n",
        "from sklearn.metrics import confusion_matrix\n",
        "from sklearn.feature_extraction.text import CountVectorizer, TfidfVectorizer\n",
        "from sklearn.model_selection import StratifiedKFold\n",
        "from sklearn.model_selection import GridSearchCV\n",
        "from sklearn.linear_model import LogisticRegression\n",
        "from sklearn.decomposition import PCA\n",
        "import matplotlib.pyplot as plt\n",
        "import seaborn as sns\n",
        "import wordcloud\n",
        "from wordcloud import WordCloud, STOPWORDS\n",
        "import re\n",
        "import string\n",
        "#import langdetect \n",
        "import ktrain\n",
        "from ktrain import text\n",
        "import spacy\n",
        "import gensim\n",
        "import gensim.corpora as corpora\n",
        "from gensim.models.coherencemodel import CoherenceModel\n",
        "from gensim.models import Word2Vec \n",
        "import gensim.downloader as gensim_api\n",
        "#from bertopic import BERTopic"
      ],
      "metadata": {
        "id": "fs11-otnJH6u"
      },
      "execution_count": 2,
      "outputs": []
    },
    {
      "cell_type": "markdown",
      "source": [
        "## Requirements"
      ],
      "metadata": {
        "id": "cksn-dSFNzmX"
      }
    },
    {
      "cell_type": "code",
      "source": [
        "print(np.__version__) "
      ],
      "metadata": {
        "colab": {
          "base_uri": "https://localhost:8080/"
        },
        "id": "eGmRQbDsJqI-",
        "outputId": "77d2d630-d091-4399-cbba-8eec6ce95db2"
      },
      "execution_count": 3,
      "outputs": [
        {
          "output_type": "stream",
          "name": "stdout",
          "text": [
            "1.21.6\n"
          ]
        }
      ]
    },
    {
      "cell_type": "code",
      "source": [
        "print(pd.__version__) "
      ],
      "metadata": {
        "colab": {
          "base_uri": "https://localhost:8080/"
        },
        "id": "ge7646ZbLSkn",
        "outputId": "ff42016f-bf16-4eaf-9ac9-d9e05e043816"
      },
      "execution_count": 4,
      "outputs": [
        {
          "output_type": "stream",
          "name": "stdout",
          "text": [
            "1.3.5\n"
          ]
        }
      ]
    },
    {
      "cell_type": "code",
      "source": [
        "print(sklearn.__version__)"
      ],
      "metadata": {
        "colab": {
          "base_uri": "https://localhost:8080/"
        },
        "id": "wY4eVqHRLSuK",
        "outputId": "a43608c4-17bc-4240-d543-a314f7a5a9df"
      },
      "execution_count": 5,
      "outputs": [
        {
          "output_type": "stream",
          "name": "stdout",
          "text": [
            "1.0.2\n"
          ]
        }
      ]
    },
    {
      "cell_type": "code",
      "source": [
        "print(sns.__version__)"
      ],
      "metadata": {
        "colab": {
          "base_uri": "https://localhost:8080/"
        },
        "id": "CQFoDoZJLSw-",
        "outputId": "9d532de6-d277-4c41-8c91-2caa2f381054"
      },
      "execution_count": 6,
      "outputs": [
        {
          "output_type": "stream",
          "name": "stdout",
          "text": [
            "0.11.2\n"
          ]
        }
      ]
    },
    {
      "cell_type": "code",
      "source": [
        "print(tf.__version__)"
      ],
      "metadata": {
        "colab": {
          "base_uri": "https://localhost:8080/"
        },
        "id": "SHkBAE00LS4-",
        "outputId": "e9c47a16-5417-41aa-c0c0-4886aa588c82"
      },
      "execution_count": 7,
      "outputs": [
        {
          "output_type": "stream",
          "name": "stdout",
          "text": [
            "2.9.2\n"
          ]
        }
      ]
    },
    {
      "cell_type": "code",
      "source": [
        "print(spacy.__version__)"
      ],
      "metadata": {
        "colab": {
          "base_uri": "https://localhost:8080/"
        },
        "id": "Nt7-AB_JBeuG",
        "outputId": "fd23022b-ae66-4f4e-8316-730a15d577ca"
      },
      "execution_count": 8,
      "outputs": [
        {
          "output_type": "stream",
          "name": "stdout",
          "text": [
            "3.4.4\n"
          ]
        }
      ]
    },
    {
      "cell_type": "code",
      "source": [
        "print(gensim.__version__)"
      ],
      "metadata": {
        "colab": {
          "base_uri": "https://localhost:8080/"
        },
        "id": "siNtLDbkuVGG",
        "outputId": "1ed9124c-f239-4d91-d14a-84b1a2acba72"
      },
      "execution_count": 9,
      "outputs": [
        {
          "output_type": "stream",
          "name": "stdout",
          "text": [
            "3.6.0\n"
          ]
        }
      ]
    },
    {
      "cell_type": "code",
      "source": [
        "print(ktrain.__version__)"
      ],
      "metadata": {
        "colab": {
          "base_uri": "https://localhost:8080/"
        },
        "id": "O6NB1WKWC1Wc",
        "outputId": "bdce4e9e-eca8-4c5d-e33b-a0a457f5fe69"
      },
      "execution_count": 10,
      "outputs": [
        {
          "output_type": "stream",
          "name": "stdout",
          "text": [
            "0.33.0\n"
          ]
        }
      ]
    },
    {
      "cell_type": "markdown",
      "source": [
        "## Upload dataset"
      ],
      "metadata": {
        "id": "7cl-fs32LpJ3"
      }
    },
    {
      "cell_type": "code",
      "source": [
        "# https://www.kaggle.com/competitions/nlp-getting-started"
      ],
      "metadata": {
        "id": "z3LcLDYbz88e"
      },
      "execution_count": 11,
      "outputs": []
    },
    {
      "cell_type": "code",
      "source": [
        "df_train = pd.read_csv('https://raw.githubusercontent.com/claudio1975/SWISSTEXT_2022/main/data/df_train.csv')"
      ],
      "metadata": {
        "id": "TmqNgXQiBiDT"
      },
      "execution_count": 12,
      "outputs": []
    },
    {
      "cell_type": "code",
      "source": [
        "#from google.colab import files \n",
        "#uploaded = files.upload() "
      ],
      "metadata": {
        "id": "t9QumHJqLS7q"
      },
      "execution_count": 13,
      "outputs": []
    },
    {
      "cell_type": "code",
      "source": [
        "# Reading File\n",
        "#df_train = pd.read_csv('df_train.csv')"
      ],
      "metadata": {
        "id": "zm6ikNARLS-C"
      },
      "execution_count": 14,
      "outputs": []
    },
    {
      "cell_type": "code",
      "source": [
        "# select columns\n",
        "df_4 = df_train.iloc[:,1:8]\n",
        "df_4.head()"
      ],
      "metadata": {
        "colab": {
          "base_uri": "https://localhost:8080/",
          "height": 206
        },
        "id": "rqdmz3Jwvr3s",
        "outputId": "8ea2264f-da03-4a24-e44f-00d7fc95b817"
      },
      "execution_count": 15,
      "outputs": [
        {
          "output_type": "execute_result",
          "data": {
            "text/plain": [
              "   id keyword location                                               text  \\\n",
              "0   1     NaN      NaN  Our Deeds are the Reason of this #earthquake M...   \n",
              "1   4     NaN      NaN             Forest fire near La Ronge Sask. Canada   \n",
              "2   5     NaN      NaN  All residents asked to 'shelter in place' are ...   \n",
              "3   6     NaN      NaN  13,000 people receive #wildfires evacuation or...   \n",
              "4   7     NaN      NaN  Just got sent this photo from Ruby #Alaska as ...   \n",
              "\n",
              "   target lang                                       text_cleaned  \n",
              "0       1   en              deeds reason earthquake allah forgive  \n",
              "1       1   en              forest fire near la ronge sask canada  \n",
              "2       1   en  resident ask shelter place notify officer evac...  \n",
              "3       1   en  people receive wildfire evacuation order calif...  \n",
              "4       1   en  get send photo ruby alaska smoke wildfires pou...  "
            ],
            "text/html": [
              "\n",
              "  <div id=\"df-e6d0f50b-4784-42c2-b0b9-1d8d1516031c\">\n",
              "    <div class=\"colab-df-container\">\n",
              "      <div>\n",
              "<style scoped>\n",
              "    .dataframe tbody tr th:only-of-type {\n",
              "        vertical-align: middle;\n",
              "    }\n",
              "\n",
              "    .dataframe tbody tr th {\n",
              "        vertical-align: top;\n",
              "    }\n",
              "\n",
              "    .dataframe thead th {\n",
              "        text-align: right;\n",
              "    }\n",
              "</style>\n",
              "<table border=\"1\" class=\"dataframe\">\n",
              "  <thead>\n",
              "    <tr style=\"text-align: right;\">\n",
              "      <th></th>\n",
              "      <th>id</th>\n",
              "      <th>keyword</th>\n",
              "      <th>location</th>\n",
              "      <th>text</th>\n",
              "      <th>target</th>\n",
              "      <th>lang</th>\n",
              "      <th>text_cleaned</th>\n",
              "    </tr>\n",
              "  </thead>\n",
              "  <tbody>\n",
              "    <tr>\n",
              "      <th>0</th>\n",
              "      <td>1</td>\n",
              "      <td>NaN</td>\n",
              "      <td>NaN</td>\n",
              "      <td>Our Deeds are the Reason of this #earthquake M...</td>\n",
              "      <td>1</td>\n",
              "      <td>en</td>\n",
              "      <td>deeds reason earthquake allah forgive</td>\n",
              "    </tr>\n",
              "    <tr>\n",
              "      <th>1</th>\n",
              "      <td>4</td>\n",
              "      <td>NaN</td>\n",
              "      <td>NaN</td>\n",
              "      <td>Forest fire near La Ronge Sask. Canada</td>\n",
              "      <td>1</td>\n",
              "      <td>en</td>\n",
              "      <td>forest fire near la ronge sask canada</td>\n",
              "    </tr>\n",
              "    <tr>\n",
              "      <th>2</th>\n",
              "      <td>5</td>\n",
              "      <td>NaN</td>\n",
              "      <td>NaN</td>\n",
              "      <td>All residents asked to 'shelter in place' are ...</td>\n",
              "      <td>1</td>\n",
              "      <td>en</td>\n",
              "      <td>resident ask shelter place notify officer evac...</td>\n",
              "    </tr>\n",
              "    <tr>\n",
              "      <th>3</th>\n",
              "      <td>6</td>\n",
              "      <td>NaN</td>\n",
              "      <td>NaN</td>\n",
              "      <td>13,000 people receive #wildfires evacuation or...</td>\n",
              "      <td>1</td>\n",
              "      <td>en</td>\n",
              "      <td>people receive wildfire evacuation order calif...</td>\n",
              "    </tr>\n",
              "    <tr>\n",
              "      <th>4</th>\n",
              "      <td>7</td>\n",
              "      <td>NaN</td>\n",
              "      <td>NaN</td>\n",
              "      <td>Just got sent this photo from Ruby #Alaska as ...</td>\n",
              "      <td>1</td>\n",
              "      <td>en</td>\n",
              "      <td>get send photo ruby alaska smoke wildfires pou...</td>\n",
              "    </tr>\n",
              "  </tbody>\n",
              "</table>\n",
              "</div>\n",
              "      <button class=\"colab-df-convert\" onclick=\"convertToInteractive('df-e6d0f50b-4784-42c2-b0b9-1d8d1516031c')\"\n",
              "              title=\"Convert this dataframe to an interactive table.\"\n",
              "              style=\"display:none;\">\n",
              "        \n",
              "  <svg xmlns=\"http://www.w3.org/2000/svg\" height=\"24px\"viewBox=\"0 0 24 24\"\n",
              "       width=\"24px\">\n",
              "    <path d=\"M0 0h24v24H0V0z\" fill=\"none\"/>\n",
              "    <path d=\"M18.56 5.44l.94 2.06.94-2.06 2.06-.94-2.06-.94-.94-2.06-.94 2.06-2.06.94zm-11 1L8.5 8.5l.94-2.06 2.06-.94-2.06-.94L8.5 2.5l-.94 2.06-2.06.94zm10 10l.94 2.06.94-2.06 2.06-.94-2.06-.94-.94-2.06-.94 2.06-2.06.94z\"/><path d=\"M17.41 7.96l-1.37-1.37c-.4-.4-.92-.59-1.43-.59-.52 0-1.04.2-1.43.59L10.3 9.45l-7.72 7.72c-.78.78-.78 2.05 0 2.83L4 21.41c.39.39.9.59 1.41.59.51 0 1.02-.2 1.41-.59l7.78-7.78 2.81-2.81c.8-.78.8-2.07 0-2.86zM5.41 20L4 18.59l7.72-7.72 1.47 1.35L5.41 20z\"/>\n",
              "  </svg>\n",
              "      </button>\n",
              "      \n",
              "  <style>\n",
              "    .colab-df-container {\n",
              "      display:flex;\n",
              "      flex-wrap:wrap;\n",
              "      gap: 12px;\n",
              "    }\n",
              "\n",
              "    .colab-df-convert {\n",
              "      background-color: #E8F0FE;\n",
              "      border: none;\n",
              "      border-radius: 50%;\n",
              "      cursor: pointer;\n",
              "      display: none;\n",
              "      fill: #1967D2;\n",
              "      height: 32px;\n",
              "      padding: 0 0 0 0;\n",
              "      width: 32px;\n",
              "    }\n",
              "\n",
              "    .colab-df-convert:hover {\n",
              "      background-color: #E2EBFA;\n",
              "      box-shadow: 0px 1px 2px rgba(60, 64, 67, 0.3), 0px 1px 3px 1px rgba(60, 64, 67, 0.15);\n",
              "      fill: #174EA6;\n",
              "    }\n",
              "\n",
              "    [theme=dark] .colab-df-convert {\n",
              "      background-color: #3B4455;\n",
              "      fill: #D2E3FC;\n",
              "    }\n",
              "\n",
              "    [theme=dark] .colab-df-convert:hover {\n",
              "      background-color: #434B5C;\n",
              "      box-shadow: 0px 1px 3px 1px rgba(0, 0, 0, 0.15);\n",
              "      filter: drop-shadow(0px 1px 2px rgba(0, 0, 0, 0.3));\n",
              "      fill: #FFFFFF;\n",
              "    }\n",
              "  </style>\n",
              "\n",
              "      <script>\n",
              "        const buttonEl =\n",
              "          document.querySelector('#df-e6d0f50b-4784-42c2-b0b9-1d8d1516031c button.colab-df-convert');\n",
              "        buttonEl.style.display =\n",
              "          google.colab.kernel.accessAllowed ? 'block' : 'none';\n",
              "\n",
              "        async function convertToInteractive(key) {\n",
              "          const element = document.querySelector('#df-e6d0f50b-4784-42c2-b0b9-1d8d1516031c');\n",
              "          const dataTable =\n",
              "            await google.colab.kernel.invokeFunction('convertToInteractive',\n",
              "                                                     [key], {});\n",
              "          if (!dataTable) return;\n",
              "\n",
              "          const docLinkHtml = 'Like what you see? Visit the ' +\n",
              "            '<a target=\"_blank\" href=https://colab.research.google.com/notebooks/data_table.ipynb>data table notebook</a>'\n",
              "            + ' to learn more about interactive tables.';\n",
              "          element.innerHTML = '';\n",
              "          dataTable['output_type'] = 'display_data';\n",
              "          await google.colab.output.renderOutput(dataTable, element);\n",
              "          const docLink = document.createElement('div');\n",
              "          docLink.innerHTML = docLinkHtml;\n",
              "          element.appendChild(docLink);\n",
              "        }\n",
              "      </script>\n",
              "    </div>\n",
              "  </div>\n",
              "  "
            ]
          },
          "metadata": {},
          "execution_count": 15
        }
      ]
    },
    {
      "cell_type": "markdown",
      "source": [
        "## Prepare Data sets"
      ],
      "metadata": {
        "id": "v95PdPJAX1I8"
      }
    },
    {
      "cell_type": "code",
      "source": [
        "train_docs = df_4.copy()"
      ],
      "metadata": {
        "id": "K5Fxq2kri4Fm"
      },
      "execution_count": 16,
      "outputs": []
    },
    {
      "cell_type": "code",
      "source": [
        "train_docs = train_docs[['text','target']]\n",
        "train_docs.head()"
      ],
      "metadata": {
        "colab": {
          "base_uri": "https://localhost:8080/",
          "height": 206
        },
        "id": "BAxVZUAiekng",
        "outputId": "cd2dd748-1bb1-4726-99cc-87634784bac2"
      },
      "execution_count": 17,
      "outputs": [
        {
          "output_type": "execute_result",
          "data": {
            "text/plain": [
              "                                                text  target\n",
              "0  Our Deeds are the Reason of this #earthquake M...       1\n",
              "1             Forest fire near La Ronge Sask. Canada       1\n",
              "2  All residents asked to 'shelter in place' are ...       1\n",
              "3  13,000 people receive #wildfires evacuation or...       1\n",
              "4  Just got sent this photo from Ruby #Alaska as ...       1"
            ],
            "text/html": [
              "\n",
              "  <div id=\"df-a9d1ccf7-9e24-4111-8f39-159f76c1bf39\">\n",
              "    <div class=\"colab-df-container\">\n",
              "      <div>\n",
              "<style scoped>\n",
              "    .dataframe tbody tr th:only-of-type {\n",
              "        vertical-align: middle;\n",
              "    }\n",
              "\n",
              "    .dataframe tbody tr th {\n",
              "        vertical-align: top;\n",
              "    }\n",
              "\n",
              "    .dataframe thead th {\n",
              "        text-align: right;\n",
              "    }\n",
              "</style>\n",
              "<table border=\"1\" class=\"dataframe\">\n",
              "  <thead>\n",
              "    <tr style=\"text-align: right;\">\n",
              "      <th></th>\n",
              "      <th>text</th>\n",
              "      <th>target</th>\n",
              "    </tr>\n",
              "  </thead>\n",
              "  <tbody>\n",
              "    <tr>\n",
              "      <th>0</th>\n",
              "      <td>Our Deeds are the Reason of this #earthquake M...</td>\n",
              "      <td>1</td>\n",
              "    </tr>\n",
              "    <tr>\n",
              "      <th>1</th>\n",
              "      <td>Forest fire near La Ronge Sask. Canada</td>\n",
              "      <td>1</td>\n",
              "    </tr>\n",
              "    <tr>\n",
              "      <th>2</th>\n",
              "      <td>All residents asked to 'shelter in place' are ...</td>\n",
              "      <td>1</td>\n",
              "    </tr>\n",
              "    <tr>\n",
              "      <th>3</th>\n",
              "      <td>13,000 people receive #wildfires evacuation or...</td>\n",
              "      <td>1</td>\n",
              "    </tr>\n",
              "    <tr>\n",
              "      <th>4</th>\n",
              "      <td>Just got sent this photo from Ruby #Alaska as ...</td>\n",
              "      <td>1</td>\n",
              "    </tr>\n",
              "  </tbody>\n",
              "</table>\n",
              "</div>\n",
              "      <button class=\"colab-df-convert\" onclick=\"convertToInteractive('df-a9d1ccf7-9e24-4111-8f39-159f76c1bf39')\"\n",
              "              title=\"Convert this dataframe to an interactive table.\"\n",
              "              style=\"display:none;\">\n",
              "        \n",
              "  <svg xmlns=\"http://www.w3.org/2000/svg\" height=\"24px\"viewBox=\"0 0 24 24\"\n",
              "       width=\"24px\">\n",
              "    <path d=\"M0 0h24v24H0V0z\" fill=\"none\"/>\n",
              "    <path d=\"M18.56 5.44l.94 2.06.94-2.06 2.06-.94-2.06-.94-.94-2.06-.94 2.06-2.06.94zm-11 1L8.5 8.5l.94-2.06 2.06-.94-2.06-.94L8.5 2.5l-.94 2.06-2.06.94zm10 10l.94 2.06.94-2.06 2.06-.94-2.06-.94-.94-2.06-.94 2.06-2.06.94z\"/><path d=\"M17.41 7.96l-1.37-1.37c-.4-.4-.92-.59-1.43-.59-.52 0-1.04.2-1.43.59L10.3 9.45l-7.72 7.72c-.78.78-.78 2.05 0 2.83L4 21.41c.39.39.9.59 1.41.59.51 0 1.02-.2 1.41-.59l7.78-7.78 2.81-2.81c.8-.78.8-2.07 0-2.86zM5.41 20L4 18.59l7.72-7.72 1.47 1.35L5.41 20z\"/>\n",
              "  </svg>\n",
              "      </button>\n",
              "      \n",
              "  <style>\n",
              "    .colab-df-container {\n",
              "      display:flex;\n",
              "      flex-wrap:wrap;\n",
              "      gap: 12px;\n",
              "    }\n",
              "\n",
              "    .colab-df-convert {\n",
              "      background-color: #E8F0FE;\n",
              "      border: none;\n",
              "      border-radius: 50%;\n",
              "      cursor: pointer;\n",
              "      display: none;\n",
              "      fill: #1967D2;\n",
              "      height: 32px;\n",
              "      padding: 0 0 0 0;\n",
              "      width: 32px;\n",
              "    }\n",
              "\n",
              "    .colab-df-convert:hover {\n",
              "      background-color: #E2EBFA;\n",
              "      box-shadow: 0px 1px 2px rgba(60, 64, 67, 0.3), 0px 1px 3px 1px rgba(60, 64, 67, 0.15);\n",
              "      fill: #174EA6;\n",
              "    }\n",
              "\n",
              "    [theme=dark] .colab-df-convert {\n",
              "      background-color: #3B4455;\n",
              "      fill: #D2E3FC;\n",
              "    }\n",
              "\n",
              "    [theme=dark] .colab-df-convert:hover {\n",
              "      background-color: #434B5C;\n",
              "      box-shadow: 0px 1px 3px 1px rgba(0, 0, 0, 0.15);\n",
              "      filter: drop-shadow(0px 1px 2px rgba(0, 0, 0, 0.3));\n",
              "      fill: #FFFFFF;\n",
              "    }\n",
              "  </style>\n",
              "\n",
              "      <script>\n",
              "        const buttonEl =\n",
              "          document.querySelector('#df-a9d1ccf7-9e24-4111-8f39-159f76c1bf39 button.colab-df-convert');\n",
              "        buttonEl.style.display =\n",
              "          google.colab.kernel.accessAllowed ? 'block' : 'none';\n",
              "\n",
              "        async function convertToInteractive(key) {\n",
              "          const element = document.querySelector('#df-a9d1ccf7-9e24-4111-8f39-159f76c1bf39');\n",
              "          const dataTable =\n",
              "            await google.colab.kernel.invokeFunction('convertToInteractive',\n",
              "                                                     [key], {});\n",
              "          if (!dataTable) return;\n",
              "\n",
              "          const docLinkHtml = 'Like what you see? Visit the ' +\n",
              "            '<a target=\"_blank\" href=https://colab.research.google.com/notebooks/data_table.ipynb>data table notebook</a>'\n",
              "            + ' to learn more about interactive tables.';\n",
              "          element.innerHTML = '';\n",
              "          dataTable['output_type'] = 'display_data';\n",
              "          await google.colab.output.renderOutput(dataTable, element);\n",
              "          const docLink = document.createElement('div');\n",
              "          docLink.innerHTML = docLinkHtml;\n",
              "          element.appendChild(docLink);\n",
              "        }\n",
              "      </script>\n",
              "    </div>\n",
              "  </div>\n",
              "  "
            ]
          },
          "metadata": {},
          "execution_count": 17
        }
      ]
    },
    {
      "cell_type": "code",
      "source": [
        "classification = {1:'disaster',0:'not_disaster'}\n",
        "train_docs['classification'] = train_docs['target'].map(classification)\n",
        "train_docs_ = train_docs[['text','classification']]\n",
        "# split target variable\n",
        "y = train_docs_['classification']\n",
        "train_docs_.head()"
      ],
      "metadata": {
        "colab": {
          "base_uri": "https://localhost:8080/",
          "height": 206
        },
        "id": "m1cp4NXsX4-u",
        "outputId": "1a0b6f64-1c03-459b-cc47-04f4b905db43"
      },
      "execution_count": 18,
      "outputs": [
        {
          "output_type": "execute_result",
          "data": {
            "text/plain": [
              "                                                text classification\n",
              "0  Our Deeds are the Reason of this #earthquake M...       disaster\n",
              "1             Forest fire near La Ronge Sask. Canada       disaster\n",
              "2  All residents asked to 'shelter in place' are ...       disaster\n",
              "3  13,000 people receive #wildfires evacuation or...       disaster\n",
              "4  Just got sent this photo from Ruby #Alaska as ...       disaster"
            ],
            "text/html": [
              "\n",
              "  <div id=\"df-d1cbdf64-7a5b-4dd0-8695-decafb7612dd\">\n",
              "    <div class=\"colab-df-container\">\n",
              "      <div>\n",
              "<style scoped>\n",
              "    .dataframe tbody tr th:only-of-type {\n",
              "        vertical-align: middle;\n",
              "    }\n",
              "\n",
              "    .dataframe tbody tr th {\n",
              "        vertical-align: top;\n",
              "    }\n",
              "\n",
              "    .dataframe thead th {\n",
              "        text-align: right;\n",
              "    }\n",
              "</style>\n",
              "<table border=\"1\" class=\"dataframe\">\n",
              "  <thead>\n",
              "    <tr style=\"text-align: right;\">\n",
              "      <th></th>\n",
              "      <th>text</th>\n",
              "      <th>classification</th>\n",
              "    </tr>\n",
              "  </thead>\n",
              "  <tbody>\n",
              "    <tr>\n",
              "      <th>0</th>\n",
              "      <td>Our Deeds are the Reason of this #earthquake M...</td>\n",
              "      <td>disaster</td>\n",
              "    </tr>\n",
              "    <tr>\n",
              "      <th>1</th>\n",
              "      <td>Forest fire near La Ronge Sask. Canada</td>\n",
              "      <td>disaster</td>\n",
              "    </tr>\n",
              "    <tr>\n",
              "      <th>2</th>\n",
              "      <td>All residents asked to 'shelter in place' are ...</td>\n",
              "      <td>disaster</td>\n",
              "    </tr>\n",
              "    <tr>\n",
              "      <th>3</th>\n",
              "      <td>13,000 people receive #wildfires evacuation or...</td>\n",
              "      <td>disaster</td>\n",
              "    </tr>\n",
              "    <tr>\n",
              "      <th>4</th>\n",
              "      <td>Just got sent this photo from Ruby #Alaska as ...</td>\n",
              "      <td>disaster</td>\n",
              "    </tr>\n",
              "  </tbody>\n",
              "</table>\n",
              "</div>\n",
              "      <button class=\"colab-df-convert\" onclick=\"convertToInteractive('df-d1cbdf64-7a5b-4dd0-8695-decafb7612dd')\"\n",
              "              title=\"Convert this dataframe to an interactive table.\"\n",
              "              style=\"display:none;\">\n",
              "        \n",
              "  <svg xmlns=\"http://www.w3.org/2000/svg\" height=\"24px\"viewBox=\"0 0 24 24\"\n",
              "       width=\"24px\">\n",
              "    <path d=\"M0 0h24v24H0V0z\" fill=\"none\"/>\n",
              "    <path d=\"M18.56 5.44l.94 2.06.94-2.06 2.06-.94-2.06-.94-.94-2.06-.94 2.06-2.06.94zm-11 1L8.5 8.5l.94-2.06 2.06-.94-2.06-.94L8.5 2.5l-.94 2.06-2.06.94zm10 10l.94 2.06.94-2.06 2.06-.94-2.06-.94-.94-2.06-.94 2.06-2.06.94z\"/><path d=\"M17.41 7.96l-1.37-1.37c-.4-.4-.92-.59-1.43-.59-.52 0-1.04.2-1.43.59L10.3 9.45l-7.72 7.72c-.78.78-.78 2.05 0 2.83L4 21.41c.39.39.9.59 1.41.59.51 0 1.02-.2 1.41-.59l7.78-7.78 2.81-2.81c.8-.78.8-2.07 0-2.86zM5.41 20L4 18.59l7.72-7.72 1.47 1.35L5.41 20z\"/>\n",
              "  </svg>\n",
              "      </button>\n",
              "      \n",
              "  <style>\n",
              "    .colab-df-container {\n",
              "      display:flex;\n",
              "      flex-wrap:wrap;\n",
              "      gap: 12px;\n",
              "    }\n",
              "\n",
              "    .colab-df-convert {\n",
              "      background-color: #E8F0FE;\n",
              "      border: none;\n",
              "      border-radius: 50%;\n",
              "      cursor: pointer;\n",
              "      display: none;\n",
              "      fill: #1967D2;\n",
              "      height: 32px;\n",
              "      padding: 0 0 0 0;\n",
              "      width: 32px;\n",
              "    }\n",
              "\n",
              "    .colab-df-convert:hover {\n",
              "      background-color: #E2EBFA;\n",
              "      box-shadow: 0px 1px 2px rgba(60, 64, 67, 0.3), 0px 1px 3px 1px rgba(60, 64, 67, 0.15);\n",
              "      fill: #174EA6;\n",
              "    }\n",
              "\n",
              "    [theme=dark] .colab-df-convert {\n",
              "      background-color: #3B4455;\n",
              "      fill: #D2E3FC;\n",
              "    }\n",
              "\n",
              "    [theme=dark] .colab-df-convert:hover {\n",
              "      background-color: #434B5C;\n",
              "      box-shadow: 0px 1px 3px 1px rgba(0, 0, 0, 0.15);\n",
              "      filter: drop-shadow(0px 1px 2px rgba(0, 0, 0, 0.3));\n",
              "      fill: #FFFFFF;\n",
              "    }\n",
              "  </style>\n",
              "\n",
              "      <script>\n",
              "        const buttonEl =\n",
              "          document.querySelector('#df-d1cbdf64-7a5b-4dd0-8695-decafb7612dd button.colab-df-convert');\n",
              "        buttonEl.style.display =\n",
              "          google.colab.kernel.accessAllowed ? 'block' : 'none';\n",
              "\n",
              "        async function convertToInteractive(key) {\n",
              "          const element = document.querySelector('#df-d1cbdf64-7a5b-4dd0-8695-decafb7612dd');\n",
              "          const dataTable =\n",
              "            await google.colab.kernel.invokeFunction('convertToInteractive',\n",
              "                                                     [key], {});\n",
              "          if (!dataTable) return;\n",
              "\n",
              "          const docLinkHtml = 'Like what you see? Visit the ' +\n",
              "            '<a target=\"_blank\" href=https://colab.research.google.com/notebooks/data_table.ipynb>data table notebook</a>'\n",
              "            + ' to learn more about interactive tables.';\n",
              "          element.innerHTML = '';\n",
              "          dataTable['output_type'] = 'display_data';\n",
              "          await google.colab.output.renderOutput(dataTable, element);\n",
              "          const docLink = document.createElement('div');\n",
              "          docLink.innerHTML = docLinkHtml;\n",
              "          element.appendChild(docLink);\n",
              "        }\n",
              "      </script>\n",
              "    </div>\n",
              "  </div>\n",
              "  "
            ]
          },
          "metadata": {},
          "execution_count": 18
        }
      ]
    },
    {
      "cell_type": "code",
      "source": [
        "def tt_split(X, y, test_size=0.2):\n",
        "    i = int((1 - test_size) * X.shape[0]) \n",
        "    o = np.random.permutation(X.shape[0])\n",
        "    \n",
        "    X_train, X_test = np.split(np.take(X,o,axis=0), [i])\n",
        "    y_train, y_test = np.split(np.take(y,o), [i])\n",
        "    return X_train, X_test, y_train, y_test"
      ],
      "metadata": {
        "id": "skq4COdadns9"
      },
      "execution_count": 19,
      "outputs": []
    },
    {
      "cell_type": "code",
      "source": [
        "X_train_, X_test, y_train_, y_test = tt_split(train_docs_,y)"
      ],
      "metadata": {
        "id": "A7c_WSK4gnpP"
      },
      "execution_count": 20,
      "outputs": []
    },
    {
      "cell_type": "code",
      "source": [
        "X_train_"
      ],
      "metadata": {
        "colab": {
          "base_uri": "https://localhost:8080/",
          "height": 423
        },
        "id": "qVoACyVCiVwz",
        "outputId": "d44e8685-2e8d-4464-f8b5-bbed4dd8084a"
      },
      "execution_count": 21,
      "outputs": [
        {
          "output_type": "execute_result",
          "data": {
            "text/plain": [
              "                                                   text classification\n",
              "311   @KatieKatCubs you already know how this shit g...   not_disaster\n",
              "4970  @LeMaireLee @danharmon People Near Meltdown Co...   not_disaster\n",
              "527   1-6 TIX Calgary Flames vs COL Avalanche Presea...   not_disaster\n",
              "6362  If you ever think you running out of choices i...   not_disaster\n",
              "800   If you dotish to blight your car go right ahea...   not_disaster\n",
              "...                                                 ...            ...\n",
              "6647  @SwiftyCommissh @TaoistInsight @ImmortalTech S...       disaster\n",
              "6031  Thanks Benson &amp; Clegg for the #follow! Che...   not_disaster\n",
              "239   ANNIHILATED IN DAMASCUS: SYRIAN ARMY GRINDS Û...       disaster\n",
              "5720  VIDEO: 'We're picking up bodies from water': R...       disaster\n",
              "7296  My brother-n-law riooooos got the call to head...       disaster\n",
              "\n",
              "[6090 rows x 2 columns]"
            ],
            "text/html": [
              "\n",
              "  <div id=\"df-1398bb0e-d721-43ef-8f02-e1692762132b\">\n",
              "    <div class=\"colab-df-container\">\n",
              "      <div>\n",
              "<style scoped>\n",
              "    .dataframe tbody tr th:only-of-type {\n",
              "        vertical-align: middle;\n",
              "    }\n",
              "\n",
              "    .dataframe tbody tr th {\n",
              "        vertical-align: top;\n",
              "    }\n",
              "\n",
              "    .dataframe thead th {\n",
              "        text-align: right;\n",
              "    }\n",
              "</style>\n",
              "<table border=\"1\" class=\"dataframe\">\n",
              "  <thead>\n",
              "    <tr style=\"text-align: right;\">\n",
              "      <th></th>\n",
              "      <th>text</th>\n",
              "      <th>classification</th>\n",
              "    </tr>\n",
              "  </thead>\n",
              "  <tbody>\n",
              "    <tr>\n",
              "      <th>311</th>\n",
              "      <td>@KatieKatCubs you already know how this shit g...</td>\n",
              "      <td>not_disaster</td>\n",
              "    </tr>\n",
              "    <tr>\n",
              "      <th>4970</th>\n",
              "      <td>@LeMaireLee @danharmon People Near Meltdown Co...</td>\n",
              "      <td>not_disaster</td>\n",
              "    </tr>\n",
              "    <tr>\n",
              "      <th>527</th>\n",
              "      <td>1-6 TIX Calgary Flames vs COL Avalanche Presea...</td>\n",
              "      <td>not_disaster</td>\n",
              "    </tr>\n",
              "    <tr>\n",
              "      <th>6362</th>\n",
              "      <td>If you ever think you running out of choices i...</td>\n",
              "      <td>not_disaster</td>\n",
              "    </tr>\n",
              "    <tr>\n",
              "      <th>800</th>\n",
              "      <td>If you dotish to blight your car go right ahea...</td>\n",
              "      <td>not_disaster</td>\n",
              "    </tr>\n",
              "    <tr>\n",
              "      <th>...</th>\n",
              "      <td>...</td>\n",
              "      <td>...</td>\n",
              "    </tr>\n",
              "    <tr>\n",
              "      <th>6647</th>\n",
              "      <td>@SwiftyCommissh @TaoistInsight @ImmortalTech S...</td>\n",
              "      <td>disaster</td>\n",
              "    </tr>\n",
              "    <tr>\n",
              "      <th>6031</th>\n",
              "      <td>Thanks Benson &amp;amp; Clegg for the #follow! Che...</td>\n",
              "      <td>not_disaster</td>\n",
              "    </tr>\n",
              "    <tr>\n",
              "      <th>239</th>\n",
              "      <td>ANNIHILATED IN DAMASCUS: SYRIAN ARMY GRINDS Û...</td>\n",
              "      <td>disaster</td>\n",
              "    </tr>\n",
              "    <tr>\n",
              "      <th>5720</th>\n",
              "      <td>VIDEO: 'We're picking up bodies from water': R...</td>\n",
              "      <td>disaster</td>\n",
              "    </tr>\n",
              "    <tr>\n",
              "      <th>7296</th>\n",
              "      <td>My brother-n-law riooooos got the call to head...</td>\n",
              "      <td>disaster</td>\n",
              "    </tr>\n",
              "  </tbody>\n",
              "</table>\n",
              "<p>6090 rows × 2 columns</p>\n",
              "</div>\n",
              "      <button class=\"colab-df-convert\" onclick=\"convertToInteractive('df-1398bb0e-d721-43ef-8f02-e1692762132b')\"\n",
              "              title=\"Convert this dataframe to an interactive table.\"\n",
              "              style=\"display:none;\">\n",
              "        \n",
              "  <svg xmlns=\"http://www.w3.org/2000/svg\" height=\"24px\"viewBox=\"0 0 24 24\"\n",
              "       width=\"24px\">\n",
              "    <path d=\"M0 0h24v24H0V0z\" fill=\"none\"/>\n",
              "    <path d=\"M18.56 5.44l.94 2.06.94-2.06 2.06-.94-2.06-.94-.94-2.06-.94 2.06-2.06.94zm-11 1L8.5 8.5l.94-2.06 2.06-.94-2.06-.94L8.5 2.5l-.94 2.06-2.06.94zm10 10l.94 2.06.94-2.06 2.06-.94-2.06-.94-.94-2.06-.94 2.06-2.06.94z\"/><path d=\"M17.41 7.96l-1.37-1.37c-.4-.4-.92-.59-1.43-.59-.52 0-1.04.2-1.43.59L10.3 9.45l-7.72 7.72c-.78.78-.78 2.05 0 2.83L4 21.41c.39.39.9.59 1.41.59.51 0 1.02-.2 1.41-.59l7.78-7.78 2.81-2.81c.8-.78.8-2.07 0-2.86zM5.41 20L4 18.59l7.72-7.72 1.47 1.35L5.41 20z\"/>\n",
              "  </svg>\n",
              "      </button>\n",
              "      \n",
              "  <style>\n",
              "    .colab-df-container {\n",
              "      display:flex;\n",
              "      flex-wrap:wrap;\n",
              "      gap: 12px;\n",
              "    }\n",
              "\n",
              "    .colab-df-convert {\n",
              "      background-color: #E8F0FE;\n",
              "      border: none;\n",
              "      border-radius: 50%;\n",
              "      cursor: pointer;\n",
              "      display: none;\n",
              "      fill: #1967D2;\n",
              "      height: 32px;\n",
              "      padding: 0 0 0 0;\n",
              "      width: 32px;\n",
              "    }\n",
              "\n",
              "    .colab-df-convert:hover {\n",
              "      background-color: #E2EBFA;\n",
              "      box-shadow: 0px 1px 2px rgba(60, 64, 67, 0.3), 0px 1px 3px 1px rgba(60, 64, 67, 0.15);\n",
              "      fill: #174EA6;\n",
              "    }\n",
              "\n",
              "    [theme=dark] .colab-df-convert {\n",
              "      background-color: #3B4455;\n",
              "      fill: #D2E3FC;\n",
              "    }\n",
              "\n",
              "    [theme=dark] .colab-df-convert:hover {\n",
              "      background-color: #434B5C;\n",
              "      box-shadow: 0px 1px 3px 1px rgba(0, 0, 0, 0.15);\n",
              "      filter: drop-shadow(0px 1px 2px rgba(0, 0, 0, 0.3));\n",
              "      fill: #FFFFFF;\n",
              "    }\n",
              "  </style>\n",
              "\n",
              "      <script>\n",
              "        const buttonEl =\n",
              "          document.querySelector('#df-1398bb0e-d721-43ef-8f02-e1692762132b button.colab-df-convert');\n",
              "        buttonEl.style.display =\n",
              "          google.colab.kernel.accessAllowed ? 'block' : 'none';\n",
              "\n",
              "        async function convertToInteractive(key) {\n",
              "          const element = document.querySelector('#df-1398bb0e-d721-43ef-8f02-e1692762132b');\n",
              "          const dataTable =\n",
              "            await google.colab.kernel.invokeFunction('convertToInteractive',\n",
              "                                                     [key], {});\n",
              "          if (!dataTable) return;\n",
              "\n",
              "          const docLinkHtml = 'Like what you see? Visit the ' +\n",
              "            '<a target=\"_blank\" href=https://colab.research.google.com/notebooks/data_table.ipynb>data table notebook</a>'\n",
              "            + ' to learn more about interactive tables.';\n",
              "          element.innerHTML = '';\n",
              "          dataTable['output_type'] = 'display_data';\n",
              "          await google.colab.output.renderOutput(dataTable, element);\n",
              "          const docLink = document.createElement('div');\n",
              "          docLink.innerHTML = docLinkHtml;\n",
              "          element.appendChild(docLink);\n",
              "        }\n",
              "      </script>\n",
              "    </div>\n",
              "  </div>\n",
              "  "
            ]
          },
          "metadata": {},
          "execution_count": 21
        }
      ]
    },
    {
      "cell_type": "code",
      "source": [
        "X_test"
      ],
      "metadata": {
        "colab": {
          "base_uri": "https://localhost:8080/",
          "height": 423
        },
        "id": "z6gOnftZakbH",
        "outputId": "9861e925-d4c7-42a9-85d1-3a9aaff53b9e"
      },
      "execution_count": 22,
      "outputs": [
        {
          "output_type": "execute_result",
          "data": {
            "text/plain": [
              "                                                   text classification\n",
              "542   The possible new jerseys for the Avalanche nex...   not_disaster\n",
              "2725  ÛÏRichmond Coaches were devastated to hear of...       disaster\n",
              "2454  Madhya Pradesh Train Derailment: Village Youth...       disaster\n",
              "1459  Small casualty on the way to Colorado http://t...       disaster\n",
              "5764  'Without an ally near you can't use this skill...   not_disaster\n",
              "...                                                 ...            ...\n",
              "4931  They are the real heroes... RIP Brave hearts.....   not_disaster\n",
              "3264  Car engulfed in flames backs up traffic at Par...       disaster\n",
              "1653  Great British Bake Off's back and Dorret's cho...       disaster\n",
              "2607  Black Eye 9: A space battle occurred at Star O...   not_disaster\n",
              "2732  ???????????? @MikeParrActor absolutely devasta...   not_disaster\n",
              "\n",
              "[1523 rows x 2 columns]"
            ],
            "text/html": [
              "\n",
              "  <div id=\"df-ecf191d4-588e-4c25-a3a9-73c7fa225ac9\">\n",
              "    <div class=\"colab-df-container\">\n",
              "      <div>\n",
              "<style scoped>\n",
              "    .dataframe tbody tr th:only-of-type {\n",
              "        vertical-align: middle;\n",
              "    }\n",
              "\n",
              "    .dataframe tbody tr th {\n",
              "        vertical-align: top;\n",
              "    }\n",
              "\n",
              "    .dataframe thead th {\n",
              "        text-align: right;\n",
              "    }\n",
              "</style>\n",
              "<table border=\"1\" class=\"dataframe\">\n",
              "  <thead>\n",
              "    <tr style=\"text-align: right;\">\n",
              "      <th></th>\n",
              "      <th>text</th>\n",
              "      <th>classification</th>\n",
              "    </tr>\n",
              "  </thead>\n",
              "  <tbody>\n",
              "    <tr>\n",
              "      <th>542</th>\n",
              "      <td>The possible new jerseys for the Avalanche nex...</td>\n",
              "      <td>not_disaster</td>\n",
              "    </tr>\n",
              "    <tr>\n",
              "      <th>2725</th>\n",
              "      <td>ÛÏRichmond Coaches were devastated to hear of...</td>\n",
              "      <td>disaster</td>\n",
              "    </tr>\n",
              "    <tr>\n",
              "      <th>2454</th>\n",
              "      <td>Madhya Pradesh Train Derailment: Village Youth...</td>\n",
              "      <td>disaster</td>\n",
              "    </tr>\n",
              "    <tr>\n",
              "      <th>1459</th>\n",
              "      <td>Small casualty on the way to Colorado http://t...</td>\n",
              "      <td>disaster</td>\n",
              "    </tr>\n",
              "    <tr>\n",
              "      <th>5764</th>\n",
              "      <td>'Without an ally near you can't use this skill...</td>\n",
              "      <td>not_disaster</td>\n",
              "    </tr>\n",
              "    <tr>\n",
              "      <th>...</th>\n",
              "      <td>...</td>\n",
              "      <td>...</td>\n",
              "    </tr>\n",
              "    <tr>\n",
              "      <th>4931</th>\n",
              "      <td>They are the real heroes... RIP Brave hearts.....</td>\n",
              "      <td>not_disaster</td>\n",
              "    </tr>\n",
              "    <tr>\n",
              "      <th>3264</th>\n",
              "      <td>Car engulfed in flames backs up traffic at Par...</td>\n",
              "      <td>disaster</td>\n",
              "    </tr>\n",
              "    <tr>\n",
              "      <th>1653</th>\n",
              "      <td>Great British Bake Off's back and Dorret's cho...</td>\n",
              "      <td>disaster</td>\n",
              "    </tr>\n",
              "    <tr>\n",
              "      <th>2607</th>\n",
              "      <td>Black Eye 9: A space battle occurred at Star O...</td>\n",
              "      <td>not_disaster</td>\n",
              "    </tr>\n",
              "    <tr>\n",
              "      <th>2732</th>\n",
              "      <td>???????????? @MikeParrActor absolutely devasta...</td>\n",
              "      <td>not_disaster</td>\n",
              "    </tr>\n",
              "  </tbody>\n",
              "</table>\n",
              "<p>1523 rows × 2 columns</p>\n",
              "</div>\n",
              "      <button class=\"colab-df-convert\" onclick=\"convertToInteractive('df-ecf191d4-588e-4c25-a3a9-73c7fa225ac9')\"\n",
              "              title=\"Convert this dataframe to an interactive table.\"\n",
              "              style=\"display:none;\">\n",
              "        \n",
              "  <svg xmlns=\"http://www.w3.org/2000/svg\" height=\"24px\"viewBox=\"0 0 24 24\"\n",
              "       width=\"24px\">\n",
              "    <path d=\"M0 0h24v24H0V0z\" fill=\"none\"/>\n",
              "    <path d=\"M18.56 5.44l.94 2.06.94-2.06 2.06-.94-2.06-.94-.94-2.06-.94 2.06-2.06.94zm-11 1L8.5 8.5l.94-2.06 2.06-.94-2.06-.94L8.5 2.5l-.94 2.06-2.06.94zm10 10l.94 2.06.94-2.06 2.06-.94-2.06-.94-.94-2.06-.94 2.06-2.06.94z\"/><path d=\"M17.41 7.96l-1.37-1.37c-.4-.4-.92-.59-1.43-.59-.52 0-1.04.2-1.43.59L10.3 9.45l-7.72 7.72c-.78.78-.78 2.05 0 2.83L4 21.41c.39.39.9.59 1.41.59.51 0 1.02-.2 1.41-.59l7.78-7.78 2.81-2.81c.8-.78.8-2.07 0-2.86zM5.41 20L4 18.59l7.72-7.72 1.47 1.35L5.41 20z\"/>\n",
              "  </svg>\n",
              "      </button>\n",
              "      \n",
              "  <style>\n",
              "    .colab-df-container {\n",
              "      display:flex;\n",
              "      flex-wrap:wrap;\n",
              "      gap: 12px;\n",
              "    }\n",
              "\n",
              "    .colab-df-convert {\n",
              "      background-color: #E8F0FE;\n",
              "      border: none;\n",
              "      border-radius: 50%;\n",
              "      cursor: pointer;\n",
              "      display: none;\n",
              "      fill: #1967D2;\n",
              "      height: 32px;\n",
              "      padding: 0 0 0 0;\n",
              "      width: 32px;\n",
              "    }\n",
              "\n",
              "    .colab-df-convert:hover {\n",
              "      background-color: #E2EBFA;\n",
              "      box-shadow: 0px 1px 2px rgba(60, 64, 67, 0.3), 0px 1px 3px 1px rgba(60, 64, 67, 0.15);\n",
              "      fill: #174EA6;\n",
              "    }\n",
              "\n",
              "    [theme=dark] .colab-df-convert {\n",
              "      background-color: #3B4455;\n",
              "      fill: #D2E3FC;\n",
              "    }\n",
              "\n",
              "    [theme=dark] .colab-df-convert:hover {\n",
              "      background-color: #434B5C;\n",
              "      box-shadow: 0px 1px 3px 1px rgba(0, 0, 0, 0.15);\n",
              "      filter: drop-shadow(0px 1px 2px rgba(0, 0, 0, 0.3));\n",
              "      fill: #FFFFFF;\n",
              "    }\n",
              "  </style>\n",
              "\n",
              "      <script>\n",
              "        const buttonEl =\n",
              "          document.querySelector('#df-ecf191d4-588e-4c25-a3a9-73c7fa225ac9 button.colab-df-convert');\n",
              "        buttonEl.style.display =\n",
              "          google.colab.kernel.accessAllowed ? 'block' : 'none';\n",
              "\n",
              "        async function convertToInteractive(key) {\n",
              "          const element = document.querySelector('#df-ecf191d4-588e-4c25-a3a9-73c7fa225ac9');\n",
              "          const dataTable =\n",
              "            await google.colab.kernel.invokeFunction('convertToInteractive',\n",
              "                                                     [key], {});\n",
              "          if (!dataTable) return;\n",
              "\n",
              "          const docLinkHtml = 'Like what you see? Visit the ' +\n",
              "            '<a target=\"_blank\" href=https://colab.research.google.com/notebooks/data_table.ipynb>data table notebook</a>'\n",
              "            + ' to learn more about interactive tables.';\n",
              "          element.innerHTML = '';\n",
              "          dataTable['output_type'] = 'display_data';\n",
              "          await google.colab.output.renderOutput(dataTable, element);\n",
              "          const docLink = document.createElement('div');\n",
              "          docLink.innerHTML = docLinkHtml;\n",
              "          element.appendChild(docLink);\n",
              "        }\n",
              "      </script>\n",
              "    </div>\n",
              "  </div>\n",
              "  "
            ]
          },
          "metadata": {},
          "execution_count": 22
        }
      ]
    },
    {
      "cell_type": "code",
      "source": [
        "(x_train, y_train), (x_val, y_val), preproc = text.texts_from_df(train_df = X_train_, \n",
        "                                                                   text_column = 'text',\n",
        "                                                                   label_columns=['classification'],\n",
        "                                                                   maxlen=100, \n",
        "                                                                   max_features=100000,\n",
        "                                                                   preprocess_mode='bert',\n",
        "                                                                   val_pct=0.2)\n"
      ],
      "metadata": {
        "id": "e42fL9RDNKbt",
        "colab": {
          "base_uri": "https://localhost:8080/",
          "height": 520
        },
        "outputId": "350855b0-a11e-470e-f4f3-acabc0d70b96"
      },
      "execution_count": 23,
      "outputs": [
        {
          "output_type": "stream",
          "name": "stdout",
          "text": [
            "['disaster', 'not_disaster']\n",
            "      disaster  not_disaster\n",
            "6374       1.0           0.0\n",
            "6503       0.0           1.0\n",
            "1988       0.0           1.0\n",
            "4173       0.0           1.0\n",
            "1699       0.0           1.0\n",
            "['disaster', 'not_disaster']\n",
            "      disaster  not_disaster\n",
            "2844       1.0           0.0\n",
            "6691       1.0           0.0\n",
            "1746       0.0           1.0\n",
            "6134       0.0           1.0\n",
            "5757       0.0           1.0\n",
            "downloading pretrained BERT model (uncased_L-12_H-768_A-12.zip)...\n",
            "[██████████████████████████████████████████████████]\n",
            "extracting pretrained BERT model...\n",
            "done.\n",
            "\n",
            "cleanup downloaded zip...\n",
            "done.\n",
            "\n",
            "preprocessing train...\n",
            "language: en\n"
          ]
        },
        {
          "output_type": "display_data",
          "data": {
            "text/plain": [
              "<IPython.core.display.HTML object>"
            ],
            "text/html": [
              "\n",
              "<style>\n",
              "    /* Turns off some styling */\n",
              "    progress {\n",
              "        /* gets rid of default border in Firefox and Opera. */\n",
              "        border: none;\n",
              "        /* Needs to be in here for Safari polyfill so background images work as expected. */\n",
              "        background-size: auto;\n",
              "    }\n",
              "    progress:not([value]), progress:not([value])::-webkit-progress-bar {\n",
              "        background: repeating-linear-gradient(45deg, #7e7e7e, #7e7e7e 10px, #5c5c5c 10px, #5c5c5c 20px);\n",
              "    }\n",
              "    .progress-bar-interrupted, .progress-bar-interrupted::-webkit-progress-bar {\n",
              "        background: #F44336;\n",
              "    }\n",
              "</style>\n"
            ]
          },
          "metadata": {}
        },
        {
          "output_type": "display_data",
          "data": {
            "text/plain": [
              "<IPython.core.display.HTML object>"
            ],
            "text/html": [
              "done."
            ]
          },
          "metadata": {}
        },
        {
          "output_type": "stream",
          "name": "stdout",
          "text": [
            "Is Multi-Label? False\n",
            "preprocessing test...\n",
            "language: en\n"
          ]
        },
        {
          "output_type": "display_data",
          "data": {
            "text/plain": [
              "<IPython.core.display.HTML object>"
            ],
            "text/html": [
              "\n",
              "<style>\n",
              "    /* Turns off some styling */\n",
              "    progress {\n",
              "        /* gets rid of default border in Firefox and Opera. */\n",
              "        border: none;\n",
              "        /* Needs to be in here for Safari polyfill so background images work as expected. */\n",
              "        background-size: auto;\n",
              "    }\n",
              "    progress:not([value]), progress:not([value])::-webkit-progress-bar {\n",
              "        background: repeating-linear-gradient(45deg, #7e7e7e, #7e7e7e 10px, #5c5c5c 10px, #5c5c5c 20px);\n",
              "    }\n",
              "    .progress-bar-interrupted, .progress-bar-interrupted::-webkit-progress-bar {\n",
              "        background: #F44336;\n",
              "    }\n",
              "</style>\n"
            ]
          },
          "metadata": {}
        },
        {
          "output_type": "display_data",
          "data": {
            "text/plain": [
              "<IPython.core.display.HTML object>"
            ],
            "text/html": [
              "done."
            ]
          },
          "metadata": {}
        }
      ]
    },
    {
      "cell_type": "markdown",
      "source": [
        "## Modelling with BERT\n",
        "\n",
        "\n"
      ],
      "metadata": {
        "id": "tGW5DZBPD7Sl"
      }
    },
    {
      "cell_type": "code",
      "source": [
        "model_BERT = text.text_classifier(name='bert', train_data = (x_train, y_train) , preproc=preproc)"
      ],
      "metadata": {
        "colab": {
          "base_uri": "https://localhost:8080/"
        },
        "id": "srZyAxKGMj2l",
        "outputId": "fbe43642-c664-4197-e39a-3dad3c48173f"
      },
      "execution_count": 24,
      "outputs": [
        {
          "output_type": "stream",
          "name": "stdout",
          "text": [
            "Is Multi-Label? False\n",
            "maxlen is 100\n",
            "done.\n"
          ]
        }
      ]
    },
    {
      "cell_type": "code",
      "source": [
        "learner_BERT = ktrain.get_learner(model = model_BERT, \n",
        "                             train_data=(x_train, y_train), \n",
        "                             val_data=(x_val, y_val), \n",
        "                             batch_size=32, \n",
        "                             use_multiprocessing = True)\n"
      ],
      "metadata": {
        "id": "3hBCDBT4ywjb"
      },
      "execution_count": 25,
      "outputs": []
    },
    {
      "cell_type": "code",
      "source": [
        "learner_BERT.fit_onecycle(lr=2e-5, epochs=1,checkpoint_folder='output')"
      ],
      "metadata": {
        "colab": {
          "base_uri": "https://localhost:8080/"
        },
        "id": "wmGW_oZHzB1a",
        "outputId": "e9a7e986-b61c-4491-b5ae-7092013846e9"
      },
      "execution_count": 26,
      "outputs": [
        {
          "output_type": "stream",
          "name": "stdout",
          "text": [
            "\n",
            "\n",
            "begin training using onecycle policy with max lr of 2e-05...\n",
            "153/153 [==============================] - 139s 770ms/step - loss: 0.5086 - accuracy: 0.7562 - val_loss: 0.3948 - val_accuracy: 0.8415\n"
          ]
        },
        {
          "output_type": "execute_result",
          "data": {
            "text/plain": [
              "<keras.callbacks.History at 0x7fb7f018d820>"
            ]
          },
          "metadata": {},
          "execution_count": 26
        }
      ]
    },
    {
      "cell_type": "code",
      "source": [
        "predictor_BERT = ktrain.get_predictor(learner_BERT.model, preproc)"
      ],
      "metadata": {
        "id": "oUr24X4fYCN3"
      },
      "execution_count": 27,
      "outputs": []
    },
    {
      "cell_type": "code",
      "source": [
        "learner_BERT.print_layers()"
      ],
      "metadata": {
        "id": "7PJL3iHxBOXa",
        "colab": {
          "base_uri": "https://localhost:8080/"
        },
        "outputId": "e64fc269-2e85-4c10-949b-8820a53c1f83"
      },
      "execution_count": 28,
      "outputs": [
        {
          "output_type": "stream",
          "name": "stdout",
          "text": [
            "0 (trainable=True) : <keras.engine.input_layer.InputLayer object at 0x7fb80a3767c0>\n",
            "1 (trainable=True) : <keras.engine.input_layer.InputLayer object at 0x7fb80a38cd30>\n",
            "2 (trainable=True) : <keras_bert.layers.embedding.TokenEmbedding object at 0x7fb80a376790>\n",
            "3 (trainable=True) : <keras.layers.core.embedding.Embedding object at 0x7fb7f481f0a0>\n",
            "4 (trainable=True) : <keras.layers.merging.add.Add object at 0x7fb7f4b0fca0>\n",
            "5 (trainable=True) : <keras_pos_embd.pos_embd.PositionEmbedding object at 0x7fb7f07a7820>\n",
            "6 (trainable=True) : <keras.layers.regularization.dropout.Dropout object at 0x7fb7f0787910>\n",
            "7 (trainable=True) : <keras_layer_normalization.layer_normalization.LayerNormalization object at 0x7fb7f0787c40>\n",
            "8 (trainable=True) : <keras_multi_head.multi_head_attention.MultiHeadAttention object at 0x7fb7f06b6df0>\n",
            "9 (trainable=True) : <keras.layers.regularization.dropout.Dropout object at 0x7fb7f06b67f0>\n",
            "10 (trainable=True) : <keras.layers.merging.add.Add object at 0x7fb7f064c1c0>\n",
            "11 (trainable=True) : <keras_layer_normalization.layer_normalization.LayerNormalization object at 0x7fb7f0748370>\n",
            "12 (trainable=True) : <keras_position_wise_feed_forward.feed_forward.FeedForward object at 0x7fb7f0755880>\n",
            "13 (trainable=True) : <keras.layers.regularization.dropout.Dropout object at 0x7fb8e5c8bb80>\n",
            "14 (trainable=True) : <keras.layers.merging.add.Add object at 0x7fb7f064c730>\n",
            "15 (trainable=True) : <keras_layer_normalization.layer_normalization.LayerNormalization object at 0x7fb7f06a05e0>\n",
            "16 (trainable=True) : <keras_multi_head.multi_head_attention.MultiHeadAttention object at 0x7fb7f06a08e0>\n",
            "17 (trainable=True) : <keras.layers.regularization.dropout.Dropout object at 0x7fb7f06a0370>\n",
            "18 (trainable=True) : <keras.layers.merging.add.Add object at 0x7fb7f054e880>\n",
            "19 (trainable=True) : <keras_layer_normalization.layer_normalization.LayerNormalization object at 0x7fb7f04e40a0>\n",
            "20 (trainable=True) : <keras_position_wise_feed_forward.feed_forward.FeedForward object at 0x7fb7f06c51c0>\n",
            "21 (trainable=True) : <keras.layers.regularization.dropout.Dropout object at 0x7fb7f06a0c10>\n",
            "22 (trainable=True) : <keras.layers.merging.add.Add object at 0x7fb7f05f9970>\n",
            "23 (trainable=True) : <keras_layer_normalization.layer_normalization.LayerNormalization object at 0x7fb7f04f6d00>\n",
            "24 (trainable=True) : <keras_multi_head.multi_head_attention.MultiHeadAttention object at 0x7fb7f0642bb0>\n",
            "25 (trainable=True) : <keras.layers.regularization.dropout.Dropout object at 0x7fb7f0642c40>\n",
            "26 (trainable=True) : <keras.layers.merging.add.Add object at 0x7fb7f06e2880>\n",
            "27 (trainable=True) : <keras_layer_normalization.layer_normalization.LayerNormalization object at 0x7fb7f0524730>\n",
            "28 (trainable=True) : <keras_position_wise_feed_forward.feed_forward.FeedForward object at 0x7fb7f06b19a0>\n",
            "29 (trainable=True) : <keras.layers.regularization.dropout.Dropout object at 0x7fb7f0642970>\n",
            "30 (trainable=True) : <keras.layers.merging.add.Add object at 0x7fb7f04f0700>\n",
            "31 (trainable=True) : <keras_layer_normalization.layer_normalization.LayerNormalization object at 0x7fb7f04d0250>\n",
            "32 (trainable=True) : <keras_multi_head.multi_head_attention.MultiHeadAttention object at 0x7fb7f0577cd0>\n",
            "33 (trainable=True) : <keras.layers.regularization.dropout.Dropout object at 0x7fb7f04f6610>\n",
            "34 (trainable=True) : <keras.layers.merging.add.Add object at 0x7fb7f04f0130>\n",
            "35 (trainable=True) : <keras_layer_normalization.layer_normalization.LayerNormalization object at 0x7fb7f06c5b20>\n",
            "36 (trainable=True) : <keras_position_wise_feed_forward.feed_forward.FeedForward object at 0x7fb7f06ded90>\n",
            "37 (trainable=True) : <keras.layers.regularization.dropout.Dropout object at 0x7fb7f04d02e0>\n",
            "38 (trainable=True) : <keras.layers.merging.add.Add object at 0x7fb7f047f3a0>\n",
            "39 (trainable=True) : <keras_layer_normalization.layer_normalization.LayerNormalization object at 0x7fb7f06ed040>\n",
            "40 (trainable=True) : <keras_multi_head.multi_head_attention.MultiHeadAttention object at 0x7fb7f074b670>\n",
            "41 (trainable=True) : <keras.layers.regularization.dropout.Dropout object at 0x7fb7f074bdf0>\n",
            "42 (trainable=True) : <keras.layers.merging.add.Add object at 0x7fb7f04dcd30>\n",
            "43 (trainable=True) : <keras_layer_normalization.layer_normalization.LayerNormalization object at 0x7fb7f056cf40>\n",
            "44 (trainable=True) : <keras_position_wise_feed_forward.feed_forward.FeedForward object at 0x7fb7f074bb50>\n",
            "45 (trainable=True) : <keras.layers.regularization.dropout.Dropout object at 0x7fb7f074b4c0>\n",
            "46 (trainable=True) : <keras.layers.merging.add.Add object at 0x7fb7f06edfa0>\n",
            "47 (trainable=True) : <keras_layer_normalization.layer_normalization.LayerNormalization object at 0x7fb7f047f160>\n",
            "48 (trainable=True) : <keras_multi_head.multi_head_attention.MultiHeadAttention object at 0x7fb7f04054f0>\n",
            "49 (trainable=True) : <keras.layers.regularization.dropout.Dropout object at 0x7fb7f04056d0>\n",
            "50 (trainable=True) : <keras.layers.merging.add.Add object at 0x7fb7f0408bb0>\n",
            "51 (trainable=True) : <keras_layer_normalization.layer_normalization.LayerNormalization object at 0x7fb7f042d850>\n",
            "52 (trainable=True) : <keras_position_wise_feed_forward.feed_forward.FeedForward object at 0x7fb7f0313610>\n",
            "53 (trainable=True) : <keras.layers.regularization.dropout.Dropout object at 0x7fb7f0405c40>\n",
            "54 (trainable=True) : <keras.layers.merging.add.Add object at 0x7fb7f0313430>\n",
            "55 (trainable=True) : <keras_layer_normalization.layer_normalization.LayerNormalization object at 0x7fb7f031ddc0>\n",
            "56 (trainable=True) : <keras_multi_head.multi_head_attention.MultiHeadAttention object at 0x7fb7f02bc970>\n",
            "57 (trainable=True) : <keras.layers.regularization.dropout.Dropout object at 0x7fb7f02bc580>\n",
            "58 (trainable=True) : <keras.layers.merging.add.Add object at 0x7fb7f032f850>\n",
            "59 (trainable=True) : <keras_layer_normalization.layer_normalization.LayerNormalization object at 0x7fb7f02cc430>\n",
            "60 (trainable=True) : <keras_position_wise_feed_forward.feed_forward.FeedForward object at 0x7fb7f027a460>\n",
            "61 (trainable=True) : <keras.layers.regularization.dropout.Dropout object at 0x7fb7f02bc280>\n",
            "62 (trainable=True) : <keras.layers.merging.add.Add object at 0x7fb7f054f460>\n",
            "63 (trainable=True) : <keras_layer_normalization.layer_normalization.LayerNormalization object at 0x7fb7f028e730>\n",
            "64 (trainable=True) : <keras_multi_head.multi_head_attention.MultiHeadAttention object at 0x7fb7f02a3580>\n",
            "65 (trainable=True) : <keras.layers.regularization.dropout.Dropout object at 0x7fb7f02a37f0>\n",
            "66 (trainable=True) : <keras.layers.merging.add.Add object at 0x7fb7f02ad040>\n",
            "67 (trainable=True) : <keras_layer_normalization.layer_normalization.LayerNormalization object at 0x7fb7f02b27f0>\n",
            "68 (trainable=True) : <keras_position_wise_feed_forward.feed_forward.FeedForward object at 0x7fb7f0253eb0>\n",
            "69 (trainable=True) : <keras.layers.regularization.dropout.Dropout object at 0x7fb7f0297d60>\n",
            "70 (trainable=True) : <keras.layers.merging.add.Add object at 0x7fb7f4b0f760>\n",
            "71 (trainable=True) : <keras_layer_normalization.layer_normalization.LayerNormalization object at 0x7fb7f022dfd0>\n",
            "72 (trainable=True) : <keras_multi_head.multi_head_attention.MultiHeadAttention object at 0x7fb7f01c9ca0>\n",
            "73 (trainable=True) : <keras.layers.regularization.dropout.Dropout object at 0x7fb7f01c9a90>\n",
            "74 (trainable=True) : <keras.layers.merging.add.Add object at 0x7fb7f01c94c0>\n",
            "75 (trainable=True) : <keras_layer_normalization.layer_normalization.LayerNormalization object at 0x7fb7f02a39d0>\n",
            "76 (trainable=True) : <keras_position_wise_feed_forward.feed_forward.FeedForward object at 0x7fb7f01c9a60>\n",
            "77 (trainable=True) : <keras.layers.regularization.dropout.Dropout object at 0x7fb7f01c9fa0>\n",
            "78 (trainable=True) : <keras.layers.merging.add.Add object at 0x7fb7f0236eb0>\n",
            "79 (trainable=True) : <keras_layer_normalization.layer_normalization.LayerNormalization object at 0x7fb7f018dcd0>\n",
            "80 (trainable=True) : <keras_multi_head.multi_head_attention.MultiHeadAttention object at 0x7fb7f01b6520>\n",
            "81 (trainable=True) : <keras.layers.regularization.dropout.Dropout object at 0x7fb7f01b64f0>\n",
            "82 (trainable=True) : <keras.layers.merging.add.Add object at 0x7fb7f01b6c10>\n",
            "83 (trainable=True) : <keras_layer_normalization.layer_normalization.LayerNormalization object at 0x7fb7f019aac0>\n",
            "84 (trainable=True) : <keras_position_wise_feed_forward.feed_forward.FeedForward object at 0x7fb7f0161f40>\n",
            "85 (trainable=True) : <keras.layers.regularization.dropout.Dropout object at 0x7fb7f02977f0>\n",
            "86 (trainable=True) : <keras.layers.merging.add.Add object at 0x7fb7f012e9d0>\n",
            "87 (trainable=True) : <keras_layer_normalization.layer_normalization.LayerNormalization object at 0x7fb7f01a7be0>\n",
            "88 (trainable=True) : <keras_multi_head.multi_head_attention.MultiHeadAttention object at 0x7fb7f00bf070>\n",
            "89 (trainable=True) : <keras.layers.regularization.dropout.Dropout object at 0x7fb7f018d970>\n",
            "90 (trainable=True) : <keras.layers.merging.add.Add object at 0x7fb7f018dfd0>\n",
            "91 (trainable=True) : <keras_layer_normalization.layer_normalization.LayerNormalization object at 0x7fb7f00bf6a0>\n",
            "92 (trainable=True) : <keras_position_wise_feed_forward.feed_forward.FeedForward object at 0x7fb7f018d610>\n",
            "93 (trainable=True) : <keras.layers.regularization.dropout.Dropout object at 0x7fb7f012e2b0>\n",
            "94 (trainable=True) : <keras.layers.merging.add.Add object at 0x7fb7f00c7580>\n",
            "95 (trainable=True) : <keras_layer_normalization.layer_normalization.LayerNormalization object at 0x7fb7f00b3a60>\n",
            "96 (trainable=True) : <keras_multi_head.multi_head_attention.MultiHeadAttention object at 0x7fb7f006d7c0>\n",
            "97 (trainable=True) : <keras.layers.regularization.dropout.Dropout object at 0x7fb7f00b37c0>\n",
            "98 (trainable=True) : <keras.layers.merging.add.Add object at 0x7fb7f00bf160>\n",
            "99 (trainable=True) : <keras_layer_normalization.layer_normalization.LayerNormalization object at 0x7fb7f005cf40>\n",
            "100 (trainable=True) : <keras_position_wise_feed_forward.feed_forward.FeedForward object at 0x7fb7f01b6880>\n",
            "101 (trainable=True) : <keras.layers.regularization.dropout.Dropout object at 0x7fb7f0196d30>\n",
            "102 (trainable=True) : <keras.layers.merging.add.Add object at 0x7fb7f006d790>\n",
            "103 (trainable=True) : <keras_layer_normalization.layer_normalization.LayerNormalization object at 0x7fb7f01a75b0>\n",
            "104 (trainable=True) : <keras_bert.layers.extract.Extract object at 0x7fb7f0246070>\n",
            "105 (trainable=True) : <keras.layers.core.dense.Dense object at 0x7fb8e5ca6160>\n",
            "106 (trainable=True) : <keras.layers.core.dense.Dense object at 0x7fb7f4b0f9d0>\n"
          ]
        }
      ]
    },
    {
      "cell_type": "code",
      "source": [
        "pred_tweets_train_BERT = predictor_BERT.predict(X_train_.text.values)\n",
        "pred_tweets_train_BERT = pd.DataFrame(data=pred_tweets_train_BERT, columns=['predicted_label_train'])"
      ],
      "metadata": {
        "id": "_qc9M6ydEPaG",
        "colab": {
          "base_uri": "https://localhost:8080/"
        },
        "outputId": "77cf632f-ba34-4184-bcb2-351ff494c3ba"
      },
      "execution_count": 29,
      "outputs": [
        {
          "output_type": "stream",
          "name": "stdout",
          "text": [
            "191/191 [==============================] - 46s 221ms/step\n"
          ]
        }
      ]
    },
    {
      "cell_type": "code",
      "source": [
        "pred_tweets_test_BERT = predictor_BERT.predict(X_test.text.values)\n",
        "pred_tweets_test_BERT = pd.DataFrame(data=pred_tweets_test_BERT, columns=['predicted_label_test'])"
      ],
      "metadata": {
        "id": "yC2ryYdFEbW8",
        "colab": {
          "base_uri": "https://localhost:8080/"
        },
        "outputId": "503bacf2-04b6-48b8-c090-c3d6689085cd"
      },
      "execution_count": 30,
      "outputs": [
        {
          "output_type": "stream",
          "name": "stdout",
          "text": [
            "48/48 [==============================] - 10s 218ms/step\n"
          ]
        }
      ]
    },
    {
      "cell_type": "code",
      "source": [
        "accuracy_tweets_train_BERT = accuracy_score(y_train_, pred_tweets_train_BERT) \n",
        "accuracy_tweets_test_BERT = accuracy_score(y_test, pred_tweets_test_BERT)      "
      ],
      "metadata": {
        "id": "BiQG7vJ3HS6V"
      },
      "execution_count": 31,
      "outputs": []
    },
    {
      "cell_type": "code",
      "source": [
        "F1_tweets_train_BERT = f1_score(y_train_, pred_tweets_train_BERT, average='weighted') \n",
        "F1_tweets_test_BERT = f1_score(y_test, pred_tweets_test_BERT,average='weighted') "
      ],
      "metadata": {
        "id": "TUGDyhgxLPIJ"
      },
      "execution_count": 32,
      "outputs": []
    },
    {
      "cell_type": "code",
      "source": [
        "d1 = {'metrics': ['Accuracy', 'F1_score'],\n",
        "     'model': ['BERT_by_ktrain','BERT_by_ktrain'],\n",
        "    'train': [accuracy_tweets_train_BERT,F1_tweets_train_BERT],\n",
        "    'test': [accuracy_tweets_test_BERT,F1_tweets_test_BERT]}\n",
        "df1 = pd.DataFrame(data=d1, columns=['model','metrics','train','test'])\n",
        "print('Metrics on disaster classification')\n",
        "df1"
      ],
      "metadata": {
        "colab": {
          "base_uri": "https://localhost:8080/",
          "height": 129
        },
        "id": "pJPazyWRIz4H",
        "outputId": "f5eb0b7f-3dac-4ce6-d3f0-73cd320cd9e0"
      },
      "execution_count": 33,
      "outputs": [
        {
          "output_type": "stream",
          "name": "stdout",
          "text": [
            "Metrics on disaster classification\n"
          ]
        },
        {
          "output_type": "execute_result",
          "data": {
            "text/plain": [
              "            model   metrics     train      test\n",
              "0  BERT_by_ktrain  Accuracy  0.853530  0.821405\n",
              "1  BERT_by_ktrain  F1_score  0.853102  0.820450"
            ],
            "text/html": [
              "\n",
              "  <div id=\"df-e505b580-29cc-4faa-9f52-c80b6827026b\">\n",
              "    <div class=\"colab-df-container\">\n",
              "      <div>\n",
              "<style scoped>\n",
              "    .dataframe tbody tr th:only-of-type {\n",
              "        vertical-align: middle;\n",
              "    }\n",
              "\n",
              "    .dataframe tbody tr th {\n",
              "        vertical-align: top;\n",
              "    }\n",
              "\n",
              "    .dataframe thead th {\n",
              "        text-align: right;\n",
              "    }\n",
              "</style>\n",
              "<table border=\"1\" class=\"dataframe\">\n",
              "  <thead>\n",
              "    <tr style=\"text-align: right;\">\n",
              "      <th></th>\n",
              "      <th>model</th>\n",
              "      <th>metrics</th>\n",
              "      <th>train</th>\n",
              "      <th>test</th>\n",
              "    </tr>\n",
              "  </thead>\n",
              "  <tbody>\n",
              "    <tr>\n",
              "      <th>0</th>\n",
              "      <td>BERT_by_ktrain</td>\n",
              "      <td>Accuracy</td>\n",
              "      <td>0.853530</td>\n",
              "      <td>0.821405</td>\n",
              "    </tr>\n",
              "    <tr>\n",
              "      <th>1</th>\n",
              "      <td>BERT_by_ktrain</td>\n",
              "      <td>F1_score</td>\n",
              "      <td>0.853102</td>\n",
              "      <td>0.820450</td>\n",
              "    </tr>\n",
              "  </tbody>\n",
              "</table>\n",
              "</div>\n",
              "      <button class=\"colab-df-convert\" onclick=\"convertToInteractive('df-e505b580-29cc-4faa-9f52-c80b6827026b')\"\n",
              "              title=\"Convert this dataframe to an interactive table.\"\n",
              "              style=\"display:none;\">\n",
              "        \n",
              "  <svg xmlns=\"http://www.w3.org/2000/svg\" height=\"24px\"viewBox=\"0 0 24 24\"\n",
              "       width=\"24px\">\n",
              "    <path d=\"M0 0h24v24H0V0z\" fill=\"none\"/>\n",
              "    <path d=\"M18.56 5.44l.94 2.06.94-2.06 2.06-.94-2.06-.94-.94-2.06-.94 2.06-2.06.94zm-11 1L8.5 8.5l.94-2.06 2.06-.94-2.06-.94L8.5 2.5l-.94 2.06-2.06.94zm10 10l.94 2.06.94-2.06 2.06-.94-2.06-.94-.94-2.06-.94 2.06-2.06.94z\"/><path d=\"M17.41 7.96l-1.37-1.37c-.4-.4-.92-.59-1.43-.59-.52 0-1.04.2-1.43.59L10.3 9.45l-7.72 7.72c-.78.78-.78 2.05 0 2.83L4 21.41c.39.39.9.59 1.41.59.51 0 1.02-.2 1.41-.59l7.78-7.78 2.81-2.81c.8-.78.8-2.07 0-2.86zM5.41 20L4 18.59l7.72-7.72 1.47 1.35L5.41 20z\"/>\n",
              "  </svg>\n",
              "      </button>\n",
              "      \n",
              "  <style>\n",
              "    .colab-df-container {\n",
              "      display:flex;\n",
              "      flex-wrap:wrap;\n",
              "      gap: 12px;\n",
              "    }\n",
              "\n",
              "    .colab-df-convert {\n",
              "      background-color: #E8F0FE;\n",
              "      border: none;\n",
              "      border-radius: 50%;\n",
              "      cursor: pointer;\n",
              "      display: none;\n",
              "      fill: #1967D2;\n",
              "      height: 32px;\n",
              "      padding: 0 0 0 0;\n",
              "      width: 32px;\n",
              "    }\n",
              "\n",
              "    .colab-df-convert:hover {\n",
              "      background-color: #E2EBFA;\n",
              "      box-shadow: 0px 1px 2px rgba(60, 64, 67, 0.3), 0px 1px 3px 1px rgba(60, 64, 67, 0.15);\n",
              "      fill: #174EA6;\n",
              "    }\n",
              "\n",
              "    [theme=dark] .colab-df-convert {\n",
              "      background-color: #3B4455;\n",
              "      fill: #D2E3FC;\n",
              "    }\n",
              "\n",
              "    [theme=dark] .colab-df-convert:hover {\n",
              "      background-color: #434B5C;\n",
              "      box-shadow: 0px 1px 3px 1px rgba(0, 0, 0, 0.15);\n",
              "      filter: drop-shadow(0px 1px 2px rgba(0, 0, 0, 0.3));\n",
              "      fill: #FFFFFF;\n",
              "    }\n",
              "  </style>\n",
              "\n",
              "      <script>\n",
              "        const buttonEl =\n",
              "          document.querySelector('#df-e505b580-29cc-4faa-9f52-c80b6827026b button.colab-df-convert');\n",
              "        buttonEl.style.display =\n",
              "          google.colab.kernel.accessAllowed ? 'block' : 'none';\n",
              "\n",
              "        async function convertToInteractive(key) {\n",
              "          const element = document.querySelector('#df-e505b580-29cc-4faa-9f52-c80b6827026b');\n",
              "          const dataTable =\n",
              "            await google.colab.kernel.invokeFunction('convertToInteractive',\n",
              "                                                     [key], {});\n",
              "          if (!dataTable) return;\n",
              "\n",
              "          const docLinkHtml = 'Like what you see? Visit the ' +\n",
              "            '<a target=\"_blank\" href=https://colab.research.google.com/notebooks/data_table.ipynb>data table notebook</a>'\n",
              "            + ' to learn more about interactive tables.';\n",
              "          element.innerHTML = '';\n",
              "          dataTable['output_type'] = 'display_data';\n",
              "          await google.colab.output.renderOutput(dataTable, element);\n",
              "          const docLink = document.createElement('div');\n",
              "          docLink.innerHTML = docLinkHtml;\n",
              "          element.appendChild(docLink);\n",
              "        }\n",
              "      </script>\n",
              "    </div>\n",
              "  </div>\n",
              "  "
            ]
          },
          "metadata": {},
          "execution_count": 33
        }
      ]
    },
    {
      "cell_type": "code",
      "source": [
        "# Plot confusion matrix\n",
        "cm = confusion_matrix(y_train_, pred_tweets_train_BERT)\n",
        "sns.heatmap(cm, annot=True, fmt='d', cmap=plt.cm.Blues, cbar=True)\n",
        "plt.title(\"Confusion Matrix on train\")\n",
        "plt.xlabel('Predicted')\n",
        "plt.ylabel('True label')\n",
        "plt.yticks(rotation=0)\n",
        "plt.show()"
      ],
      "metadata": {
        "id": "UlwOrPX6PuiV",
        "colab": {
          "base_uri": "https://localhost:8080/",
          "height": 295
        },
        "outputId": "0614afbe-cd34-4ab5-eb68-19007c010d26"
      },
      "execution_count": 34,
      "outputs": [
        {
          "output_type": "display_data",
          "data": {
            "text/plain": [
              "<Figure size 432x288 with 2 Axes>"
            ],
            "image/png": "[encoded data removed]"
          },
          "metadata": {
            "needs_background": "light"
          }
        }
      ]
    },
    {
      "cell_type": "code",
      "source": [
        "# Plot confusion matrix\n",
        "cm = confusion_matrix(y_test, pred_tweets_test_BERT)\n",
        "sns.heatmap(cm, annot=True, fmt='d', cmap=plt.cm.Blues, cbar=True)\n",
        "plt.title(\"Confusion Matrix on test\")\n",
        "plt.xlabel('Predicted')\n",
        "plt.ylabel('True label')\n",
        "plt.yticks(rotation=0)\n",
        "plt.show() "
      ],
      "metadata": {
        "id": "SYQ9H_Kp-Xyf",
        "colab": {
          "base_uri": "https://localhost:8080/",
          "height": 295
        },
        "outputId": "b2781c26-aa38-4b01-8dd6-c8144e81dc1e"
      },
      "execution_count": 35,
      "outputs": [
        {
          "output_type": "display_data",
          "data": {
            "text/plain": [
              "<Figure size 432x288 with 2 Axes>"
            ],
            "image/png": "[encoded data removed]"
          },
          "metadata": {
            "needs_background": "light"
          }
        }
      ]
    },
    {
      "cell_type": "markdown",
      "source": [
        "## Inference on BERT Modelling"
      ],
      "metadata": {
        "id": "HrgPT04EJpIt"
      }
    },
    {
      "cell_type": "code",
      "source": [
        "pd.set_option('display.max_colwidth', None)"
      ],
      "metadata": {
        "id": "B9-Kpm947xmc"
      },
      "execution_count": 36,
      "outputs": []
    },
    {
      "cell_type": "code",
      "source": [
        "predictor_BERT.predict(\"The possible new jerseys for the Avalanche next year. ????\")"
      ],
      "metadata": {
        "colab": {
          "base_uri": "https://localhost:8080/",
          "height": 53
        },
        "id": "_x1MhXHm714-",
        "outputId": "d396541a-82d5-4078-8828-6990a4179896"
      },
      "execution_count": 37,
      "outputs": [
        {
          "output_type": "stream",
          "name": "stdout",
          "text": [
            "1/1 [==============================] - 0s 41ms/step\n"
          ]
        },
        {
          "output_type": "execute_result",
          "data": {
            "text/plain": [
              "'not_disaster'"
            ],
            "application/vnd.google.colaboratory.intrinsic+json": {
              "type": "string"
            }
          },
          "metadata": {},
          "execution_count": 37
        }
      ]
    },
    {
      "cell_type": "code",
      "source": [
        "X_test.loc[542,:]"
      ],
      "metadata": {
        "colab": {
          "base_uri": "https://localhost:8080/"
        },
        "id": "CfR67ICb5Sd2",
        "outputId": "61086ce3-aba0-457a-e63d-32619057fe45"
      },
      "execution_count": 38,
      "outputs": [
        {
          "output_type": "execute_result",
          "data": {
            "text/plain": [
              "text              The possible new jerseys for the Avalanche next year. ???? http://t.co/nruzhR5XQu\n",
              "classification                                                                         not_disaster\n",
              "Name: 542, dtype: object"
            ]
          },
          "metadata": {},
          "execution_count": 38
        }
      ]
    },
    {
      "cell_type": "code",
      "source": [
        "predictor_BERT.predict('Car engulfed in flames backs up traffic at Parleys Summit ?')"
      ],
      "metadata": {
        "colab": {
          "base_uri": "https://localhost:8080/",
          "height": 53
        },
        "id": "KBxq4Mlf8Xjz",
        "outputId": "c4e66fdf-b7c5-46bf-c79e-20e57255c474"
      },
      "execution_count": 39,
      "outputs": [
        {
          "output_type": "stream",
          "name": "stdout",
          "text": [
            "1/1 [==============================] - 0s 33ms/step\n"
          ]
        },
        {
          "output_type": "execute_result",
          "data": {
            "text/plain": [
              "'disaster'"
            ],
            "application/vnd.google.colaboratory.intrinsic+json": {
              "type": "string"
            }
          },
          "metadata": {},
          "execution_count": 39
        }
      ]
    },
    {
      "cell_type": "code",
      "source": [
        "X_test.loc[3264,:]"
      ],
      "metadata": {
        "colab": {
          "base_uri": "https://localhost:8080/"
        },
        "id": "5sqTFlFo8OuD",
        "outputId": "b1cc7fb6-ac2a-4ac4-964c-5f26ad09a7dc"
      },
      "execution_count": 40,
      "outputs": [
        {
          "output_type": "execute_result",
          "data": {
            "text/plain": [
              "text              Car engulfed in flames backs up traffic at ParleyÛªs Summit http://t.co/RmucfjCaZr\n",
              "classification                                                                               disaster\n",
              "Name: 3264, dtype: object"
            ]
          },
          "metadata": {},
          "execution_count": 40
        }
      ]
    },
    {
      "cell_type": "code",
      "source": [
        "predictor_BERT.predict(\"Small casualty on the way to Colorado\")"
      ],
      "metadata": {
        "colab": {
          "base_uri": "https://localhost:8080/",
          "height": 53
        },
        "id": "7wSuv1bHMOwz",
        "outputId": "f5028651-e526-49ec-ac2e-b9900b49239c"
      },
      "execution_count": 41,
      "outputs": [
        {
          "output_type": "stream",
          "name": "stdout",
          "text": [
            "1/1 [==============================] - 0s 34ms/step\n"
          ]
        },
        {
          "output_type": "execute_result",
          "data": {
            "text/plain": [
              "'disaster'"
            ],
            "application/vnd.google.colaboratory.intrinsic+json": {
              "type": "string"
            }
          },
          "metadata": {},
          "execution_count": 41
        }
      ]
    },
    {
      "cell_type": "code",
      "source": [
        "X_test.loc[1459,:]"
      ],
      "metadata": {
        "colab": {
          "base_uri": "https://localhost:8080/"
        },
        "id": "3VvbOlFn9Jf5",
        "outputId": "4101e7e3-6c79-468b-a724-e1809ec205b9"
      },
      "execution_count": 42,
      "outputs": [
        {
          "output_type": "execute_result",
          "data": {
            "text/plain": [
              "text              Small casualty on the way to Colorado http://t.co/hDVmhSQXHm\n",
              "classification                                                        disaster\n",
              "Name: 1459, dtype: object"
            ]
          },
          "metadata": {},
          "execution_count": 42
        }
      ]
    },
    {
      "cell_type": "code",
      "source": [
        "predictor_BERT.predict(\"Bicycle-SUV accident in Mesick: Police say that the bicyclist entered onto West M-115 and collided with a boat...\")"
      ],
      "metadata": {
        "colab": {
          "base_uri": "https://localhost:8080/",
          "height": 53
        },
        "id": "WywlvfaJMYs-",
        "outputId": "bd2816f1-b4f5-4aef-a9c4-cbc8c384293f"
      },
      "execution_count": 43,
      "outputs": [
        {
          "output_type": "stream",
          "name": "stdout",
          "text": [
            "1/1 [==============================] - 0s 31ms/step\n"
          ]
        },
        {
          "output_type": "execute_result",
          "data": {
            "text/plain": [
              "'disaster'"
            ],
            "application/vnd.google.colaboratory.intrinsic+json": {
              "type": "string"
            }
          },
          "metadata": {},
          "execution_count": 43
        }
      ]
    },
    {
      "cell_type": "code",
      "source": [
        "X_test.loc[1730,:]"
      ],
      "metadata": {
        "colab": {
          "base_uri": "https://localhost:8080/"
        },
        "id": "6wY2DbN-9egs",
        "outputId": "ee96ab6c-0641-474c-de77-c2f7316610e9"
      },
      "execution_count": 44,
      "outputs": [
        {
          "output_type": "execute_result",
          "data": {
            "text/plain": [
              "text              Bicycle-SUV accident in Mesick: Police say that the bicyclist entered onto West M-115 and collided with a boat... http://t.co/A9gtOPyZK8\n",
              "classification                                                                                                                                    disaster\n",
              "Name: 1730, dtype: object"
            ]
          },
          "metadata": {},
          "execution_count": 44
        }
      ]
    },
    {
      "cell_type": "code",
      "source": [
        "predictor_BERT.predict('Oil prices falling but drivers could reap benefits')"
      ],
      "metadata": {
        "colab": {
          "base_uri": "https://localhost:8080/",
          "height": 53
        },
        "id": "ISNvRQi7McZq",
        "outputId": "6dd97864-3c4f-4d25-e37c-18de93e7d56f"
      },
      "execution_count": 45,
      "outputs": [
        {
          "output_type": "stream",
          "name": "stdout",
          "text": [
            "1/1 [==============================] - 0s 35ms/step\n"
          ]
        },
        {
          "output_type": "execute_result",
          "data": {
            "text/plain": [
              "'not_disaster'"
            ],
            "application/vnd.google.colaboratory.intrinsic+json": {
              "type": "string"
            }
          },
          "metadata": {},
          "execution_count": 45
        }
      ]
    },
    {
      "cell_type": "code",
      "source": [
        "X_test.loc[1903,:]"
      ],
      "metadata": {
        "colab": {
          "base_uri": "https://localhost:8080/"
        },
        "id": "JnwMHsYH91qH",
        "outputId": "bf7c2858-54f3-4ae3-9b67-0f4782de2f4e"
      },
      "execution_count": 46,
      "outputs": [
        {
          "output_type": "execute_result",
          "data": {
            "text/plain": [
              "text              Oil prices falling but drivers could reap benefits http://t.co/QlTwhoJqYA\n",
              "classification                                                                 not_disaster\n",
              "Name: 1903, dtype: object"
            ]
          },
          "metadata": {},
          "execution_count": 46
        }
      ]
    },
    {
      "cell_type": "markdown",
      "source": [
        "## Modelling with Logistic Regression\n",
        "\n",
        "\n"
      ],
      "metadata": {
        "id": "wV9HRFDbLBsv"
      }
    },
    {
      "cell_type": "code",
      "source": [
        "(x_tr, y_tr), (x_vl, y_vl), preproc = text.texts_from_df(train_df = X_train_, \n",
        "                                                                   text_column = 'text',\n",
        "                                                                   label_columns=['classification'],\n",
        "                                                                   maxlen=100, \n",
        "                                                                   max_features=100000,\n",
        "                                                                   preprocess_mode='standard',\n",
        "                                                                   val_pct=0.2)"
      ],
      "metadata": {
        "colab": {
          "base_uri": "https://localhost:8080/"
        },
        "id": "nD-6LMeCLR3Y",
        "outputId": "436e1cac-6f52-4e95-cdb5-d3712c8a4b01"
      },
      "execution_count": 47,
      "outputs": [
        {
          "output_type": "stream",
          "name": "stdout",
          "text": [
            "['disaster', 'not_disaster']\n",
            "      disaster  not_disaster\n",
            "1627       1.0           0.0\n",
            "716        0.0           1.0\n",
            "1171       1.0           0.0\n",
            "7535       1.0           0.0\n",
            "7249       0.0           1.0\n",
            "['disaster', 'not_disaster']\n",
            "      disaster  not_disaster\n",
            "4951       0.0           1.0\n",
            "1386       0.0           1.0\n",
            "7583       1.0           0.0\n",
            "251        1.0           0.0\n",
            "4008       1.0           0.0\n",
            "language: en\n",
            "Word Counts: 16585\n",
            "Nrows: 4872\n",
            "4872 train sequences\n",
            "train sequence lengths:\n",
            "\tmean : 17\n",
            "\t95percentile : 25\n",
            "\t99percentile : 28\n",
            "x_train shape: (4872,100)\n",
            "y_train shape: (4872, 2)\n",
            "Is Multi-Label? False\n",
            "1218 test sequences\n",
            "test sequence lengths:\n",
            "\tmean : 14\n",
            "\t95percentile : 23\n",
            "\t99percentile : 26\n",
            "x_test shape: (1218,100)\n",
            "y_test shape: (1218, 2)\n"
          ]
        }
      ]
    },
    {
      "cell_type": "code",
      "source": [
        "model_LR = text.text_classifier(name='logreg', train_data = (x_tr, y_tr) , preproc=preproc)"
      ],
      "metadata": {
        "colab": {
          "base_uri": "https://localhost:8080/"
        },
        "outputId": "8e4abd5b-98cd-4924-da83-7a47c9efae5f",
        "id": "3TD5tX3jLBsv"
      },
      "execution_count": 48,
      "outputs": [
        {
          "output_type": "stream",
          "name": "stdout",
          "text": [
            "Is Multi-Label? False\n",
            "compiling word ID features...\n",
            "maxlen is 100\n",
            "done.\n"
          ]
        }
      ]
    },
    {
      "cell_type": "code",
      "source": [
        "learner_LR = ktrain.get_learner(model = model_LR, \n",
        "                             train_data=(x_tr, y_tr), \n",
        "                             val_data=(x_vl, y_vl))\n"
      ],
      "metadata": {
        "id": "9U5rkWNuLBsw"
      },
      "execution_count": 49,
      "outputs": []
    },
    {
      "cell_type": "code",
      "source": [
        "learner_LR.fit(lr=2e-5, n_cycles=1)"
      ],
      "metadata": {
        "colab": {
          "base_uri": "https://localhost:8080/"
        },
        "outputId": "49de40f2-c9ec-4a02-e1de-dac8c63dfeb3",
        "id": "GUdVy_Z4LBsw"
      },
      "execution_count": 50,
      "outputs": [
        {
          "output_type": "stream",
          "name": "stdout",
          "text": [
            "153/153 [==============================] - 1s 5ms/step - loss: 0.6906 - accuracy: 0.5757 - val_loss: 0.6888 - val_accuracy: 0.6018\n"
          ]
        },
        {
          "output_type": "execute_result",
          "data": {
            "text/plain": [
              "<keras.callbacks.History at 0x7fb76a89c850>"
            ]
          },
          "metadata": {},
          "execution_count": 50
        }
      ]
    },
    {
      "cell_type": "code",
      "source": [
        "predictor_LR = ktrain.get_predictor(learner_LR.model, preproc)"
      ],
      "metadata": {
        "id": "LCM4WrU8LBsx"
      },
      "execution_count": 51,
      "outputs": []
    },
    {
      "cell_type": "code",
      "source": [
        "learner_LR.print_layers()"
      ],
      "metadata": {
        "colab": {
          "base_uri": "https://localhost:8080/"
        },
        "outputId": "4f8d9de7-ca54-4dcf-9d61-7a16e377c949",
        "id": "qFN1vA9SLBsx"
      },
      "execution_count": 52,
      "outputs": [
        {
          "output_type": "stream",
          "name": "stdout",
          "text": [
            "0 (trainable=True) : <keras.engine.input_layer.InputLayer object at 0x7fb76a0fbd30>\n",
            "1 (trainable=True) : <keras.layers.core.embedding.Embedding object at 0x7fb76a0fb9a0>\n",
            "2 (trainable=False) : <keras.layers.core.embedding.Embedding object at 0x7fb76a0fb940>\n",
            "3 (trainable=True) : <keras.layers.merging.dot.Dot object at 0x7fb76a0fbc10>\n",
            "4 (trainable=True) : <keras.layers.reshaping.flatten.Flatten object at 0x7fb76a1616a0>\n",
            "5 (trainable=True) : <keras.layers.core.activation.Activation object at 0x7fb76a161730>\n"
          ]
        }
      ]
    },
    {
      "cell_type": "code",
      "source": [
        "pred_tweets_train_LR = predictor_LR.predict(X_train_.text.values)\n",
        "pred_tweets_train_LR = pd.DataFrame(data=pred_tweets_train_LR, columns=['predicted_label_train'])"
      ],
      "metadata": {
        "colab": {
          "base_uri": "https://localhost:8080/"
        },
        "outputId": "5c1b7f9d-ced2-4027-e4ff-a4b3b3acc52d",
        "id": "tNCW0hHMLBsx"
      },
      "execution_count": 53,
      "outputs": [
        {
          "output_type": "stream",
          "name": "stdout",
          "text": [
            "191/191 [==============================] - 0s 1ms/step\n"
          ]
        }
      ]
    },
    {
      "cell_type": "code",
      "source": [
        "pred_tweets_test_LR = predictor_LR.predict(X_test.text.values)\n",
        "pred_tweets_test_LR = pd.DataFrame(data=pred_tweets_test_LR, columns=['predicted_label_test'])"
      ],
      "metadata": {
        "colab": {
          "base_uri": "https://localhost:8080/"
        },
        "outputId": "97708aea-c09c-4532-c8a5-dcb457d059d1",
        "id": "XV2DJqZ9LBsy"
      },
      "execution_count": 54,
      "outputs": [
        {
          "output_type": "stream",
          "name": "stdout",
          "text": [
            "48/48 [==============================] - 0s 1ms/step\n"
          ]
        }
      ]
    },
    {
      "cell_type": "code",
      "source": [
        "accuracy_tweets_train_LR = accuracy_score(y_train_, pred_tweets_train_LR) \n",
        "accuracy_tweets_test_LR = accuracy_score(y_test, pred_tweets_test_LR)      "
      ],
      "metadata": {
        "id": "I_7i3oInLBsy"
      },
      "execution_count": 55,
      "outputs": []
    },
    {
      "cell_type": "code",
      "source": [
        "F1_tweets_train_LR = f1_score(y_train_, pred_tweets_train_LR, average='weighted') \n",
        "F1_tweets_test_LR = f1_score(y_test, pred_tweets_test_LR,average='weighted') "
      ],
      "metadata": {
        "id": "HoKm2M3QLBsy"
      },
      "execution_count": 56,
      "outputs": []
    },
    {
      "cell_type": "code",
      "source": [
        "d2 = {'metrics': ['Accuracy', 'F1_score'],\n",
        "     'model': ['LR_by_ktrain','LR_by_ktrain'],\n",
        "    'train': [accuracy_tweets_train_LR,F1_tweets_train_LR],\n",
        "    'test': [accuracy_tweets_test_LR,F1_tweets_test_LR]}\n",
        "df2 = pd.DataFrame(data=d2, columns=['model','metrics','train','test'])\n",
        "print('Metrics on disaster classification')\n",
        "df2"
      ],
      "metadata": {
        "colab": {
          "base_uri": "https://localhost:8080/",
          "height": 129
        },
        "outputId": "1774212e-70f2-4574-ab2c-c091afbddaea",
        "id": "WEhSzDrQLBsz"
      },
      "execution_count": 57,
      "outputs": [
        {
          "output_type": "stream",
          "name": "stdout",
          "text": [
            "Metrics on disaster classification\n"
          ]
        },
        {
          "output_type": "execute_result",
          "data": {
            "text/plain": [
              "          model   metrics     train      test\n",
              "0  LR_by_ktrain  Accuracy  0.628900  0.586999\n",
              "1  LR_by_ktrain  F1_score  0.629975  0.586999"
            ],
            "text/html": [
              "\n",
              "  <div id=\"df-cb4f758f-2ab8-45f2-8cc6-ae8cfd93a9db\">\n",
              "    <div class=\"colab-df-container\">\n",
              "      <div>\n",
              "<style scoped>\n",
              "    .dataframe tbody tr th:only-of-type {\n",
              "        vertical-align: middle;\n",
              "    }\n",
              "\n",
              "    .dataframe tbody tr th {\n",
              "        vertical-align: top;\n",
              "    }\n",
              "\n",
              "    .dataframe thead th {\n",
              "        text-align: right;\n",
              "    }\n",
              "</style>\n",
              "<table border=\"1\" class=\"dataframe\">\n",
              "  <thead>\n",
              "    <tr style=\"text-align: right;\">\n",
              "      <th></th>\n",
              "      <th>model</th>\n",
              "      <th>metrics</th>\n",
              "      <th>train</th>\n",
              "      <th>test</th>\n",
              "    </tr>\n",
              "  </thead>\n",
              "  <tbody>\n",
              "    <tr>\n",
              "      <th>0</th>\n",
              "      <td>LR_by_ktrain</td>\n",
              "      <td>Accuracy</td>\n",
              "      <td>0.628900</td>\n",
              "      <td>0.586999</td>\n",
              "    </tr>\n",
              "    <tr>\n",
              "      <th>1</th>\n",
              "      <td>LR_by_ktrain</td>\n",
              "      <td>F1_score</td>\n",
              "      <td>0.629975</td>\n",
              "      <td>0.586999</td>\n",
              "    </tr>\n",
              "  </tbody>\n",
              "</table>\n",
              "</div>\n",
              "      <button class=\"colab-df-convert\" onclick=\"convertToInteractive('df-cb4f758f-2ab8-45f2-8cc6-ae8cfd93a9db')\"\n",
              "              title=\"Convert this dataframe to an interactive table.\"\n",
              "              style=\"display:none;\">\n",
              "        \n",
              "  <svg xmlns=\"http://www.w3.org/2000/svg\" height=\"24px\"viewBox=\"0 0 24 24\"\n",
              "       width=\"24px\">\n",
              "    <path d=\"M0 0h24v24H0V0z\" fill=\"none\"/>\n",
              "    <path d=\"M18.56 5.44l.94 2.06.94-2.06 2.06-.94-2.06-.94-.94-2.06-.94 2.06-2.06.94zm-11 1L8.5 8.5l.94-2.06 2.06-.94-2.06-.94L8.5 2.5l-.94 2.06-2.06.94zm10 10l.94 2.06.94-2.06 2.06-.94-2.06-.94-.94-2.06-.94 2.06-2.06.94z\"/><path d=\"M17.41 7.96l-1.37-1.37c-.4-.4-.92-.59-1.43-.59-.52 0-1.04.2-1.43.59L10.3 9.45l-7.72 7.72c-.78.78-.78 2.05 0 2.83L4 21.41c.39.39.9.59 1.41.59.51 0 1.02-.2 1.41-.59l7.78-7.78 2.81-2.81c.8-.78.8-2.07 0-2.86zM5.41 20L4 18.59l7.72-7.72 1.47 1.35L5.41 20z\"/>\n",
              "  </svg>\n",
              "      </button>\n",
              "      \n",
              "  <style>\n",
              "    .colab-df-container {\n",
              "      display:flex;\n",
              "      flex-wrap:wrap;\n",
              "      gap: 12px;\n",
              "    }\n",
              "\n",
              "    .colab-df-convert {\n",
              "      background-color: #E8F0FE;\n",
              "      border: none;\n",
              "      border-radius: 50%;\n",
              "      cursor: pointer;\n",
              "      display: none;\n",
              "      fill: #1967D2;\n",
              "      height: 32px;\n",
              "      padding: 0 0 0 0;\n",
              "      width: 32px;\n",
              "    }\n",
              "\n",
              "    .colab-df-convert:hover {\n",
              "      background-color: #E2EBFA;\n",
              "      box-shadow: 0px 1px 2px rgba(60, 64, 67, 0.3), 0px 1px 3px 1px rgba(60, 64, 67, 0.15);\n",
              "      fill: #174EA6;\n",
              "    }\n",
              "\n",
              "    [theme=dark] .colab-df-convert {\n",
              "      background-color: #3B4455;\n",
              "      fill: #D2E3FC;\n",
              "    }\n",
              "\n",
              "    [theme=dark] .colab-df-convert:hover {\n",
              "      background-color: #434B5C;\n",
              "      box-shadow: 0px 1px 3px 1px rgba(0, 0, 0, 0.15);\n",
              "      filter: drop-shadow(0px 1px 2px rgba(0, 0, 0, 0.3));\n",
              "      fill: #FFFFFF;\n",
              "    }\n",
              "  </style>\n",
              "\n",
              "      <script>\n",
              "        const buttonEl =\n",
              "          document.querySelector('#df-cb4f758f-2ab8-45f2-8cc6-ae8cfd93a9db button.colab-df-convert');\n",
              "        buttonEl.style.display =\n",
              "          google.colab.kernel.accessAllowed ? 'block' : 'none';\n",
              "\n",
              "        async function convertToInteractive(key) {\n",
              "          const element = document.querySelector('#df-cb4f758f-2ab8-45f2-8cc6-ae8cfd93a9db');\n",
              "          const dataTable =\n",
              "            await google.colab.kernel.invokeFunction('convertToInteractive',\n",
              "                                                     [key], {});\n",
              "          if (!dataTable) return;\n",
              "\n",
              "          const docLinkHtml = 'Like what you see? Visit the ' +\n",
              "            '<a target=\"_blank\" href=https://colab.research.google.com/notebooks/data_table.ipynb>data table notebook</a>'\n",
              "            + ' to learn more about interactive tables.';\n",
              "          element.innerHTML = '';\n",
              "          dataTable['output_type'] = 'display_data';\n",
              "          await google.colab.output.renderOutput(dataTable, element);\n",
              "          const docLink = document.createElement('div');\n",
              "          docLink.innerHTML = docLinkHtml;\n",
              "          element.appendChild(docLink);\n",
              "        }\n",
              "      </script>\n",
              "    </div>\n",
              "  </div>\n",
              "  "
            ]
          },
          "metadata": {},
          "execution_count": 57
        }
      ]
    },
    {
      "cell_type": "code",
      "source": [
        "# Plot confusion matrix\n",
        "cm = confusion_matrix(y_train_, pred_tweets_train_LR)\n",
        "sns.heatmap(cm, annot=True, fmt='d', cmap=plt.cm.Blues, cbar=True)\n",
        "plt.title(\"Confusion Matrix on train\")\n",
        "plt.xlabel('Predicted')\n",
        "plt.ylabel('True label')\n",
        "plt.yticks(rotation=0)\n",
        "plt.show()"
      ],
      "metadata": {
        "colab": {
          "base_uri": "https://localhost:8080/",
          "height": 295
        },
        "outputId": "0f74c822-6004-4012-8556-691ee74186f0",
        "id": "q1SCa-dPLBsz"
      },
      "execution_count": 58,
      "outputs": [
        {
          "output_type": "display_data",
          "data": {
            "text/plain": [
              "<Figure size 432x288 with 2 Axes>"
            ],
            "image/png": "[encoded data removed]"
          },
          "metadata": {
            "needs_background": "light"
          }
        }
      ]
    },
    {
      "cell_type": "code",
      "source": [
        "# Plot confusion matrix\n",
        "cm = confusion_matrix(y_test, pred_tweets_test_LR)\n",
        "sns.heatmap(cm, annot=True, fmt='d', cmap=plt.cm.Blues, cbar=True)\n",
        "plt.title(\"Confusion Matrix on test\")\n",
        "plt.xlabel('Predicted')\n",
        "plt.ylabel('True label')\n",
        "plt.yticks(rotation=0)\n",
        "plt.show() "
      ],
      "metadata": {
        "colab": {
          "base_uri": "https://localhost:8080/",
          "height": 295
        },
        "outputId": "f51c8595-5730-4f80-bda5-c57ef641c76d",
        "id": "ylwpnzl1LBsz"
      },
      "execution_count": 59,
      "outputs": [
        {
          "output_type": "display_data",
          "data": {
            "text/plain": [
              "<Figure size 432x288 with 2 Axes>"
            ],
            "image/png": "[encoded data removed]"
          },
          "metadata": {
            "needs_background": "light"
          }
        }
      ]
    },
    {
      "cell_type": "markdown",
      "source": [
        "## Inference on Logistic Regression Modelling"
      ],
      "metadata": {
        "id": "PdVi9IKrOgjg"
      }
    },
    {
      "cell_type": "code",
      "source": [
        "pd.set_option('display.max_colwidth', None)"
      ],
      "metadata": {
        "id": "8Wpb9OE-Ogjg"
      },
      "execution_count": 60,
      "outputs": []
    },
    {
      "cell_type": "code",
      "source": [
        "predictor_LR.predict(\"The possible new jerseys for the Avalanche next year. ????\")"
      ],
      "metadata": {
        "colab": {
          "base_uri": "https://localhost:8080/",
          "height": 53
        },
        "outputId": "29dcdaf1-0799-4e9c-c967-80c01f503538",
        "id": "4D5_XYsKOgjh"
      },
      "execution_count": 61,
      "outputs": [
        {
          "output_type": "stream",
          "name": "stdout",
          "text": [
            "1/1 [==============================] - 0s 21ms/step\n"
          ]
        },
        {
          "output_type": "execute_result",
          "data": {
            "text/plain": [
              "'not_disaster'"
            ],
            "application/vnd.google.colaboratory.intrinsic+json": {
              "type": "string"
            }
          },
          "metadata": {},
          "execution_count": 61
        }
      ]
    },
    {
      "cell_type": "code",
      "source": [
        "X_test.loc[542,:]"
      ],
      "metadata": {
        "colab": {
          "base_uri": "https://localhost:8080/"
        },
        "outputId": "0fdf1773-59c5-4775-8833-85278c20cd88",
        "id": "kC84amB2Ogjh"
      },
      "execution_count": 62,
      "outputs": [
        {
          "output_type": "execute_result",
          "data": {
            "text/plain": [
              "text              The possible new jerseys for the Avalanche next year. ???? http://t.co/nruzhR5XQu\n",
              "classification                                                                         not_disaster\n",
              "Name: 542, dtype: object"
            ]
          },
          "metadata": {},
          "execution_count": 62
        }
      ]
    },
    {
      "cell_type": "code",
      "source": [
        "predictor_LR.predict('Car engulfed in flames backs up traffic at Parleys Summit ?')"
      ],
      "metadata": {
        "colab": {
          "base_uri": "https://localhost:8080/",
          "height": 53
        },
        "outputId": "b47b5ac3-bf5e-4ee7-d3e5-3d6c05e723db",
        "id": "R7J-unAIOgji"
      },
      "execution_count": 63,
      "outputs": [
        {
          "output_type": "stream",
          "name": "stdout",
          "text": [
            "1/1 [==============================] - 0s 19ms/step\n"
          ]
        },
        {
          "output_type": "execute_result",
          "data": {
            "text/plain": [
              "'not_disaster'"
            ],
            "application/vnd.google.colaboratory.intrinsic+json": {
              "type": "string"
            }
          },
          "metadata": {},
          "execution_count": 63
        }
      ]
    },
    {
      "cell_type": "code",
      "source": [
        "X_test.loc[3264,:]"
      ],
      "metadata": {
        "colab": {
          "base_uri": "https://localhost:8080/"
        },
        "outputId": "2f81354f-db8b-4bcc-ac9f-1f771bc3093c",
        "id": "iRfDnIzFOgji"
      },
      "execution_count": 64,
      "outputs": [
        {
          "output_type": "execute_result",
          "data": {
            "text/plain": [
              "text              Car engulfed in flames backs up traffic at ParleyÛªs Summit http://t.co/RmucfjCaZr\n",
              "classification                                                                               disaster\n",
              "Name: 3264, dtype: object"
            ]
          },
          "metadata": {},
          "execution_count": 64
        }
      ]
    },
    {
      "cell_type": "code",
      "source": [
        "predictor_LR.predict(\"Small casualty on the way to Colorado\")"
      ],
      "metadata": {
        "colab": {
          "base_uri": "https://localhost:8080/",
          "height": 53
        },
        "outputId": "2e6d0fc7-1038-400e-8578-8ff2aeb06cfb",
        "id": "tfr56FkrOgjj"
      },
      "execution_count": 65,
      "outputs": [
        {
          "output_type": "stream",
          "name": "stdout",
          "text": [
            "1/1 [==============================] - 0s 18ms/step\n"
          ]
        },
        {
          "output_type": "execute_result",
          "data": {
            "text/plain": [
              "'disaster'"
            ],
            "application/vnd.google.colaboratory.intrinsic+json": {
              "type": "string"
            }
          },
          "metadata": {},
          "execution_count": 65
        }
      ]
    },
    {
      "cell_type": "code",
      "source": [
        "X_test.loc[1459,:]"
      ],
      "metadata": {
        "colab": {
          "base_uri": "https://localhost:8080/"
        },
        "outputId": "477ecba4-b0ec-48e6-a13d-b460c1c7881a",
        "id": "H62tTRlWOgjj"
      },
      "execution_count": 66,
      "outputs": [
        {
          "output_type": "execute_result",
          "data": {
            "text/plain": [
              "text              Small casualty on the way to Colorado http://t.co/hDVmhSQXHm\n",
              "classification                                                        disaster\n",
              "Name: 1459, dtype: object"
            ]
          },
          "metadata": {},
          "execution_count": 66
        }
      ]
    },
    {
      "cell_type": "code",
      "source": [
        "predictor_LR.predict(\"Bicycle-SUV accident in Mesick: Police say that the bicyclist entered onto West M-115 and collided with a boat...\")"
      ],
      "metadata": {
        "colab": {
          "base_uri": "https://localhost:8080/",
          "height": 53
        },
        "outputId": "b5b884a7-9618-4c14-a7fc-fb014f53c7f7",
        "id": "sDuyTa9MOgjj"
      },
      "execution_count": 67,
      "outputs": [
        {
          "output_type": "stream",
          "name": "stdout",
          "text": [
            "1/1 [==============================] - 0s 16ms/step\n"
          ]
        },
        {
          "output_type": "execute_result",
          "data": {
            "text/plain": [
              "'not_disaster'"
            ],
            "application/vnd.google.colaboratory.intrinsic+json": {
              "type": "string"
            }
          },
          "metadata": {},
          "execution_count": 67
        }
      ]
    },
    {
      "cell_type": "code",
      "source": [
        "X_test.loc[1730,:]"
      ],
      "metadata": {
        "colab": {
          "base_uri": "https://localhost:8080/"
        },
        "outputId": "61e8e9de-3f36-475e-f3be-3bd43498ae49",
        "id": "x99hAEH-Ogjk"
      },
      "execution_count": 68,
      "outputs": [
        {
          "output_type": "execute_result",
          "data": {
            "text/plain": [
              "text              Bicycle-SUV accident in Mesick: Police say that the bicyclist entered onto West M-115 and collided with a boat... http://t.co/A9gtOPyZK8\n",
              "classification                                                                                                                                    disaster\n",
              "Name: 1730, dtype: object"
            ]
          },
          "metadata": {},
          "execution_count": 68
        }
      ]
    },
    {
      "cell_type": "code",
      "source": [
        "predictor_LR.predict('Oil prices falling but drivers could reap benefits')"
      ],
      "metadata": {
        "colab": {
          "base_uri": "https://localhost:8080/",
          "height": 53
        },
        "outputId": "6b2eac26-87ac-47cb-c992-ea05bfd7a649",
        "id": "HfBpYCqjOgjk"
      },
      "execution_count": 69,
      "outputs": [
        {
          "output_type": "stream",
          "name": "stdout",
          "text": [
            "1/1 [==============================] - 0s 17ms/step\n"
          ]
        },
        {
          "output_type": "execute_result",
          "data": {
            "text/plain": [
              "'disaster'"
            ],
            "application/vnd.google.colaboratory.intrinsic+json": {
              "type": "string"
            }
          },
          "metadata": {},
          "execution_count": 69
        }
      ]
    },
    {
      "cell_type": "code",
      "source": [
        "X_test.loc[1903,:]"
      ],
      "metadata": {
        "colab": {
          "base_uri": "https://localhost:8080/"
        },
        "outputId": "046384b3-3f56-468b-d8a2-53b106ea5fb2",
        "id": "O8rTrpLiOgjk"
      },
      "execution_count": 70,
      "outputs": [
        {
          "output_type": "execute_result",
          "data": {
            "text/plain": [
              "text              Oil prices falling but drivers could reap benefits http://t.co/QlTwhoJqYA\n",
              "classification                                                                 not_disaster\n",
              "Name: 1903, dtype: object"
            ]
          },
          "metadata": {},
          "execution_count": 70
        }
      ]
    }
  ]
}