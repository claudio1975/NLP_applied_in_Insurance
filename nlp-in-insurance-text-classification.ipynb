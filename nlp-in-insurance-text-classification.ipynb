{
 "cells": [
  {
   "cell_type": "markdown",
   "metadata": {
    "papermill": {
     "duration": 0.030333,
     "end_time": "2022-02-19T19:43:29.117505",
     "exception": false,
     "start_time": "2022-02-19T19:43:29.087172",
     "status": "completed"
    },
    "tags": []
   },
   "source": [
    "# NLP_applied_in_Insurance: Text_Classification"
   ]
  },
  {
   "cell_type": "markdown",
   "metadata": {
    "papermill": {
     "duration": 0.027927,
     "end_time": "2022-02-19T19:43:29.243701",
     "exception": false,
     "start_time": "2022-02-19T19:43:29.215774",
     "status": "completed"
    },
    "tags": []
   },
   "source": [
    "# Upload Libraries"
   ]
  },
  {
   "cell_type": "code",
   "execution_count": 2,
   "metadata": {
    "execution": {
     "iopub.execute_input": "2022-02-19T19:43:29.310722Z",
     "iopub.status.busy": "2022-02-19T19:43:29.309909Z",
     "iopub.status.idle": "2022-02-19T19:44:13.625683Z",
     "shell.execute_reply": "2022-02-19T19:44:13.624451Z",
     "shell.execute_reply.started": "2022-02-19T19:18:54.653761Z"
    },
    "papermill": {
     "duration": 44.353277,
     "end_time": "2022-02-19T19:44:13.625862",
     "exception": false,
     "start_time": "2022-02-19T19:43:29.272585",
     "status": "completed"
    },
    "tags": []
   },
   "outputs": [
    {
     "name": "stdout",
     "output_type": "stream",
     "text": [
      "Collecting ktrain\r\n",
      "  Downloading ktrain-0.29.2.tar.gz (25.3 MB)\r\n",
      "     |████████████████████████████████| 25.3 MB 888 kB/s            \r\n",
      "\u001b[?25h  Preparing metadata (setup.py) ... \u001b[?25l-\b \bdone\r\n",
      "\u001b[?25hCollecting scikit-learn==0.24.2\r\n",
      "  Downloading scikit_learn-0.24.2-cp37-cp37m-manylinux2010_x86_64.whl (22.3 MB)\r\n",
      "     |████████████████████████████████| 22.3 MB 50.2 MB/s            \r\n",
      "\u001b[?25hRequirement already satisfied: matplotlib>=3.0.0 in /opt/conda/lib/python3.7/site-packages (from ktrain) (3.5.1)\r\n",
      "Requirement already satisfied: pandas>=1.0.1 in /opt/conda/lib/python3.7/site-packages (from ktrain) (1.3.4)\r\n",
      "Requirement already satisfied: fastprogress>=0.1.21 in /opt/conda/lib/python3.7/site-packages (from ktrain) (1.0.0)\r\n",
      "Requirement already satisfied: requests in /opt/conda/lib/python3.7/site-packages (from ktrain) (2.26.0)\r\n",
      "Requirement already satisfied: joblib in /opt/conda/lib/python3.7/site-packages (from ktrain) (1.1.0)\r\n",
      "Requirement already satisfied: packaging in /opt/conda/lib/python3.7/site-packages (from ktrain) (21.3)\r\n",
      "Collecting langdetect\r\n",
      "  Downloading langdetect-1.0.9.tar.gz (981 kB)\r\n",
      "     |████████████████████████████████| 981 kB 49.3 MB/s            \r\n",
      "\u001b[?25h  Preparing metadata (setup.py) ... \u001b[?25l-\b \bdone\r\n",
      "\u001b[?25hRequirement already satisfied: jieba in /opt/conda/lib/python3.7/site-packages (from ktrain) (0.42.1)\r\n",
      "Collecting cchardet\r\n",
      "  Downloading cchardet-2.1.7-cp37-cp37m-manylinux2010_x86_64.whl (263 kB)\r\n",
      "     |████████████████████████████████| 263 kB 53.9 MB/s            \r\n",
      "\u001b[?25hRequirement already satisfied: chardet in /opt/conda/lib/python3.7/site-packages (from ktrain) (4.0.0)\r\n",
      "Collecting syntok==1.3.3\r\n",
      "  Downloading syntok-1.3.3-py3-none-any.whl (22 kB)\r\n",
      "Collecting seqeval==0.0.19\r\n",
      "  Downloading seqeval-0.0.19.tar.gz (30 kB)\r\n",
      "  Preparing metadata (setup.py) ... \u001b[?25l-\b \bdone\r\n",
      "\u001b[?25hCollecting transformers==4.10.3\r\n",
      "  Downloading transformers-4.10.3-py3-none-any.whl (2.8 MB)\r\n",
      "     |████████████████████████████████| 2.8 MB 40.8 MB/s            \r\n",
      "\u001b[?25hRequirement already satisfied: sentencepiece in /opt/conda/lib/python3.7/site-packages (from ktrain) (0.1.96)\r\n",
      "Collecting keras_bert>=0.86.0\r\n",
      "  Downloading keras-bert-0.89.0.tar.gz (25 kB)\r\n",
      "  Preparing metadata (setup.py) ... \u001b[?25l-\b \bdone\r\n",
      "\u001b[?25hCollecting whoosh\r\n",
      "  Downloading Whoosh-2.7.4-py2.py3-none-any.whl (468 kB)\r\n",
      "     |████████████████████████████████| 468 kB 51.0 MB/s            \r\n",
      "\u001b[?25hRequirement already satisfied: threadpoolctl>=2.0.0 in /opt/conda/lib/python3.7/site-packages (from scikit-learn==0.24.2->ktrain) (3.0.0)\r\n",
      "Requirement already satisfied: numpy>=1.13.3 in /opt/conda/lib/python3.7/site-packages (from scikit-learn==0.24.2->ktrain) (1.19.5)\r\n",
      "Requirement already satisfied: scipy>=0.19.1 in /opt/conda/lib/python3.7/site-packages (from scikit-learn==0.24.2->ktrain) (1.7.3)\r\n",
      "Requirement already satisfied: Keras>=2.2.4 in /opt/conda/lib/python3.7/site-packages (from seqeval==0.0.19->ktrain) (2.6.0)\r\n",
      "Requirement already satisfied: regex in /opt/conda/lib/python3.7/site-packages (from syntok==1.3.3->ktrain) (2021.11.10)\r\n",
      "Requirement already satisfied: filelock in /opt/conda/lib/python3.7/site-packages (from transformers==4.10.3->ktrain) (3.3.2)\r\n",
      "Requirement already satisfied: tokenizers<0.11,>=0.10.1 in /opt/conda/lib/python3.7/site-packages (from transformers==4.10.3->ktrain) (0.10.3)\r\n",
      "Requirement already satisfied: tqdm>=4.27 in /opt/conda/lib/python3.7/site-packages (from transformers==4.10.3->ktrain) (4.62.3)\r\n",
      "Requirement already satisfied: sacremoses in /opt/conda/lib/python3.7/site-packages (from transformers==4.10.3->ktrain) (0.0.46)\r\n",
      "Requirement already satisfied: importlib-metadata in /opt/conda/lib/python3.7/site-packages (from transformers==4.10.3->ktrain) (4.10.0)\r\n",
      "Requirement already satisfied: pyyaml>=5.1 in /opt/conda/lib/python3.7/site-packages (from transformers==4.10.3->ktrain) (6.0)\r\n",
      "Requirement already satisfied: huggingface-hub>=0.0.12 in /opt/conda/lib/python3.7/site-packages (from transformers==4.10.3->ktrain) (0.1.2)\r\n",
      "Collecting keras-transformer==0.40.0\r\n",
      "  Downloading keras-transformer-0.40.0.tar.gz (9.7 kB)\r\n",
      "  Preparing metadata (setup.py) ... \u001b[?25l-\b \bdone\r\n",
      "\u001b[?25hCollecting keras-pos-embd==0.13.0\r\n",
      "  Downloading keras-pos-embd-0.13.0.tar.gz (5.6 kB)\r\n",
      "  Preparing metadata (setup.py) ... \u001b[?25l-\b \bdone\r\n",
      "\u001b[?25hCollecting keras-multi-head==0.29.0\r\n",
      "  Downloading keras-multi-head-0.29.0.tar.gz (13 kB)\r\n",
      "  Preparing metadata (setup.py) ... \u001b[?25l-\b \bdone\r\n",
      "\u001b[?25hCollecting keras-layer-normalization==0.16.0\r\n",
      "  Downloading keras-layer-normalization-0.16.0.tar.gz (3.9 kB)\r\n",
      "  Preparing metadata (setup.py) ... \u001b[?25l-\b \bdone\r\n",
      "\u001b[?25hCollecting keras-position-wise-feed-forward==0.8.0\r\n",
      "  Downloading keras-position-wise-feed-forward-0.8.0.tar.gz (4.1 kB)\r\n",
      "  Preparing metadata (setup.py) ... \u001b[?25l-\b \bdone\r\n",
      "\u001b[?25hCollecting keras-embed-sim==0.10.0\r\n",
      "  Downloading keras-embed-sim-0.10.0.tar.gz (3.6 kB)\r\n",
      "  Preparing metadata (setup.py) ... \u001b[?25l-\b \bdone\r\n",
      "\u001b[?25hCollecting keras-self-attention==0.51.0\r\n",
      "  Downloading keras-self-attention-0.51.0.tar.gz (11 kB)\r\n",
      "  Preparing metadata (setup.py) ... \u001b[?25l-\b \bdone\r\n",
      "\u001b[?25hRequirement already satisfied: pyparsing>=2.2.1 in /opt/conda/lib/python3.7/site-packages (from matplotlib>=3.0.0->ktrain) (3.0.6)\r\n",
      "Requirement already satisfied: pillow>=6.2.0 in /opt/conda/lib/python3.7/site-packages (from matplotlib>=3.0.0->ktrain) (8.2.0)\r\n",
      "Requirement already satisfied: fonttools>=4.22.0 in /opt/conda/lib/python3.7/site-packages (from matplotlib>=3.0.0->ktrain) (4.28.2)\r\n",
      "Requirement already satisfied: kiwisolver>=1.0.1 in /opt/conda/lib/python3.7/site-packages (from matplotlib>=3.0.0->ktrain) (1.3.2)\r\n",
      "Requirement already satisfied: cycler>=0.10 in /opt/conda/lib/python3.7/site-packages (from matplotlib>=3.0.0->ktrain) (0.11.0)\r\n",
      "Requirement already satisfied: python-dateutil>=2.7 in /opt/conda/lib/python3.7/site-packages (from matplotlib>=3.0.0->ktrain) (2.8.0)\r\n",
      "Requirement already satisfied: pytz>=2017.3 in /opt/conda/lib/python3.7/site-packages (from pandas>=1.0.1->ktrain) (2021.3)\r\n",
      "Requirement already satisfied: six in /opt/conda/lib/python3.7/site-packages (from langdetect->ktrain) (1.16.0)\r\n",
      "Requirement already satisfied: certifi>=2017.4.17 in /opt/conda/lib/python3.7/site-packages (from requests->ktrain) (2021.10.8)\r\n",
      "Requirement already satisfied: idna<4,>=2.5 in /opt/conda/lib/python3.7/site-packages (from requests->ktrain) (3.1)\r\n",
      "Requirement already satisfied: charset-normalizer~=2.0.0 in /opt/conda/lib/python3.7/site-packages (from requests->ktrain) (2.0.8)\r\n",
      "Requirement already satisfied: urllib3<1.27,>=1.21.1 in /opt/conda/lib/python3.7/site-packages (from requests->ktrain) (1.26.7)\r\n",
      "Requirement already satisfied: typing-extensions>=3.7.4.3 in /opt/conda/lib/python3.7/site-packages (from huggingface-hub>=0.0.12->transformers==4.10.3->ktrain) (3.10.0.2)\r\n",
      "Requirement already satisfied: zipp>=0.5 in /opt/conda/lib/python3.7/site-packages (from importlib-metadata->transformers==4.10.3->ktrain) (3.6.0)\r\n",
      "Requirement already satisfied: click in /opt/conda/lib/python3.7/site-packages (from sacremoses->transformers==4.10.3->ktrain) (8.0.3)\r\n",
      "Building wheels for collected packages: ktrain, seqeval, keras-bert, keras-transformer, keras-embed-sim, keras-layer-normalization, keras-multi-head, keras-pos-embd, keras-position-wise-feed-forward, keras-self-attention, langdetect\r\n",
      "  Building wheel for ktrain (setup.py) ... \u001b[?25l-\b \b\\\b \b|\b \b/\b \b-\b \b\\\b \b|\b \bdone\r\n",
      "\u001b[?25h  Created wheel for ktrain: filename=ktrain-0.29.2-py3-none-any.whl size=25294172 sha256=83010e421d1240b0bc1b71d1eb1dc6cbc3cf46df443220ca1dcd1135f9e92513\r\n",
      "  Stored in directory: /root/.cache/pip/wheels/db/b1/ad/94fe0ceeaa8ed0319e74773cba99b6aa6192998b1035adc295\r\n",
      "  Building wheel for seqeval (setup.py) ... \u001b[?25l-\b \b\\\b \bdone\r\n",
      "\u001b[?25h  Created wheel for seqeval: filename=seqeval-0.0.19-py3-none-any.whl size=9929 sha256=da2292693589fe197a5f4b3f60e6ae14c110c36cc1415b6704a10d1ee1bc3bd1\r\n",
      "  Stored in directory: /root/.cache/pip/wheels/f5/ac/f1/4e13d7aff05c722d142b7d20a88ad63f9aab11b895411241a4\r\n",
      "  Building wheel for keras-bert (setup.py) ... \u001b[?25l-\b \b\\\b \bdone\r\n",
      "\u001b[?25h  Created wheel for keras-bert: filename=keras_bert-0.89.0-py3-none-any.whl size=33516 sha256=e86d45c631c11b04a49e5117b355f35a01e921fff5d4de23edc436b06a0249e6\r\n",
      "  Stored in directory: /root/.cache/pip/wheels/a4/e8/45/842b3a39831261aef9154b907eacbc4ac99499a99ae829b06f\r\n",
      "  Building wheel for keras-transformer (setup.py) ... \u001b[?25l-\b \b\\\b \bdone\r\n",
      "\u001b[?25h  Created wheel for keras-transformer: filename=keras_transformer-0.40.0-py3-none-any.whl size=12305 sha256=c772ef2dc51cc587d1bedf2b5e2dc57d1e0c0d1018f1f021130f6697baebd4e5\r\n",
      "  Stored in directory: /root/.cache/pip/wheels/46/68/26/692ed21edd832833c3b0a0e21615bcacd99ca458b3f9ed571f\r\n",
      "  Building wheel for keras-embed-sim (setup.py) ... \u001b[?25l-\b \b\\\b \bdone\r\n",
      "\u001b[?25h  Created wheel for keras-embed-sim: filename=keras_embed_sim-0.10.0-py3-none-any.whl size=3958 sha256=615a7e32e53a5352dfb0cbf97ab5360b8854747a8f7caf5bde9d3e4288b21b6d\r\n",
      "  Stored in directory: /root/.cache/pip/wheels/81/67/b5/d847588d075895281e1cf5590f819bd4cf076a554872268bd5\r\n",
      "  Building wheel for keras-layer-normalization (setup.py) ... \u001b[?25l-\b \b\\\b \bdone\r\n",
      "\u001b[?25h  Created wheel for keras-layer-normalization: filename=keras_layer_normalization-0.16.0-py3-none-any.whl size=4668 sha256=83eb85f0fed782b0ece2cd06bb6269e8db0788c2e46742342c0afc956c6e05f6\r\n",
      "  Stored in directory: /root/.cache/pip/wheels/85/5d/1c/2e619f594f69fbcf8bc20943b27d414871c409be053994813e\r\n",
      "  Building wheel for keras-multi-head (setup.py) ... \u001b[?25l-\b \b\\\b \bdone\r\n",
      "\u001b[?25h  Created wheel for keras-multi-head: filename=keras_multi_head-0.29.0-py3-none-any.whl size=14993 sha256=b20dc3668687a34b05c67d9556a5d7fcf2351c6319fe76349d0e8f255fbf85bc\r\n",
      "  Stored in directory: /root/.cache/pip/wheels/86/aa/3c/9d15d24005179dae08ff291ce99c754b296347817d076fd9fb\r\n",
      "  Building wheel for keras-pos-embd (setup.py) ... \u001b[?25l-\b \b\\\b \bdone\r\n",
      "\u001b[?25h  Created wheel for keras-pos-embd: filename=keras_pos_embd-0.13.0-py3-none-any.whl size=6961 sha256=59134a0e6cd8730e871c6423fbc6d353dd9afabc00c1411c74f095a8f946a800\r\n",
      "  Stored in directory: /root/.cache/pip/wheels/8d/c1/a0/dc44fcf68c857b7ff6be9a97e675e5adf51022eff1169b042f\r\n",
      "  Building wheel for keras-position-wise-feed-forward (setup.py) ... \u001b[?25l-\b \b\\\b \bdone\r\n",
      "\u001b[?25h  Created wheel for keras-position-wise-feed-forward: filename=keras_position_wise_feed_forward-0.8.0-py3-none-any.whl size=4982 sha256=b094d19987a90f48cf39ef3690f45d641911a1076775f75c2b80000455b75202\r\n",
      "  Stored in directory: /root/.cache/pip/wheels/c2/75/6f/d42f6e051506f442daeba53ff1e2d21a5f20ef8c411610f2bb\r\n",
      "  Building wheel for keras-self-attention (setup.py) ... \u001b[?25l-\b \b\\\b \bdone\r\n",
      "\u001b[?25h  Created wheel for keras-self-attention: filename=keras_self_attention-0.51.0-py3-none-any.whl size=18913 sha256=4c83a30d2f6963290ffb598fa453f57c6a2662bf4c9ad6dc3cbb04c62375e5c3\r\n",
      "  Stored in directory: /root/.cache/pip/wheels/95/b1/a8/5ee00cc137940b2f6fa198212e8f45d813d0e0d9c3a04035a3\r\n",
      "  Building wheel for langdetect (setup.py) ... \u001b[?25l-\b \b\\\b \b|\b \b/\b \bdone\r\n",
      "\u001b[?25h  Created wheel for langdetect: filename=langdetect-1.0.9-py3-none-any.whl size=993242 sha256=4c83b34e052a60d0610b713d29ba56e5a0d93ee9753837e572fe93e9df2f67aa\r\n",
      "  Stored in directory: /root/.cache/pip/wheels/c5/96/8a/f90c59ed25d75e50a8c10a1b1c2d4c402e4dacfa87f3aff36a\r\n",
      "Successfully built ktrain seqeval keras-bert keras-transformer keras-embed-sim keras-layer-normalization keras-multi-head keras-pos-embd keras-position-wise-feed-forward keras-self-attention langdetect\r\n",
      "Installing collected packages: keras-self-attention, keras-position-wise-feed-forward, keras-pos-embd, keras-multi-head, keras-layer-normalization, keras-embed-sim, keras-transformer, whoosh, transformers, syntok, seqeval, scikit-learn, langdetect, keras-bert, cchardet, ktrain\r\n",
      "  Attempting uninstall: transformers\r\n",
      "    Found existing installation: transformers 4.12.5\r\n",
      "    Uninstalling transformers-4.12.5:\r\n",
      "      Successfully uninstalled transformers-4.12.5\r\n",
      "  Attempting uninstall: scikit-learn\r\n",
      "    Found existing installation: scikit-learn 0.23.2\r\n",
      "    Uninstalling scikit-learn-0.23.2:\r\n",
      "      Successfully uninstalled scikit-learn-0.23.2\r\n",
      "\u001b[31mERROR: pip's dependency resolver does not currently take into account all the packages that are installed. This behaviour is the source of the following dependency conflicts.\r\n",
      "tsfresh 0.19.0 requires statsmodels>=0.13, but you have statsmodels 0.12.2 which is incompatible.\r\n",
      "pdpbox 0.2.1 requires matplotlib==3.1.1, but you have matplotlib 3.5.1 which is incompatible.\r\n",
      "hypertools 0.7.0 requires scikit-learn!=0.22,<0.24,>=0.19.1, but you have scikit-learn 0.24.2 which is incompatible.\u001b[0m\r\n",
      "Successfully installed cchardet-2.1.7 keras-bert-0.89.0 keras-embed-sim-0.10.0 keras-layer-normalization-0.16.0 keras-multi-head-0.29.0 keras-pos-embd-0.13.0 keras-position-wise-feed-forward-0.8.0 keras-self-attention-0.51.0 keras-transformer-0.40.0 ktrain-0.29.2 langdetect-1.0.9 scikit-learn-0.24.2 seqeval-0.0.19 syntok-1.3.3 transformers-4.10.3 whoosh-2.7.4\r\n",
      "\u001b[33mWARNING: Running pip as the 'root' user can result in broken permissions and conflicting behaviour with the system package manager. It is recommended to use a virtual environment instead: https://pip.pypa.io/warnings/venv\u001b[0m\r\n"
     ]
    }
   ],
   "source": [
    "!pip install ktrain"
   ]
  },
  {
   "cell_type": "code",
   "execution_count": 3,
   "metadata": {
    "execution": {
     "iopub.execute_input": "2022-02-19T19:44:13.873084Z",
     "iopub.status.busy": "2022-02-19T19:44:13.872292Z",
     "iopub.status.idle": "2022-02-19T19:44:21.400203Z",
     "shell.execute_reply": "2022-02-19T19:44:21.399634Z",
     "shell.execute_reply.started": "2022-02-19T19:19:02.210274Z"
    },
    "papermill": {
     "duration": 7.652501,
     "end_time": "2022-02-19T19:44:21.400337",
     "exception": false,
     "start_time": "2022-02-19T19:44:13.747836",
     "status": "completed"
    },
    "tags": []
   },
   "outputs": [
    {
     "name": "stdout",
     "output_type": "stream",
     "text": [
      "Requirement already satisfied: langdetect in /opt/conda/lib/python3.7/site-packages (1.0.9)\r\n",
      "Requirement already satisfied: six in /opt/conda/lib/python3.7/site-packages (from langdetect) (1.16.0)\r\n",
      "\u001b[33mWARNING: Running pip as the 'root' user can result in broken permissions and conflicting behaviour with the system package manager. It is recommended to use a virtual environment instead: https://pip.pypa.io/warnings/venv\u001b[0m\r\n"
     ]
    }
   ],
   "source": [
    "!pip install langdetect"
   ]
  },
  {
   "cell_type": "code",
   "execution_count": 4,
   "metadata": {
    "execution": {
     "iopub.execute_input": "2022-02-19T19:44:21.567132Z",
     "iopub.status.busy": "2022-02-19T19:44:21.566216Z",
     "iopub.status.idle": "2022-02-19T19:44:34.049105Z",
     "shell.execute_reply": "2022-02-19T19:44:34.048406Z",
     "shell.execute_reply.started": "2022-02-19T19:19:09.685673Z"
    },
    "papermill": {
     "duration": 12.574039,
     "end_time": "2022-02-19T19:44:34.049270",
     "exception": false,
     "start_time": "2022-02-19T19:44:21.475231",
     "status": "completed"
    },
    "tags": []
   },
   "outputs": [
    {
     "name": "stdout",
     "output_type": "stream",
     "text": [
      "/kaggle/input/nlp-getting-started/sample_submission.csv\n",
      "/kaggle/input/nlp-getting-started/train.csv\n",
      "/kaggle/input/nlp-getting-started/test.csv\n"
     ]
    }
   ],
   "source": [
    "from numpy.random import seed\n",
    "seed(1)\n",
    "import tensorflow.keras\n",
    "tensorflow.random.set_seed(2)\n",
    "import os\n",
    "os.environ['PYTHONHASHSEED'] = str(0)\n",
    "TF_DETERMINISTIC_OPS=1\n",
    "\n",
    "import pandas as pd\n",
    "import numpy as np\n",
    "import sklearn\n",
    "from sklearn.model_selection import train_test_split\n",
    "from sklearn.metrics import roc_auc_score, f1_score, accuracy_score\n",
    "from sklearn.metrics import auc, roc_curve\n",
    "import matplotlib.pyplot as plt\n",
    "import seaborn as sns\n",
    "import wordcloud\n",
    "from sklearn.metrics import confusion_matrix\n",
    "import ktrain\n",
    "from ktrain import text\n",
    "import re\n",
    "import string\n",
    "import nltk\n",
    "from nltk.tokenize import word_tokenize\n",
    "import gensim\n",
    "from nltk.corpus import stopwords\n",
    "from gensim.models import Word2Vec \n",
    "from gensim.parsing.preprocessing import remove_stopwords\n",
    "import gensim.downloader as gensim_api\n",
    "import langdetect \n",
    "import spacy\n",
    "from spacy import displacy\n",
    "import collections\n",
    "from collections import Counter\n",
    "import en_core_web_sm\n",
    "from sklearn import feature_extraction, manifold\n",
    "from sklearn.feature_extraction.text import CountVectorizer, TfidfVectorizer\n",
    "from sklearn.decomposition import LatentDirichletAllocation\n",
    "#from sklearn.decomposition import PCA\n",
    "#from sklearn.cluster import KMeans\n",
    "\n",
    "import os\n",
    "for dirname, _, filenames in os.walk('/kaggle/input'):\n",
    "    for filename in filenames:\n",
    "        print(os.path.join(dirname, filename))\n"
   ]
  },
  {
   "cell_type": "markdown",
   "metadata": {
    "papermill": {
     "duration": 0.073888,
     "end_time": "2022-02-19T19:44:34.197967",
     "exception": false,
     "start_time": "2022-02-19T19:44:34.124079",
     "status": "completed"
    },
    "tags": []
   },
   "source": [
    "# Requirements"
   ]
  },
  {
   "cell_type": "code",
   "execution_count": 5,
   "metadata": {
    "execution": {
     "iopub.execute_input": "2022-02-19T19:44:34.354172Z",
     "iopub.status.busy": "2022-02-19T19:44:34.352888Z",
     "iopub.status.idle": "2022-02-19T19:44:34.356332Z",
     "shell.execute_reply": "2022-02-19T19:44:34.356779Z",
     "shell.execute_reply.started": "2022-02-19T19:19:09.843511Z"
    },
    "papermill": {
     "duration": 0.084529,
     "end_time": "2022-02-19T19:44:34.356937",
     "exception": false,
     "start_time": "2022-02-19T19:44:34.272408",
     "status": "completed"
    },
    "tags": []
   },
   "outputs": [
    {
     "name": "stdout",
     "output_type": "stream",
     "text": [
      "1.19.5\n"
     ]
    }
   ],
   "source": [
    "print(np.__version__)"
   ]
  },
  {
   "cell_type": "code",
   "execution_count": 6,
   "metadata": {
    "execution": {
     "iopub.execute_input": "2022-02-19T19:44:34.509921Z",
     "iopub.status.busy": "2022-02-19T19:44:34.509310Z",
     "iopub.status.idle": "2022-02-19T19:44:34.512189Z",
     "shell.execute_reply": "2022-02-19T19:44:34.512588Z",
     "shell.execute_reply.started": "2022-02-19T19:19:09.850076Z"
    },
    "papermill": {
     "duration": 0.081479,
     "end_time": "2022-02-19T19:44:34.512720",
     "exception": false,
     "start_time": "2022-02-19T19:44:34.431241",
     "status": "completed"
    },
    "tags": []
   },
   "outputs": [
    {
     "name": "stdout",
     "output_type": "stream",
     "text": [
      "1.3.4\n"
     ]
    }
   ],
   "source": [
    "print(pd.__version__)"
   ]
  },
  {
   "cell_type": "code",
   "execution_count": 7,
   "metadata": {
    "execution": {
     "iopub.execute_input": "2022-02-19T19:44:34.668704Z",
     "iopub.status.busy": "2022-02-19T19:44:34.667770Z",
     "iopub.status.idle": "2022-02-19T19:44:34.671471Z",
     "shell.execute_reply": "2022-02-19T19:44:34.670856Z",
     "shell.execute_reply.started": "2022-02-19T19:19:09.859193Z"
    },
    "papermill": {
     "duration": 0.084602,
     "end_time": "2022-02-19T19:44:34.671644",
     "exception": false,
     "start_time": "2022-02-19T19:44:34.587042",
     "status": "completed"
    },
    "tags": []
   },
   "outputs": [
    {
     "name": "stdout",
     "output_type": "stream",
     "text": [
      "0.24.2\n"
     ]
    }
   ],
   "source": [
    "print(sklearn.__version__)"
   ]
  },
  {
   "cell_type": "code",
   "execution_count": 8,
   "metadata": {
    "execution": {
     "iopub.execute_input": "2022-02-19T19:44:34.828477Z",
     "iopub.status.busy": "2022-02-19T19:44:34.827860Z",
     "iopub.status.idle": "2022-02-19T19:44:34.832923Z",
     "shell.execute_reply": "2022-02-19T19:44:34.831973Z",
     "shell.execute_reply.started": "2022-02-19T19:19:09.868483Z"
    },
    "papermill": {
     "duration": 0.085157,
     "end_time": "2022-02-19T19:44:34.833098",
     "exception": false,
     "start_time": "2022-02-19T19:44:34.747941",
     "status": "completed"
    },
    "tags": []
   },
   "outputs": [
    {
     "name": "stdout",
     "output_type": "stream",
     "text": [
      "0.11.2\n"
     ]
    }
   ],
   "source": [
    "print(sns.__version__)"
   ]
  },
  {
   "cell_type": "code",
   "execution_count": 9,
   "metadata": {
    "execution": {
     "iopub.execute_input": "2022-02-19T19:44:34.991972Z",
     "iopub.status.busy": "2022-02-19T19:44:34.991366Z",
     "iopub.status.idle": "2022-02-19T19:44:34.994328Z",
     "shell.execute_reply": "2022-02-19T19:44:34.994740Z",
     "shell.execute_reply.started": "2022-02-19T19:19:09.878472Z"
    },
    "papermill": {
     "duration": 0.08449,
     "end_time": "2022-02-19T19:44:34.994877",
     "exception": false,
     "start_time": "2022-02-19T19:44:34.910387",
     "status": "completed"
    },
    "tags": []
   },
   "outputs": [
    {
     "name": "stdout",
     "output_type": "stream",
     "text": [
      "2.6.0\n"
     ]
    }
   ],
   "source": [
    "print(tensorflow.keras.__version__)"
   ]
  },
  {
   "cell_type": "code",
   "execution_count": 10,
   "metadata": {
    "execution": {
     "iopub.execute_input": "2022-02-19T19:44:35.149783Z",
     "iopub.status.busy": "2022-02-19T19:44:35.149159Z",
     "iopub.status.idle": "2022-02-19T19:44:35.153639Z",
     "shell.execute_reply": "2022-02-19T19:44:35.154287Z",
     "shell.execute_reply.started": "2022-02-19T19:19:09.885218Z"
    },
    "papermill": {
     "duration": 0.084689,
     "end_time": "2022-02-19T19:44:35.154476",
     "exception": false,
     "start_time": "2022-02-19T19:44:35.069787",
     "status": "completed"
    },
    "tags": []
   },
   "outputs": [
    {
     "name": "stdout",
     "output_type": "stream",
     "text": [
      "0.29.2\n"
     ]
    }
   ],
   "source": [
    "print(ktrain.__version__)"
   ]
  },
  {
   "cell_type": "markdown",
   "metadata": {
    "papermill": {
     "duration": 0.080387,
     "end_time": "2022-02-19T19:44:35.316948",
     "exception": false,
     "start_time": "2022-02-19T19:44:35.236561",
     "status": "completed"
    },
    "tags": []
   },
   "source": [
    "# Upload data set"
   ]
  },
  {
   "cell_type": "code",
   "execution_count": 11,
   "metadata": {
    "execution": {
     "iopub.execute_input": "2022-02-19T19:44:35.585689Z",
     "iopub.status.busy": "2022-02-19T19:44:35.584781Z",
     "iopub.status.idle": "2022-02-19T19:44:35.632367Z",
     "shell.execute_reply": "2022-02-19T19:44:35.633282Z",
     "shell.execute_reply.started": "2022-02-19T19:19:09.892640Z"
    },
    "papermill": {
     "duration": 0.198463,
     "end_time": "2022-02-19T19:44:35.633455",
     "exception": false,
     "start_time": "2022-02-19T19:44:35.434992",
     "status": "completed"
    },
    "tags": []
   },
   "outputs": [],
   "source": [
    "# Reading File\n",
    "df_train = pd.read_csv('/kaggle/input/nlp-getting-started/train.csv')"
   ]
  },
  {
   "cell_type": "markdown",
   "metadata": {
    "papermill": {
     "duration": 0.127851,
     "end_time": "2022-02-19T19:44:35.889175",
     "exception": false,
     "start_time": "2022-02-19T19:44:35.761324",
     "status": "completed"
    },
    "tags": []
   },
   "source": [
    "### Language detection"
   ]
  },
  {
   "cell_type": "code",
   "execution_count": 12,
   "metadata": {
    "execution": {
     "iopub.execute_input": "2022-02-19T19:44:36.087999Z",
     "iopub.status.busy": "2022-02-19T19:44:36.087134Z",
     "iopub.status.idle": "2022-02-19T19:44:36.471579Z",
     "shell.execute_reply": "2022-02-19T19:44:36.472358Z",
     "shell.execute_reply.started": "2022-02-19T19:19:09.924397Z"
    },
    "papermill": {
     "duration": 0.470423,
     "end_time": "2022-02-19T19:44:36.472517",
     "exception": false,
     "start_time": "2022-02-19T19:44:36.002094",
     "status": "completed"
    },
    "tags": []
   },
   "outputs": [
    {
     "name": "stdout",
     "output_type": "stream",
     "text": [
      "Our Deeds are the Reason of this #earthquake May ALLAH Forgive us all  -->  en\n"
     ]
    }
   ],
   "source": [
    "txt = df_train[\"text\"].iloc[0]\n",
    "print(txt, \" --> \", langdetect.detect(txt))"
   ]
  },
  {
   "cell_type": "code",
   "execution_count": 13,
   "metadata": {
    "execution": {
     "iopub.execute_input": "2022-02-19T19:44:36.635687Z",
     "iopub.status.busy": "2022-02-19T19:44:36.634849Z",
     "iopub.status.idle": "2022-02-19T19:45:38.965970Z",
     "shell.execute_reply": "2022-02-19T19:45:38.966703Z",
     "shell.execute_reply.started": "2022-02-19T19:19:09.938401Z"
    },
    "papermill": {
     "duration": 62.417793,
     "end_time": "2022-02-19T19:45:38.966890",
     "exception": false,
     "start_time": "2022-02-19T19:44:36.549097",
     "status": "completed"
    },
    "tags": []
   },
   "outputs": [
    {
     "data": {
      "text/html": [
       "<div>\n",
       "<style scoped>\n",
       "    .dataframe tbody tr th:only-of-type {\n",
       "        vertical-align: middle;\n",
       "    }\n",
       "\n",
       "    .dataframe tbody tr th {\n",
       "        vertical-align: top;\n",
       "    }\n",
       "\n",
       "    .dataframe thead th {\n",
       "        text-align: right;\n",
       "    }\n",
       "</style>\n",
       "<table border=\"1\" class=\"dataframe\">\n",
       "  <thead>\n",
       "    <tr style=\"text-align: right;\">\n",
       "      <th></th>\n",
       "      <th>id</th>\n",
       "      <th>keyword</th>\n",
       "      <th>location</th>\n",
       "      <th>text</th>\n",
       "      <th>target</th>\n",
       "      <th>lang</th>\n",
       "    </tr>\n",
       "  </thead>\n",
       "  <tbody>\n",
       "    <tr>\n",
       "      <th>0</th>\n",
       "      <td>1</td>\n",
       "      <td>NaN</td>\n",
       "      <td>NaN</td>\n",
       "      <td>Our Deeds are the Reason of this #earthquake M...</td>\n",
       "      <td>1</td>\n",
       "      <td>en</td>\n",
       "    </tr>\n",
       "    <tr>\n",
       "      <th>1</th>\n",
       "      <td>4</td>\n",
       "      <td>NaN</td>\n",
       "      <td>NaN</td>\n",
       "      <td>Forest fire near La Ronge Sask. Canada</td>\n",
       "      <td>1</td>\n",
       "      <td>en</td>\n",
       "    </tr>\n",
       "    <tr>\n",
       "      <th>2</th>\n",
       "      <td>5</td>\n",
       "      <td>NaN</td>\n",
       "      <td>NaN</td>\n",
       "      <td>All residents asked to 'shelter in place' are ...</td>\n",
       "      <td>1</td>\n",
       "      <td>en</td>\n",
       "    </tr>\n",
       "    <tr>\n",
       "      <th>3</th>\n",
       "      <td>6</td>\n",
       "      <td>NaN</td>\n",
       "      <td>NaN</td>\n",
       "      <td>13,000 people receive #wildfires evacuation or...</td>\n",
       "      <td>1</td>\n",
       "      <td>en</td>\n",
       "    </tr>\n",
       "    <tr>\n",
       "      <th>4</th>\n",
       "      <td>7</td>\n",
       "      <td>NaN</td>\n",
       "      <td>NaN</td>\n",
       "      <td>Just got sent this photo from Ruby #Alaska as ...</td>\n",
       "      <td>1</td>\n",
       "      <td>en</td>\n",
       "    </tr>\n",
       "  </tbody>\n",
       "</table>\n",
       "</div>"
      ],
      "text/plain": [
       "   id keyword location                                               text  \\\n",
       "0   1     NaN      NaN  Our Deeds are the Reason of this #earthquake M...   \n",
       "1   4     NaN      NaN             Forest fire near La Ronge Sask. Canada   \n",
       "2   5     NaN      NaN  All residents asked to 'shelter in place' are ...   \n",
       "3   6     NaN      NaN  13,000 people receive #wildfires evacuation or...   \n",
       "4   7     NaN      NaN  Just got sent this photo from Ruby #Alaska as ...   \n",
       "\n",
       "   target lang  \n",
       "0       1   en  \n",
       "1       1   en  \n",
       "2       1   en  \n",
       "3       1   en  \n",
       "4       1   en  "
      ]
     },
     "execution_count": 13,
     "metadata": {},
     "output_type": "execute_result"
    }
   ],
   "source": [
    "df_train['lang'] = df_train[\"text\"].apply(lambda x: langdetect.detect(x) if \n",
    "                                 x.strip() != \"\" else \"\")\n",
    "df_train.head()"
   ]
  },
  {
   "cell_type": "code",
   "execution_count": 14,
   "metadata": {
    "execution": {
     "iopub.execute_input": "2022-02-19T19:45:39.147636Z",
     "iopub.status.busy": "2022-02-19T19:45:39.146804Z",
     "iopub.status.idle": "2022-02-19T19:45:39.152610Z",
     "shell.execute_reply": "2022-02-19T19:45:39.152137Z",
     "shell.execute_reply.started": "2022-02-19T19:20:10.857076Z"
    },
    "papermill": {
     "duration": 0.098646,
     "end_time": "2022-02-19T19:45:39.152742",
     "exception": false,
     "start_time": "2022-02-19T19:45:39.054096",
     "status": "completed"
    },
    "tags": []
   },
   "outputs": [],
   "source": [
    "df = df_train[df_train[\"lang\"]==\"en\"]"
   ]
  },
  {
   "cell_type": "markdown",
   "metadata": {
    "papermill": {
     "duration": 0.082875,
     "end_time": "2022-02-19T19:45:39.319264",
     "exception": false,
     "start_time": "2022-02-19T19:45:39.236389",
     "status": "completed"
    },
    "tags": []
   },
   "source": [
    "# Prepare Data sets"
   ]
  },
  {
   "cell_type": "code",
   "execution_count": 15,
   "metadata": {
    "execution": {
     "iopub.execute_input": "2022-02-19T19:45:39.484727Z",
     "iopub.status.busy": "2022-02-19T19:45:39.483822Z",
     "iopub.status.idle": "2022-02-19T19:45:39.485581Z",
     "shell.execute_reply": "2022-02-19T19:45:39.486043Z",
     "shell.execute_reply.started": "2022-02-19T19:20:10.866481Z"
    },
    "papermill": {
     "duration": 0.083983,
     "end_time": "2022-02-19T19:45:39.486192",
     "exception": false,
     "start_time": "2022-02-19T19:45:39.402209",
     "status": "completed"
    },
    "tags": []
   },
   "outputs": [],
   "source": [
    "train_docs = df.copy()"
   ]
  },
  {
   "cell_type": "code",
   "execution_count": 16,
   "metadata": {
    "execution": {
     "iopub.execute_input": "2022-02-19T19:45:39.647775Z",
     "iopub.status.busy": "2022-02-19T19:45:39.647002Z",
     "iopub.status.idle": "2022-02-19T19:45:39.656863Z",
     "shell.execute_reply": "2022-02-19T19:45:39.657339Z",
     "shell.execute_reply.started": "2022-02-19T19:20:10.875081Z"
    },
    "papermill": {
     "duration": 0.095598,
     "end_time": "2022-02-19T19:45:39.657489",
     "exception": false,
     "start_time": "2022-02-19T19:45:39.561891",
     "status": "completed"
    },
    "tags": []
   },
   "outputs": [
    {
     "data": {
      "text/html": [
       "<div>\n",
       "<style scoped>\n",
       "    .dataframe tbody tr th:only-of-type {\n",
       "        vertical-align: middle;\n",
       "    }\n",
       "\n",
       "    .dataframe tbody tr th {\n",
       "        vertical-align: top;\n",
       "    }\n",
       "\n",
       "    .dataframe thead th {\n",
       "        text-align: right;\n",
       "    }\n",
       "</style>\n",
       "<table border=\"1\" class=\"dataframe\">\n",
       "  <thead>\n",
       "    <tr style=\"text-align: right;\">\n",
       "      <th></th>\n",
       "      <th>text</th>\n",
       "      <th>target</th>\n",
       "    </tr>\n",
       "  </thead>\n",
       "  <tbody>\n",
       "    <tr>\n",
       "      <th>0</th>\n",
       "      <td>Our Deeds are the Reason of this #earthquake M...</td>\n",
       "      <td>1</td>\n",
       "    </tr>\n",
       "    <tr>\n",
       "      <th>1</th>\n",
       "      <td>Forest fire near La Ronge Sask. Canada</td>\n",
       "      <td>1</td>\n",
       "    </tr>\n",
       "    <tr>\n",
       "      <th>2</th>\n",
       "      <td>All residents asked to 'shelter in place' are ...</td>\n",
       "      <td>1</td>\n",
       "    </tr>\n",
       "    <tr>\n",
       "      <th>3</th>\n",
       "      <td>13,000 people receive #wildfires evacuation or...</td>\n",
       "      <td>1</td>\n",
       "    </tr>\n",
       "    <tr>\n",
       "      <th>4</th>\n",
       "      <td>Just got sent this photo from Ruby #Alaska as ...</td>\n",
       "      <td>1</td>\n",
       "    </tr>\n",
       "  </tbody>\n",
       "</table>\n",
       "</div>"
      ],
      "text/plain": [
       "                                                text  target\n",
       "0  Our Deeds are the Reason of this #earthquake M...       1\n",
       "1             Forest fire near La Ronge Sask. Canada       1\n",
       "2  All residents asked to 'shelter in place' are ...       1\n",
       "3  13,000 people receive #wildfires evacuation or...       1\n",
       "4  Just got sent this photo from Ruby #Alaska as ...       1"
      ]
     },
     "execution_count": 16,
     "metadata": {},
     "output_type": "execute_result"
    }
   ],
   "source": [
    "train_docs = train_docs[['text','target']]\n",
    "train_docs['text'] = train_docs['text'].astype('str')\n",
    "train_docs['target'] = train_docs['target'].astype('int')\n",
    "train_docs.head()"
   ]
  },
  {
   "cell_type": "code",
   "execution_count": 17,
   "metadata": {
    "execution": {
     "iopub.execute_input": "2022-02-19T19:45:39.820491Z",
     "iopub.status.busy": "2022-02-19T19:45:39.819620Z",
     "iopub.status.idle": "2022-02-19T19:45:39.829664Z",
     "shell.execute_reply": "2022-02-19T19:45:39.829219Z",
     "shell.execute_reply.started": "2022-02-19T19:20:10.893057Z"
    },
    "papermill": {
     "duration": 0.09462,
     "end_time": "2022-02-19T19:45:39.829790",
     "exception": false,
     "start_time": "2022-02-19T19:45:39.735170",
     "status": "completed"
    },
    "tags": []
   },
   "outputs": [
    {
     "data": {
      "text/html": [
       "<div>\n",
       "<style scoped>\n",
       "    .dataframe tbody tr th:only-of-type {\n",
       "        vertical-align: middle;\n",
       "    }\n",
       "\n",
       "    .dataframe tbody tr th {\n",
       "        vertical-align: top;\n",
       "    }\n",
       "\n",
       "    .dataframe thead th {\n",
       "        text-align: right;\n",
       "    }\n",
       "</style>\n",
       "<table border=\"1\" class=\"dataframe\">\n",
       "  <thead>\n",
       "    <tr style=\"text-align: right;\">\n",
       "      <th></th>\n",
       "      <th>text</th>\n",
       "      <th>classification</th>\n",
       "    </tr>\n",
       "  </thead>\n",
       "  <tbody>\n",
       "    <tr>\n",
       "      <th>0</th>\n",
       "      <td>Our Deeds are the Reason of this #earthquake M...</td>\n",
       "      <td>disaster</td>\n",
       "    </tr>\n",
       "    <tr>\n",
       "      <th>1</th>\n",
       "      <td>Forest fire near La Ronge Sask. Canada</td>\n",
       "      <td>disaster</td>\n",
       "    </tr>\n",
       "    <tr>\n",
       "      <th>2</th>\n",
       "      <td>All residents asked to 'shelter in place' are ...</td>\n",
       "      <td>disaster</td>\n",
       "    </tr>\n",
       "    <tr>\n",
       "      <th>3</th>\n",
       "      <td>13,000 people receive #wildfires evacuation or...</td>\n",
       "      <td>disaster</td>\n",
       "    </tr>\n",
       "    <tr>\n",
       "      <th>4</th>\n",
       "      <td>Just got sent this photo from Ruby #Alaska as ...</td>\n",
       "      <td>disaster</td>\n",
       "    </tr>\n",
       "  </tbody>\n",
       "</table>\n",
       "</div>"
      ],
      "text/plain": [
       "                                                text classification\n",
       "0  Our Deeds are the Reason of this #earthquake M...       disaster\n",
       "1             Forest fire near La Ronge Sask. Canada       disaster\n",
       "2  All residents asked to 'shelter in place' are ...       disaster\n",
       "3  13,000 people receive #wildfires evacuation or...       disaster\n",
       "4  Just got sent this photo from Ruby #Alaska as ...       disaster"
      ]
     },
     "execution_count": 17,
     "metadata": {},
     "output_type": "execute_result"
    }
   ],
   "source": [
    "classification = {1:'disaster',0:'not_disaster'}\n",
    "train_docs['classification'] = train_docs['target'].map(classification)\n",
    "train_docs_ = train_docs[['text','classification']]\n",
    "# split target variable\n",
    "y = train_docs_['classification']\n",
    "train_docs_.head()\n"
   ]
  },
  {
   "cell_type": "code",
   "execution_count": 18,
   "metadata": {
    "execution": {
     "iopub.execute_input": "2022-02-19T19:45:39.999447Z",
     "iopub.status.busy": "2022-02-19T19:45:39.998558Z",
     "iopub.status.idle": "2022-02-19T19:45:40.000346Z",
     "shell.execute_reply": "2022-02-19T19:45:40.000755Z",
     "shell.execute_reply.started": "2022-02-19T19:20:10.909473Z"
    },
    "papermill": {
     "duration": 0.089146,
     "end_time": "2022-02-19T19:45:40.000891",
     "exception": false,
     "start_time": "2022-02-19T19:45:39.911745",
     "status": "completed"
    },
    "tags": []
   },
   "outputs": [],
   "source": [
    "def tt_split(X, y, test_size=0.2):\n",
    "\n",
    "    i = int((1 - test_size) * X.shape[0]) \n",
    "    o = np.random.permutation(X.shape[0])\n",
    "    \n",
    "    X_train, X_test = np.split(np.take(X,o,axis=0), [i])\n",
    "    y_train, y_test = np.split(np.take(y,o), [i])\n",
    "    return X_train, X_test, y_train, y_test"
   ]
  },
  {
   "cell_type": "code",
   "execution_count": 19,
   "metadata": {
    "execution": {
     "iopub.execute_input": "2022-02-19T19:45:40.165310Z",
     "iopub.status.busy": "2022-02-19T19:45:40.164440Z",
     "iopub.status.idle": "2022-02-19T19:45:40.171259Z",
     "shell.execute_reply": "2022-02-19T19:45:40.171744Z",
     "shell.execute_reply.started": "2022-02-19T19:20:10.918689Z"
    },
    "papermill": {
     "duration": 0.091104,
     "end_time": "2022-02-19T19:45:40.171902",
     "exception": false,
     "start_time": "2022-02-19T19:45:40.080798",
     "status": "completed"
    },
    "tags": []
   },
   "outputs": [],
   "source": [
    "X_train_, X_test, y_train_, y_test = tt_split(train_docs_,y)"
   ]
  },
  {
   "cell_type": "code",
   "execution_count": 20,
   "metadata": {
    "execution": {
     "iopub.execute_input": "2022-02-19T19:45:40.345139Z",
     "iopub.status.busy": "2022-02-19T19:45:40.344420Z",
     "iopub.status.idle": "2022-02-19T19:45:40.347467Z",
     "shell.execute_reply": "2022-02-19T19:45:40.347891Z",
     "shell.execute_reply.started": "2022-02-19T19:23:13.714021Z"
    },
    "papermill": {
     "duration": 0.097015,
     "end_time": "2022-02-19T19:45:40.348052",
     "exception": false,
     "start_time": "2022-02-19T19:45:40.251037",
     "status": "completed"
    },
    "tags": []
   },
   "outputs": [
    {
     "data": {
      "text/html": [
       "<div>\n",
       "<style scoped>\n",
       "    .dataframe tbody tr th:only-of-type {\n",
       "        vertical-align: middle;\n",
       "    }\n",
       "\n",
       "    .dataframe tbody tr th {\n",
       "        vertical-align: top;\n",
       "    }\n",
       "\n",
       "    .dataframe thead th {\n",
       "        text-align: right;\n",
       "    }\n",
       "</style>\n",
       "<table border=\"1\" class=\"dataframe\">\n",
       "  <thead>\n",
       "    <tr style=\"text-align: right;\">\n",
       "      <th></th>\n",
       "      <th>text</th>\n",
       "      <th>classification</th>\n",
       "    </tr>\n",
       "  </thead>\n",
       "  <tbody>\n",
       "    <tr>\n",
       "      <th>2624</th>\n",
       "      <td>#Putin decree results in destruction of 10 ton...</td>\n",
       "      <td>disaster</td>\n",
       "    </tr>\n",
       "    <tr>\n",
       "      <th>1421</th>\n",
       "      <td>Stay tuned or don't idc #casualties http://t.c...</td>\n",
       "      <td>not_disaster</td>\n",
       "    </tr>\n",
       "    <tr>\n",
       "      <th>3848</th>\n",
       "      <td>I'll cry until my pity party's in flames ????</td>\n",
       "      <td>not_disaster</td>\n",
       "    </tr>\n",
       "    <tr>\n",
       "      <th>4200</th>\n",
       "      <td>95-03 BMW 528 530 540 740 Emergency Warning Ha...</td>\n",
       "      <td>not_disaster</td>\n",
       "    </tr>\n",
       "    <tr>\n",
       "      <th>5107</th>\n",
       "      <td>The president spoke of Kennedy's diplomacy to ...</td>\n",
       "      <td>disaster</td>\n",
       "    </tr>\n",
       "    <tr>\n",
       "      <th>...</th>\n",
       "      <td>...</td>\n",
       "      <td>...</td>\n",
       "    </tr>\n",
       "    <tr>\n",
       "      <th>6507</th>\n",
       "      <td>Ended today's staff meeting with the teacher v...</td>\n",
       "      <td>not_disaster</td>\n",
       "    </tr>\n",
       "    <tr>\n",
       "      <th>6141</th>\n",
       "      <td>Apparently they're going to have a WW2 siren t...</td>\n",
       "      <td>not_disaster</td>\n",
       "    </tr>\n",
       "    <tr>\n",
       "      <th>4406</th>\n",
       "      <td>The ship has arrived safely. So it was quite u...</td>\n",
       "      <td>not_disaster</td>\n",
       "    </tr>\n",
       "    <tr>\n",
       "      <th>2081</th>\n",
       "      <td>thinking of the time that my friend bailed the...</td>\n",
       "      <td>not_disaster</td>\n",
       "    </tr>\n",
       "    <tr>\n",
       "      <th>6511</th>\n",
       "      <td>DON'T MAKE FUN OF THEM FOR TRYING\\nTO SURVIVE ...</td>\n",
       "      <td>not_disaster</td>\n",
       "    </tr>\n",
       "  </tbody>\n",
       "</table>\n",
       "<p>5859 rows × 2 columns</p>\n",
       "</div>"
      ],
      "text/plain": [
       "                                                   text classification\n",
       "2624  #Putin decree results in destruction of 10 ton...       disaster\n",
       "1421  Stay tuned or don't idc #casualties http://t.c...   not_disaster\n",
       "3848      I'll cry until my pity party's in flames ????   not_disaster\n",
       "4200  95-03 BMW 528 530 540 740 Emergency Warning Ha...   not_disaster\n",
       "5107  The president spoke of Kennedy's diplomacy to ...       disaster\n",
       "...                                                 ...            ...\n",
       "6507  Ended today's staff meeting with the teacher v...   not_disaster\n",
       "6141  Apparently they're going to have a WW2 siren t...   not_disaster\n",
       "4406  The ship has arrived safely. So it was quite u...   not_disaster\n",
       "2081  thinking of the time that my friend bailed the...   not_disaster\n",
       "6511  DON'T MAKE FUN OF THEM FOR TRYING\\nTO SURVIVE ...   not_disaster\n",
       "\n",
       "[5859 rows x 2 columns]"
      ]
     },
     "execution_count": 20,
     "metadata": {},
     "output_type": "execute_result"
    }
   ],
   "source": [
    "X_train_"
   ]
  },
  {
   "cell_type": "code",
   "execution_count": 21,
   "metadata": {
    "execution": {
     "iopub.execute_input": "2022-02-19T19:45:40.519118Z",
     "iopub.status.busy": "2022-02-19T19:45:40.518423Z",
     "iopub.status.idle": "2022-02-19T19:45:40.521266Z",
     "shell.execute_reply": "2022-02-19T19:45:40.521676Z",
     "shell.execute_reply.started": "2022-02-19T19:23:27.740629Z"
    },
    "papermill": {
     "duration": 0.090366,
     "end_time": "2022-02-19T19:45:40.521817",
     "exception": false,
     "start_time": "2022-02-19T19:45:40.431451",
     "status": "completed"
    },
    "tags": []
   },
   "outputs": [
    {
     "data": {
      "text/html": [
       "<div>\n",
       "<style scoped>\n",
       "    .dataframe tbody tr th:only-of-type {\n",
       "        vertical-align: middle;\n",
       "    }\n",
       "\n",
       "    .dataframe tbody tr th {\n",
       "        vertical-align: top;\n",
       "    }\n",
       "\n",
       "    .dataframe thead th {\n",
       "        text-align: right;\n",
       "    }\n",
       "</style>\n",
       "<table border=\"1\" class=\"dataframe\">\n",
       "  <thead>\n",
       "    <tr style=\"text-align: right;\">\n",
       "      <th></th>\n",
       "      <th>text</th>\n",
       "      <th>classification</th>\n",
       "    </tr>\n",
       "  </thead>\n",
       "  <tbody>\n",
       "    <tr>\n",
       "      <th>4170</th>\n",
       "      <td>@wwexdreamer talk to please don't harm your se...</td>\n",
       "      <td>not_disaster</td>\n",
       "    </tr>\n",
       "    <tr>\n",
       "      <th>402</th>\n",
       "      <td>#Kisii Police in Kisii hunt for students over ...</td>\n",
       "      <td>disaster</td>\n",
       "    </tr>\n",
       "    <tr>\n",
       "      <th>3615</th>\n",
       "      <td>Investigators shift focus to cause of fatal Wa...</td>\n",
       "      <td>disaster</td>\n",
       "    </tr>\n",
       "    <tr>\n",
       "      <th>2234</th>\n",
       "      <td>Vince McMahon once again a billionaire: I reme...</td>\n",
       "      <td>not_disaster</td>\n",
       "    </tr>\n",
       "    <tr>\n",
       "      <th>3549</th>\n",
       "      <td>A memorial to the millions who perished in the...</td>\n",
       "      <td>disaster</td>\n",
       "    </tr>\n",
       "    <tr>\n",
       "      <th>...</th>\n",
       "      <td>...</td>\n",
       "      <td>...</td>\n",
       "    </tr>\n",
       "    <tr>\n",
       "      <th>969</th>\n",
       "      <td>?? New Ladies Shoulder Tote #Handbag Faux Leat...</td>\n",
       "      <td>not_disaster</td>\n",
       "    </tr>\n",
       "    <tr>\n",
       "      <th>5386</th>\n",
       "      <td>Someone asked me about a monkey fist about 2 f...</td>\n",
       "      <td>not_disaster</td>\n",
       "    </tr>\n",
       "    <tr>\n",
       "      <th>4128</th>\n",
       "      <td>If you're gonna take a break at work.... you g...</td>\n",
       "      <td>not_disaster</td>\n",
       "    </tr>\n",
       "    <tr>\n",
       "      <th>255</th>\n",
       "      <td>Are souls punished withåÊannihilation? http://...</td>\n",
       "      <td>not_disaster</td>\n",
       "    </tr>\n",
       "    <tr>\n",
       "      <th>5349</th>\n",
       "      <td>Pandemonium In Aba As Woman Delivers Baby With...</td>\n",
       "      <td>not_disaster</td>\n",
       "    </tr>\n",
       "  </tbody>\n",
       "</table>\n",
       "<p>1465 rows × 2 columns</p>\n",
       "</div>"
      ],
      "text/plain": [
       "                                                   text classification\n",
       "4170  @wwexdreamer talk to please don't harm your se...   not_disaster\n",
       "402   #Kisii Police in Kisii hunt for students over ...       disaster\n",
       "3615  Investigators shift focus to cause of fatal Wa...       disaster\n",
       "2234  Vince McMahon once again a billionaire: I reme...   not_disaster\n",
       "3549  A memorial to the millions who perished in the...       disaster\n",
       "...                                                 ...            ...\n",
       "969   ?? New Ladies Shoulder Tote #Handbag Faux Leat...   not_disaster\n",
       "5386  Someone asked me about a monkey fist about 2 f...   not_disaster\n",
       "4128  If you're gonna take a break at work.... you g...   not_disaster\n",
       "255   Are souls punished withåÊannihilation? http://...   not_disaster\n",
       "5349  Pandemonium In Aba As Woman Delivers Baby With...   not_disaster\n",
       "\n",
       "[1465 rows x 2 columns]"
      ]
     },
     "execution_count": 21,
     "metadata": {},
     "output_type": "execute_result"
    }
   ],
   "source": [
    "X_test"
   ]
  },
  {
   "cell_type": "code",
   "execution_count": 22,
   "metadata": {
    "execution": {
     "iopub.execute_input": "2022-02-19T19:45:40.685922Z",
     "iopub.status.busy": "2022-02-19T19:45:40.685084Z",
     "iopub.status.idle": "2022-02-19T19:45:49.141250Z",
     "shell.execute_reply": "2022-02-19T19:45:49.140715Z",
     "shell.execute_reply.started": "2022-02-19T19:20:10.930805Z"
    },
    "papermill": {
     "duration": 8.542336,
     "end_time": "2022-02-19T19:45:49.141388",
     "exception": false,
     "start_time": "2022-02-19T19:45:40.599052",
     "status": "completed"
    },
    "tags": []
   },
   "outputs": [
    {
     "name": "stdout",
     "output_type": "stream",
     "text": [
      "['disaster', 'not_disaster']\n",
      "      disaster  not_disaster\n",
      "5154       0.0           1.0\n",
      "6667       0.0           1.0\n",
      "713        0.0           1.0\n",
      "1574       0.0           1.0\n",
      "5604       1.0           0.0\n",
      "['disaster', 'not_disaster']\n",
      "      disaster  not_disaster\n",
      "88         1.0           0.0\n",
      "7497       0.0           1.0\n",
      "2220       1.0           0.0\n",
      "7072       0.0           1.0\n",
      "6352       1.0           0.0\n",
      "downloading pretrained BERT model (uncased_L-12_H-768_A-12.zip)...\n",
      "[██████████████████████████████████████████████████]\n",
      "extracting pretrained BERT model...\n",
      "done.\n",
      "\n",
      "cleanup downloaded zip...\n",
      "done.\n",
      "\n",
      "preprocessing train...\n",
      "language: en\n"
     ]
    },
    {
     "data": {
      "text/html": [
       "done."
      ],
      "text/plain": [
       "<IPython.core.display.HTML object>"
      ]
     },
     "metadata": {},
     "output_type": "display_data"
    },
    {
     "name": "stdout",
     "output_type": "stream",
     "text": [
      "Is Multi-Label? False\n",
      "preprocessing test...\n",
      "language: en\n"
     ]
    },
    {
     "data": {
      "text/html": [
       "done."
      ],
      "text/plain": [
       "<IPython.core.display.HTML object>"
      ]
     },
     "metadata": {},
     "output_type": "display_data"
    }
   ],
   "source": [
    "(x_train, y_train), (x_val, y_val), preproc = text.texts_from_df(train_df = X_train_, \n",
    "                                                                   text_column = 'text',\n",
    "                                                                   label_columns=['classification'],\n",
    "                                                                   maxlen=100, \n",
    "                                                                   max_features=100000,\n",
    "                                                                   preprocess_mode='bert',\n",
    "                                                                   val_pct=0.2)"
   ]
  },
  {
   "cell_type": "markdown",
   "metadata": {
    "papermill": {
     "duration": 0.206817,
     "end_time": "2022-02-19T19:45:49.534831",
     "exception": false,
     "start_time": "2022-02-19T19:45:49.328014",
     "status": "completed"
    },
    "tags": []
   },
   "source": [
    "# Modelling with BERT"
   ]
  },
  {
   "cell_type": "code",
   "execution_count": 23,
   "metadata": {
    "execution": {
     "iopub.execute_input": "2022-02-19T19:45:50.141792Z",
     "iopub.status.busy": "2022-02-19T19:45:50.140909Z",
     "iopub.status.idle": "2022-02-19T19:46:03.670511Z",
     "shell.execute_reply": "2022-02-19T19:46:03.671752Z",
     "shell.execute_reply.started": "2022-02-19T19:20:13.235766Z"
    },
    "papermill": {
     "duration": 13.832269,
     "end_time": "2022-02-19T19:46:03.671975",
     "exception": false,
     "start_time": "2022-02-19T19:45:49.839706",
     "status": "completed"
    },
    "tags": []
   },
   "outputs": [
    {
     "name": "stdout",
     "output_type": "stream",
     "text": [
      "Is Multi-Label? False\n",
      "maxlen is 100\n",
      "done.\n"
     ]
    }
   ],
   "source": [
    "model = text.text_classifier(name='bert', train_data = (x_train, y_train) , preproc=preproc, metrics=['accuracy'])"
   ]
  },
  {
   "cell_type": "code",
   "execution_count": 24,
   "metadata": {
    "execution": {
     "iopub.execute_input": "2022-02-19T19:46:04.208681Z",
     "iopub.status.busy": "2022-02-19T19:46:04.204614Z",
     "iopub.status.idle": "2022-02-19T19:46:05.521132Z",
     "shell.execute_reply": "2022-02-19T19:46:05.520586Z",
     "shell.execute_reply.started": "2022-02-19T19:20:16.285762Z"
    },
    "papermill": {
     "duration": 1.557906,
     "end_time": "2022-02-19T19:46:05.521271",
     "exception": false,
     "start_time": "2022-02-19T19:46:03.963365",
     "status": "completed"
    },
    "tags": []
   },
   "outputs": [],
   "source": [
    "learner = ktrain.get_learner(model = model, \n",
    "                             train_data=(x_train, y_train), \n",
    "                             val_data=(x_val, y_val), \n",
    "                             batch_size=32, \n",
    "                             use_multiprocessing = True)"
   ]
  },
  {
   "cell_type": "code",
   "execution_count": 25,
   "metadata": {
    "execution": {
     "iopub.execute_input": "2022-02-19T19:46:05.897708Z",
     "iopub.status.busy": "2022-02-19T19:46:05.896748Z",
     "iopub.status.idle": "2022-02-19T19:47:46.869412Z",
     "shell.execute_reply": "2022-02-19T19:47:46.869904Z",
     "shell.execute_reply.started": "2022-02-19T19:20:17.199146Z"
    },
    "papermill": {
     "duration": 101.168383,
     "end_time": "2022-02-19T19:47:46.870129",
     "exception": false,
     "start_time": "2022-02-19T19:46:05.701746",
     "status": "completed"
    },
    "tags": []
   },
   "outputs": [
    {
     "name": "stdout",
     "output_type": "stream",
     "text": [
      "\n",
      "\n",
      "begin training using onecycle policy with max lr of 2e-05...\n",
      "147/147 [==============================] - 87s 454ms/step - loss: 0.4953 - accuracy: 0.7642 - val_loss: 0.4047 - val_accuracy: 0.8234\n"
     ]
    },
    {
     "data": {
      "text/plain": [
       "<keras.callbacks.History at 0x7f7a002f8b90>"
      ]
     },
     "execution_count": 25,
     "metadata": {},
     "output_type": "execute_result"
    }
   ],
   "source": [
    "learner.fit_onecycle(lr=2e-5, epochs=1,checkpoint_folder='output')"
   ]
  },
  {
   "cell_type": "code",
   "execution_count": 26,
   "metadata": {
    "execution": {
     "iopub.execute_input": "2022-02-19T19:47:47.315333Z",
     "iopub.status.busy": "2022-02-19T19:47:47.313680Z",
     "iopub.status.idle": "2022-02-19T19:47:47.315909Z",
     "shell.execute_reply": "2022-02-19T19:47:47.316363Z",
     "shell.execute_reply.started": "2022-02-19T19:21:57.290112Z"
    },
    "papermill": {
     "duration": 0.226928,
     "end_time": "2022-02-19T19:47:47.316513",
     "exception": false,
     "start_time": "2022-02-19T19:47:47.089585",
     "status": "completed"
    },
    "tags": []
   },
   "outputs": [],
   "source": [
    "predictor = ktrain.get_predictor(learner.model, preproc)"
   ]
  },
  {
   "cell_type": "code",
   "execution_count": 27,
   "metadata": {
    "execution": {
     "iopub.execute_input": "2022-02-19T19:47:47.782867Z",
     "iopub.status.busy": "2022-02-19T19:47:47.781734Z",
     "iopub.status.idle": "2022-02-19T19:47:47.799715Z",
     "shell.execute_reply": "2022-02-19T19:47:47.799167Z",
     "shell.execute_reply.started": "2022-02-19T19:21:57.298694Z"
    },
    "papermill": {
     "duration": 0.242563,
     "end_time": "2022-02-19T19:47:47.799836",
     "exception": false,
     "start_time": "2022-02-19T19:47:47.557273",
     "status": "completed"
    },
    "tags": []
   },
   "outputs": [
    {
     "name": "stdout",
     "output_type": "stream",
     "text": [
      "0 (trainable=True) : <keras.engine.input_layer.InputLayer object at 0x7f7a0ada4e10>\n",
      "1 (trainable=True) : <keras.engine.input_layer.InputLayer object at 0x7f7a0ad9d990>\n",
      "2 (trainable=True) : <keras_bert.layers.embedding.TokenEmbedding object at 0x7f7a0ada4550>\n",
      "3 (trainable=True) : <keras.layers.embeddings.Embedding object at 0x7f7a0886f9d0>\n",
      "4 (trainable=True) : <keras.layers.merge.Add object at 0x7f7a089c0b90>\n",
      "5 (trainable=True) : <keras_pos_embd.pos_embd.PositionEmbedding object at 0x7f7a089c01d0>\n",
      "6 (trainable=True) : <keras.layers.core.Dropout object at 0x7f7a08923810>\n",
      "7 (trainable=True) : <keras_layer_normalization.layer_normalization.LayerNormalization object at 0x7f7a08a428d0>\n",
      "8 (trainable=True) : <keras_multi_head.multi_head_attention.MultiHeadAttention object at 0x7f7a088e03d0>\n",
      "9 (trainable=True) : <keras.layers.core.Dropout object at 0x7f7a08a58990>\n",
      "10 (trainable=True) : <keras.layers.merge.Add object at 0x7f7a08920810>\n",
      "11 (trainable=True) : <keras_layer_normalization.layer_normalization.LayerNormalization object at 0x7f7a08a6e610>\n",
      "12 (trainable=True) : <keras_position_wise_feed_forward.feed_forward.FeedForward object at 0x7f7a088e00d0>\n",
      "13 (trainable=True) : <keras.layers.core.Dropout object at 0x7f7a08a30dd0>\n",
      "14 (trainable=True) : <keras.layers.merge.Add object at 0x7f7a08923290>\n",
      "15 (trainable=True) : <keras_layer_normalization.layer_normalization.LayerNormalization object at 0x7f7a08887090>\n",
      "16 (trainable=True) : <keras_multi_head.multi_head_attention.MultiHeadAttention object at 0x7f7a01de1b10>\n",
      "17 (trainable=True) : <keras.layers.core.Dropout object at 0x7f7a01de1e90>\n",
      "18 (trainable=True) : <keras.layers.merge.Add object at 0x7f7a08a6ebd0>\n",
      "19 (trainable=True) : <keras_layer_normalization.layer_normalization.LayerNormalization object at 0x7f7a01d666d0>\n",
      "20 (trainable=True) : <keras_position_wise_feed_forward.feed_forward.FeedForward object at 0x7f7a01ceb090>\n",
      "21 (trainable=True) : <keras.layers.core.Dropout object at 0x7f7a01df3f90>\n",
      "22 (trainable=True) : <keras.layers.merge.Add object at 0x7f7a01c73710>\n",
      "23 (trainable=True) : <keras_layer_normalization.layer_normalization.LayerNormalization object at 0x7f7a01d001d0>\n",
      "24 (trainable=True) : <keras_multi_head.multi_head_attention.MultiHeadAttention object at 0x7f7a08887250>\n",
      "25 (trainable=True) : <keras.layers.core.Dropout object at 0x7f7a08987e10>\n",
      "26 (trainable=True) : <keras.layers.merge.Add object at 0x7f7a01de19d0>\n",
      "27 (trainable=True) : <keras_layer_normalization.layer_normalization.LayerNormalization object at 0x7f7a089f7fd0>\n",
      "28 (trainable=True) : <keras_position_wise_feed_forward.feed_forward.FeedForward object at 0x7f7a089f75d0>\n",
      "29 (trainable=True) : <keras.layers.core.Dropout object at 0x7f7a08927890>\n",
      "30 (trainable=True) : <keras.layers.merge.Add object at 0x7f7a01bfa3d0>\n",
      "31 (trainable=True) : <keras_layer_normalization.layer_normalization.LayerNormalization object at 0x7f7a01ceb390>\n",
      "32 (trainable=True) : <keras_multi_head.multi_head_attention.MultiHeadAttention object at 0x7f7a01d59490>\n",
      "33 (trainable=True) : <keras.layers.core.Dropout object at 0x7f7a01d3f910>\n",
      "34 (trainable=True) : <keras.layers.merge.Add object at 0x7f7a01de1750>\n",
      "35 (trainable=True) : <keras_layer_normalization.layer_normalization.LayerNormalization object at 0x7f7a08a6e6d0>\n",
      "36 (trainable=True) : <keras_position_wise_feed_forward.feed_forward.FeedForward object at 0x7f7a01d42ed0>\n",
      "37 (trainable=True) : <keras.layers.core.Dropout object at 0x7f7a01d5e890>\n",
      "38 (trainable=True) : <keras.layers.merge.Add object at 0x7f7a08a30190>\n",
      "39 (trainable=True) : <keras_layer_normalization.layer_normalization.LayerNormalization object at 0x7f7a01c56dd0>\n",
      "40 (trainable=True) : <keras_multi_head.multi_head_attention.MultiHeadAttention object at 0x7f7a01c95f10>\n",
      "41 (trainable=True) : <keras.layers.core.Dropout object at 0x7f7a08a06f90>\n",
      "42 (trainable=True) : <keras.layers.merge.Add object at 0x7f7a01ceba10>\n",
      "43 (trainable=True) : <keras_layer_normalization.layer_normalization.LayerNormalization object at 0x7f7a01d3fd90>\n",
      "44 (trainable=True) : <keras_position_wise_feed_forward.feed_forward.FeedForward object at 0x7f7a01c95ed0>\n",
      "45 (trainable=True) : <keras.layers.core.Dropout object at 0x7f7a01de1610>\n",
      "46 (trainable=True) : <keras.layers.merge.Add object at 0x7f7a08a06210>\n",
      "47 (trainable=True) : <keras_layer_normalization.layer_normalization.LayerNormalization object at 0x7f7a01b50450>\n",
      "48 (trainable=True) : <keras_multi_head.multi_head_attention.MultiHeadAttention object at 0x7f7a01bb10d0>\n",
      "49 (trainable=True) : <keras.layers.core.Dropout object at 0x7f7a01b58f90>\n",
      "50 (trainable=True) : <keras.layers.merge.Add object at 0x7f7a01b63410>\n",
      "51 (trainable=True) : <keras_layer_normalization.layer_normalization.LayerNormalization object at 0x7f7a15f45a90>\n",
      "52 (trainable=True) : <keras_position_wise_feed_forward.feed_forward.FeedForward object at 0x7f7a088d0750>\n",
      "53 (trainable=True) : <keras.layers.core.Dropout object at 0x7f7a01ba4d50>\n",
      "54 (trainable=True) : <keras.layers.merge.Add object at 0x7f7a089a0790>\n",
      "55 (trainable=True) : <keras_layer_normalization.layer_normalization.LayerNormalization object at 0x7f7a007a7750>\n",
      "56 (trainable=True) : <keras_multi_head.multi_head_attention.MultiHeadAttention object at 0x7f7a007b2f10>\n",
      "57 (trainable=True) : <keras.layers.core.Dropout object at 0x7f7a007350d0>\n",
      "58 (trainable=True) : <keras.layers.merge.Add object at 0x7f7a0073c690>\n",
      "59 (trainable=True) : <keras_layer_normalization.layer_normalization.LayerNormalization object at 0x7f7a006c4510>\n",
      "60 (trainable=True) : <keras_position_wise_feed_forward.feed_forward.FeedForward object at 0x7f7a007b2fd0>\n",
      "61 (trainable=True) : <keras.layers.core.Dropout object at 0x7f7a006de190>\n",
      "62 (trainable=True) : <keras.layers.merge.Add object at 0x7f7a089dfcd0>\n",
      "63 (trainable=True) : <keras_layer_normalization.layer_normalization.LayerNormalization object at 0x7f7a08a6a050>\n",
      "64 (trainable=True) : <keras_multi_head.multi_head_attention.MultiHeadAttention object at 0x7f7a0067da90>\n",
      "65 (trainable=True) : <keras.layers.core.Dropout object at 0x7f7a08937890>\n",
      "66 (trainable=True) : <keras.layers.merge.Add object at 0x7f7a00686c50>\n",
      "67 (trainable=True) : <keras_layer_normalization.layer_normalization.LayerNormalization object at 0x7f7a01d02050>\n",
      "68 (trainable=True) : <keras_position_wise_feed_forward.feed_forward.FeedForward object at 0x7f7a0067dd50>\n",
      "69 (trainable=True) : <keras.layers.core.Dropout object at 0x7f7a01d025d0>\n",
      "70 (trainable=True) : <keras.layers.merge.Add object at 0x7f7a01ceb0d0>\n",
      "71 (trainable=True) : <keras_layer_normalization.layer_normalization.LayerNormalization object at 0x7f7a08a23150>\n",
      "72 (trainable=True) : <keras_multi_head.multi_head_attention.MultiHeadAttention object at 0x7f7a00600f10>\n",
      "73 (trainable=True) : <keras.layers.core.Dropout object at 0x7f7a01df3d10>\n",
      "74 (trainable=True) : <keras.layers.merge.Add object at 0x7f7a01d02110>\n",
      "75 (trainable=True) : <keras_layer_normalization.layer_normalization.LayerNormalization object at 0x7f7a005aa490>\n",
      "76 (trainable=True) : <keras_position_wise_feed_forward.feed_forward.FeedForward object at 0x7f7a01df30d0>\n",
      "77 (trainable=True) : <keras.layers.core.Dropout object at 0x7f7a08a1fbd0>\n",
      "78 (trainable=True) : <keras.layers.merge.Add object at 0x7f7a00544390>\n",
      "79 (trainable=True) : <keras_layer_normalization.layer_normalization.LayerNormalization object at 0x7f7a0055c1d0>\n",
      "80 (trainable=True) : <keras_multi_head.multi_head_attention.MultiHeadAttention object at 0x7f7a005637d0>\n",
      "81 (trainable=True) : <keras.layers.core.Dropout object at 0x7f7a01d6b850>\n",
      "82 (trainable=True) : <keras.layers.merge.Add object at 0x7f7a00571150>\n",
      "83 (trainable=True) : <keras_layer_normalization.layer_normalization.LayerNormalization object at 0x7f7a004f6090>\n",
      "84 (trainable=True) : <keras_position_wise_feed_forward.feed_forward.FeedForward object at 0x7f7a00563e50>\n",
      "85 (trainable=True) : <keras.layers.core.Dropout object at 0x7f7a00529450>\n",
      "86 (trainable=True) : <keras.layers.merge.Add object at 0x7f7a0052e410>\n",
      "87 (trainable=True) : <keras_layer_normalization.layer_normalization.LayerNormalization object at 0x7f7a004d0810>\n",
      "88 (trainable=True) : <keras_multi_head.multi_head_attention.MultiHeadAttention object at 0x7f7a0052eb50>\n",
      "89 (trainable=True) : <keras.layers.core.Dropout object at 0x7f7a004de190>\n",
      "90 (trainable=True) : <keras.layers.merge.Add object at 0x7f7a004e5310>\n",
      "91 (trainable=True) : <keras_layer_normalization.layer_normalization.LayerNormalization object at 0x7f7a003fb310>\n",
      "92 (trainable=True) : <keras_position_wise_feed_forward.feed_forward.FeedForward object at 0x7f7a004daed0>\n",
      "93 (trainable=True) : <keras.layers.core.Dropout object at 0x7f7a00405fd0>\n",
      "94 (trainable=True) : <keras.layers.merge.Add object at 0x7f7a00408dd0>\n",
      "95 (trainable=True) : <keras_layer_normalization.layer_normalization.LayerNormalization object at 0x7f7a004dee50>\n",
      "96 (trainable=True) : <keras_multi_head.multi_head_attention.MultiHeadAttention object at 0x7f7a004c60d0>\n",
      "97 (trainable=True) : <keras.layers.core.Dropout object at 0x7f7a004def90>\n",
      "98 (trainable=True) : <keras.layers.merge.Add object at 0x7f7a004c6090>\n",
      "99 (trainable=True) : <keras_layer_normalization.layer_normalization.LayerNormalization object at 0x7f7a0038fa90>\n",
      "100 (trainable=True) : <keras_position_wise_feed_forward.feed_forward.FeedForward object at 0x7f7a004c6210>\n",
      "101 (trainable=True) : <keras.layers.core.Dropout object at 0x7f7a004b7fd0>\n",
      "102 (trainable=True) : <keras.layers.merge.Add object at 0x7f7a08a9b990>\n",
      "103 (trainable=True) : <keras_layer_normalization.layer_normalization.LayerNormalization object at 0x7f7a0039ac10>\n",
      "104 (trainable=True) : <keras_bert.layers.extract.Extract object at 0x7f7a003a4990>\n",
      "105 (trainable=True) : <keras.layers.core.Dense object at 0x7f7a003074d0>\n",
      "106 (trainable=True) : <keras.layers.core.Dense object at 0x7f7a0ada4350>\n"
     ]
    }
   ],
   "source": [
    "learner.print_layers()"
   ]
  },
  {
   "cell_type": "code",
   "execution_count": 28,
   "metadata": {
    "execution": {
     "iopub.execute_input": "2022-02-19T19:47:48.277094Z",
     "iopub.status.busy": "2022-02-19T19:47:48.251040Z",
     "iopub.status.idle": "2022-02-19T19:48:17.045570Z",
     "shell.execute_reply": "2022-02-19T19:48:17.044884Z",
     "shell.execute_reply.started": "2022-02-19T19:23:43.622165Z"
    },
    "papermill": {
     "duration": 29.022645,
     "end_time": "2022-02-19T19:48:17.045700",
     "exception": false,
     "start_time": "2022-02-19T19:47:48.023055",
     "status": "completed"
    },
    "tags": []
   },
   "outputs": [],
   "source": [
    "pred_tweets_train = predictor.predict(X_train_.text.values)\n",
    "pred_tweets_train = pd.DataFrame(data=pred_tweets_train, columns=['predicted_label_train'])"
   ]
  },
  {
   "cell_type": "code",
   "execution_count": 29,
   "metadata": {
    "execution": {
     "iopub.execute_input": "2022-02-19T19:48:17.561702Z",
     "iopub.status.busy": "2022-02-19T19:48:17.547052Z",
     "iopub.status.idle": "2022-02-19T19:48:28.318235Z",
     "shell.execute_reply": "2022-02-19T19:48:28.317152Z",
     "shell.execute_reply.started": "2022-02-19T19:24:32.808399Z"
    },
    "papermill": {
     "duration": 11.055148,
     "end_time": "2022-02-19T19:48:28.318392",
     "exception": false,
     "start_time": "2022-02-19T19:48:17.263244",
     "status": "completed"
    },
    "tags": []
   },
   "outputs": [],
   "source": [
    "pred_tweets_test = predictor.predict(X_test.text.values)\n",
    "pred_tweets_test = pd.DataFrame(data=pred_tweets_test, columns=['predicted_label_test'])"
   ]
  },
  {
   "cell_type": "code",
   "execution_count": 30,
   "metadata": {
    "execution": {
     "iopub.execute_input": "2022-02-19T19:48:28.769026Z",
     "iopub.status.busy": "2022-02-19T19:48:28.768249Z",
     "iopub.status.idle": "2022-02-19T19:48:28.786803Z",
     "shell.execute_reply": "2022-02-19T19:48:28.786355Z",
     "shell.execute_reply.started": "2022-02-19T19:25:40.157993Z"
    },
    "papermill": {
     "duration": 0.243825,
     "end_time": "2022-02-19T19:48:28.786934",
     "exception": false,
     "start_time": "2022-02-19T19:48:28.543109",
     "status": "completed"
    },
    "tags": []
   },
   "outputs": [],
   "source": [
    "accuracy_tweets_train = accuracy_score(y_train_, pred_tweets_train) \n",
    "accuracy_tweets_test = accuracy_score(y_test, pred_tweets_test) \n"
   ]
  },
  {
   "cell_type": "code",
   "execution_count": 31,
   "metadata": {
    "execution": {
     "iopub.execute_input": "2022-02-19T19:48:29.229211Z",
     "iopub.status.busy": "2022-02-19T19:48:29.228535Z",
     "iopub.status.idle": "2022-02-19T19:48:29.231215Z",
     "shell.execute_reply": "2022-02-19T19:48:29.231621Z",
     "shell.execute_reply.started": "2022-02-19T19:25:42.905777Z"
    },
    "papermill": {
     "duration": 0.22508,
     "end_time": "2022-02-19T19:48:29.231757",
     "exception": false,
     "start_time": "2022-02-19T19:48:29.006677",
     "status": "completed"
    },
    "tags": []
   },
   "outputs": [
    {
     "data": {
      "text/plain": [
       "0.851510496671787"
      ]
     },
     "execution_count": 31,
     "metadata": {},
     "output_type": "execute_result"
    }
   ],
   "source": [
    "accuracy_tweets_train"
   ]
  },
  {
   "cell_type": "code",
   "execution_count": 32,
   "metadata": {
    "execution": {
     "iopub.execute_input": "2022-02-19T19:48:29.672261Z",
     "iopub.status.busy": "2022-02-19T19:48:29.671588Z",
     "iopub.status.idle": "2022-02-19T19:48:29.674257Z",
     "shell.execute_reply": "2022-02-19T19:48:29.674658Z",
     "shell.execute_reply.started": "2022-02-19T19:25:48.291090Z"
    },
    "papermill": {
     "duration": 0.226455,
     "end_time": "2022-02-19T19:48:29.674798",
     "exception": false,
     "start_time": "2022-02-19T19:48:29.448343",
     "status": "completed"
    },
    "tags": []
   },
   "outputs": [
    {
     "data": {
      "text/plain": [
       "0.8491467576791809"
      ]
     },
     "execution_count": 32,
     "metadata": {},
     "output_type": "execute_result"
    }
   ],
   "source": [
    "accuracy_tweets_test"
   ]
  },
  {
   "cell_type": "code",
   "execution_count": 33,
   "metadata": {
    "execution": {
     "iopub.execute_input": "2022-02-19T19:48:30.125645Z",
     "iopub.status.busy": "2022-02-19T19:48:30.124858Z",
     "iopub.status.idle": "2022-02-19T19:48:30.129210Z",
     "shell.execute_reply": "2022-02-19T19:48:30.129809Z",
     "shell.execute_reply.started": "2022-02-19T19:28:43.552265Z"
    },
    "papermill": {
     "duration": 0.23719,
     "end_time": "2022-02-19T19:48:30.130013",
     "exception": false,
     "start_time": "2022-02-19T19:48:29.892823",
     "status": "completed"
    },
    "tags": []
   },
   "outputs": [
    {
     "name": "stdout",
     "output_type": "stream",
     "text": [
      "Metrics on disaster classification\n"
     ]
    },
    {
     "data": {
      "text/html": [
       "<div>\n",
       "<style scoped>\n",
       "    .dataframe tbody tr th:only-of-type {\n",
       "        vertical-align: middle;\n",
       "    }\n",
       "\n",
       "    .dataframe tbody tr th {\n",
       "        vertical-align: top;\n",
       "    }\n",
       "\n",
       "    .dataframe thead th {\n",
       "        text-align: right;\n",
       "    }\n",
       "</style>\n",
       "<table border=\"1\" class=\"dataframe\">\n",
       "  <thead>\n",
       "    <tr style=\"text-align: right;\">\n",
       "      <th></th>\n",
       "      <th>model</th>\n",
       "      <th>metrics</th>\n",
       "      <th>train</th>\n",
       "      <th>test</th>\n",
       "    </tr>\n",
       "  </thead>\n",
       "  <tbody>\n",
       "    <tr>\n",
       "      <th>0</th>\n",
       "      <td>BERT_by_ktrain</td>\n",
       "      <td>Accuracy</td>\n",
       "      <td>0.85151</td>\n",
       "      <td>0.849147</td>\n",
       "    </tr>\n",
       "  </tbody>\n",
       "</table>\n",
       "</div>"
      ],
      "text/plain": [
       "            model   metrics    train      test\n",
       "0  BERT_by_ktrain  Accuracy  0.85151  0.849147"
      ]
     },
     "execution_count": 33,
     "metadata": {},
     "output_type": "execute_result"
    }
   ],
   "source": [
    "d1 = {'metrics': ['Accuracy'],\n",
    "     'model': ['BERT_by_ktrain'],\n",
    "    'train': [accuracy_tweets_train],\n",
    "    'test': [accuracy_tweets_test]\n",
    "        }\n",
    "df1 = pd.DataFrame(data=d1, columns=['model','metrics','train','test'])\n",
    "print('Metrics on disaster classification')\n",
    "df1"
   ]
  },
  {
   "cell_type": "code",
   "execution_count": 34,
   "metadata": {
    "execution": {
     "iopub.execute_input": "2022-02-19T19:48:30.610711Z",
     "iopub.status.busy": "2022-02-19T19:48:30.609791Z",
     "iopub.status.idle": "2022-02-19T19:48:30.841174Z",
     "shell.execute_reply": "2022-02-19T19:48:30.840456Z",
     "shell.execute_reply.started": "2022-02-19T19:31:21.665666Z"
    },
    "papermill": {
     "duration": 0.490675,
     "end_time": "2022-02-19T19:48:30.841305",
     "exception": false,
     "start_time": "2022-02-19T19:48:30.350630",
     "status": "completed"
    },
    "tags": []
   },
   "outputs": [
    {
     "data": {
      "image/png": "[encoded data removed]",
      "text/plain": [
       "<Figure size 432x288 with 2 Axes>"
      ]
     },
     "metadata": {
      "needs_background": "light"
     },
     "output_type": "display_data"
    }
   ],
   "source": [
    "# Plot confusion matrix\n",
    "cm = confusion_matrix(y_train_, pred_tweets_train)\n",
    "sns.heatmap(cm, annot=True, fmt='d', cmap=plt.cm.Blues, cbar=True)\n",
    "plt.title(\"Confusion Matrix on train\")\n",
    "plt.xlabel('Predicted')\n",
    "plt.ylabel('True label')\n",
    "plt.yticks(rotation=0)\n",
    "plt.show()"
   ]
  },
  {
   "cell_type": "code",
   "execution_count": 35,
   "metadata": {
    "execution": {
     "iopub.execute_input": "2022-02-19T19:48:31.295817Z",
     "iopub.status.busy": "2022-02-19T19:48:31.294819Z",
     "iopub.status.idle": "2022-02-19T19:48:31.501784Z",
     "shell.execute_reply": "2022-02-19T19:48:31.500738Z",
     "shell.execute_reply.started": "2022-02-19T19:33:31.665611Z"
    },
    "papermill": {
     "duration": 0.440113,
     "end_time": "2022-02-19T19:48:31.501925",
     "exception": false,
     "start_time": "2022-02-19T19:48:31.061812",
     "status": "completed"
    },
    "tags": []
   },
   "outputs": [
    {
     "data": {
      "image/png": "[encoded data removed]",
      "text/plain": [
       "<Figure size 432x288 with 2 Axes>"
      ]
     },
     "metadata": {
      "needs_background": "light"
     },
     "output_type": "display_data"
    }
   ],
   "source": [
    "# Plot confusion matrix\n",
    "cm = confusion_matrix(y_test, pred_tweets_test)\n",
    "sns.heatmap(cm, annot=True, fmt='d', cmap=plt.cm.Blues, cbar=True)\n",
    "plt.title(\"Confusion Matrix on test\")\n",
    "plt.xlabel('Predicted')\n",
    "plt.ylabel('True label')\n",
    "plt.yticks(rotation=0)\n",
    "plt.show()"
   ]
  },
  {
   "cell_type": "markdown",
   "metadata": {
    "papermill": {
     "duration": 0.22206,
     "end_time": "2022-02-19T19:48:31.944946",
     "exception": false,
     "start_time": "2022-02-19T19:48:31.722886",
     "status": "completed"
    },
    "tags": []
   },
   "source": [
    "# Inference"
   ]
  },
  {
   "cell_type": "code",
   "execution_count": 36,
   "metadata": {
    "execution": {
     "iopub.execute_input": "2022-02-19T19:48:32.391776Z",
     "iopub.status.busy": "2022-02-19T19:48:32.390927Z",
     "iopub.status.idle": "2022-02-19T19:48:32.452267Z",
     "shell.execute_reply": "2022-02-19T19:48:32.451781Z",
     "shell.execute_reply.started": "2022-02-19T19:38:09.209771Z"
    },
    "papermill": {
     "duration": 0.288204,
     "end_time": "2022-02-19T19:48:32.452404",
     "exception": false,
     "start_time": "2022-02-19T19:48:32.164200",
     "status": "completed"
    },
    "tags": []
   },
   "outputs": [
    {
     "data": {
      "text/plain": [
       "'not_disaster'"
      ]
     },
     "execution_count": 36,
     "metadata": {},
     "output_type": "execute_result"
    }
   ],
   "source": [
    "predictor.predict(\"Let's fraction the vital need for Our fatalities.  How would you break it down\")"
   ]
  },
  {
   "cell_type": "code",
   "execution_count": 37,
   "metadata": {
    "execution": {
     "iopub.execute_input": "2022-02-19T19:48:32.900896Z",
     "iopub.status.busy": "2022-02-19T19:48:32.900089Z",
     "iopub.status.idle": "2022-02-19T19:48:32.958855Z",
     "shell.execute_reply": "2022-02-19T19:48:32.958406Z",
     "shell.execute_reply.started": "2022-02-19T19:38:53.692015Z"
    },
    "papermill": {
     "duration": 0.285301,
     "end_time": "2022-02-19T19:48:32.959000",
     "exception": false,
     "start_time": "2022-02-19T19:48:32.673699",
     "status": "completed"
    },
    "tags": []
   },
   "outputs": [
    {
     "data": {
      "text/plain": [
       "'not_disaster'"
      ]
     },
     "execution_count": 37,
     "metadata": {},
     "output_type": "execute_result"
    }
   ],
   "source": [
    "predictor.predict(\"How emotional are you that Ross is dead?\")"
   ]
  },
  {
   "cell_type": "code",
   "execution_count": 38,
   "metadata": {
    "execution": {
     "iopub.execute_input": "2022-02-19T19:48:33.409807Z",
     "iopub.status.busy": "2022-02-19T19:48:33.408930Z",
     "iopub.status.idle": "2022-02-19T19:48:33.463757Z",
     "shell.execute_reply": "2022-02-19T19:48:33.463280Z",
     "shell.execute_reply.started": "2022-02-19T19:40:11.389781Z"
    },
    "papermill": {
     "duration": 0.282906,
     "end_time": "2022-02-19T19:48:33.463909",
     "exception": false,
     "start_time": "2022-02-19T19:48:33.181003",
     "status": "completed"
    },
    "tags": []
   },
   "outputs": [
    {
     "data": {
      "text/plain": [
       "'not_disaster'"
      ]
     },
     "execution_count": 38,
     "metadata": {},
     "output_type": "execute_result"
    }
   ],
   "source": [
    "predictor.predict('I Will Survive by Gloria Gaynor (with Oktaviana Devi)')"
   ]
  }
 ],
 "metadata": {
  "kernelspec": {
   "display_name": "Python 3",
   "language": "python",
   "name": "python3"
  },
  "language_info": {
   "codemirror_mode": {
    "name": "ipython",
    "version": 3
   },
   "file_extension": ".py",
   "mimetype": "text/x-python",
   "name": "python",
   "nbconvert_exporter": "python",
   "pygments_lexer": "ipython3",
   "version": "3.7.4"
  },
  "papermill": {
   "default_parameters": {},
   "duration": 316.722538,
   "end_time": "2022-02-19T19:48:36.900686",
   "environment_variables": {},
   "exception": null,
   "input_path": "__notebook__.ipynb",
   "output_path": "__notebook__.ipynb",
   "parameters": {},
   "start_time": "2022-02-19T19:43:20.178148",
   "version": "2.3.3"
  }
 },
 "nbformat": 4,
 "nbformat_minor": 5
}
